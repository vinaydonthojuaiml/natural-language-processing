{
 "cells": [
  {
   "cell_type": "markdown",
   "metadata": {
    "id": "R7Xgt_KQ51l7"
   },
   "source": [
    "# <center> <font size = 24 color = 'steelblue'> <b> Document vectors"
   ]
  },
  {
   "cell_type": "markdown",
   "metadata": {},
   "source": [
    "##### <a id = 'c1'>\n",
    "<font size = 10 color = 'midnightblue'> <b> Introduction"
   ]
  },
  {
   "cell_type": "markdown",
   "metadata": {
    "id": "R7Xgt_KQ51l7"
   },
   "source": [
    "<div class=\"alert alert-block alert-success\">\n",
    "<font size = 4> \n",
    "    \n",
    "- Doc2vec allows us to directly learn the representations for texts of arbitrary lengths (phrases, sentences, paragraphs and documents), by taking the context of words in the text into account.\n",
    "- This notebook demonstrates the creation of a document vector using averaging with spaCy.\n",
    "- spaCy is a python library for natural language processing (NLP) which has a lot of built-in capabilities and features.\n",
    "- spaCy has different types of models. \"The default English language model is `en_core_web_sm`."
   ]
  },
  {
   "cell_type": "markdown",
   "metadata": {
    "id": "XriOm2yRwalI"
   },
   "source": [
    "##### <a id = 'c1'>\n",
    "<font size = 10 color = 'midnightblue'> <b>  Install packages (spaCy) and necessary dependencies"
   ]
  },
  {
   "cell_type": "code",
   "execution_count": null,
   "metadata": {
    "id": "WmYogYWd5Nsh"
   },
   "outputs": [],
   "source": [
    "!pip install spacy==2.2.4\n",
    "!python -m spacy download en_core_web_sm"
   ]
  },
  {
   "cell_type": "markdown",
   "metadata": {
    "id": "Yh1Y-rZO0rtH"
   },
   "source": [
    "<font size = 5 color = seagreen> <b> Import spacy and load the model"
   ]
  },
  {
   "cell_type": "code",
   "execution_count": null,
   "metadata": {
    "id": "E7n8Mk0dV8eE"
   },
   "outputs": [],
   "source": [
    "import spacy\n",
    "nlp = spacy.load(\"en_core_web_sm\")"
   ]
  },
  {
   "cell_type": "markdown",
   "metadata": {
    "id": "PvvNeqrS1Hyx"
   },
   "source": [
    "<font size = 5 color = seagreen> <b> Define document set.\n",
    "<div class=\"alert alert-block alert-success\">\n",
    "<font size = 4> \n",
    "    \n",
    "**Assuming each statement corresponds to a separate document**"
   ]
  },
  {
   "cell_type": "code",
   "execution_count": null,
   "metadata": {
    "id": "cvXLfRiq1E5L"
   },
   "outputs": [],
   "source": [
    "documents = [\"The analyst reviews the dataset to identify trends and patterns.\"\n",
    "             \"Data analysis helps businesses make informed decisions based on facts and figures.\",\n",
    "             \"In a research project the team gathers data for subsequent analysis.\",\n",
    "             \"Charts and graphs are used to visually represent the results of data analysis.\",\n",
    "             \"Analyzing customer feedback data provides valuable insights for product improvement.\"]"
   ]
  },
  {
   "cell_type": "code",
   "execution_count": null,
   "metadata": {
    "id": "mzTU0cJlWF8o"
   },
   "outputs": [],
   "source": [
    "processed = [doc.lower().replace(\".\",\"\") for doc in documents]\n",
    "print(\"Document After Pre-Processing:\",processed)"
   ]
  },
  {
   "cell_type": "markdown",
   "metadata": {
    "id": "UbXau0yr2Icf"
   },
   "source": [
    "<div class=\"alert alert-block alert-success\">\n",
    "<font size = 4>  <b>Iterate over each document and instantiate an nlp instance."
   ]
  },
  {
   "cell_type": "code",
   "execution_count": null,
   "metadata": {
    "id": "DK0hs0oE1bvk"
   },
   "outputs": [],
   "source": [
    "for doc in processed:\n",
    "    # Create a spacy object which is a container for accessing linguistic annotations.\n",
    "    oc_nlp = nlp(doc)\n",
    "    print(\"-\"*30)\n",
    "\n",
    "    # This gives the average vector of each document.\n",
    "    print(\"Average Vector of '{}'\\n\".format(doc),doc_nlp.vector)\n",
    "\n",
    "    # This gives the text of each word in the doc and their respective vectors.\n",
    "    for token in doc_nlp:\n",
    "        print()\n",
    "        print(token.text,token.vector)\n"
   ]
  },
  {
   "cell_type": "code",
   "execution_count": null,
   "metadata": {
    "id": "E4XmVCld18Qd"
   },
   "outputs": [],
   "source": []
  }
 ],
 "metadata": {
  "colab": {
   "provenance": []
  },
  "kernelspec": {
   "display_name": "Python 3 (ipykernel)",
   "language": "python",
   "name": "python3"
  },
  "language_info": {
   "codemirror_mode": {
    "name": "ipython",
    "version": 3
   },
   "file_extension": ".py",
   "mimetype": "text/x-python",
   "name": "python",
   "nbconvert_exporter": "python",
   "pygments_lexer": "ipython3",
   "version": "3.11.5"
  }
 },
 "nbformat": 4,
 "nbformat_minor": 4
}
