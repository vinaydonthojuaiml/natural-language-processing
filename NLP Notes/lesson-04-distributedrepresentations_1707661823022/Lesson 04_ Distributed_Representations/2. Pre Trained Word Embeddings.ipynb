{
 "cells": [
  {
   "cell_type": "markdown",
   "metadata": {
    "id": "a5bkrz_obVSe"
   },
   "source": [
    "# <center> <font size = 24 color = 'steelblue'> <b> Pre-trained word embedding model from gensim"
   ]
  },
  {
   "cell_type": "markdown",
   "metadata": {
    "id": "a5bkrz_obVSe"
   },
   "source": [
    "<div class=\"alert alert-block alert-info\">\n",
    "    \n",
    "<font size = 4> \n",
    "    \n",
    "**This notebook demonstrates representation of text using pre-trained word embedding models.**"
   ]
  },
  {
   "cell_type": "markdown",
   "metadata": {},
   "source": [
    "# <a id= 'w0'> \n",
    "<font size = 4>\n",
    "    \n",
    "**Table of contents:**<br>\n",
    "[1. Installation and import of necessary packages](#w1)<br>\n",
    "[2. Model implementation](#w2)<br>\n",
    "[3. Load the embedding model](#w3)<br>\n",
    "\n",
    "    "
   ]
  },
  {
   "cell_type": "markdown",
   "metadata": {
    "id": "z89NDA-ToPnT"
   },
   "source": [
    "<font size =5 color = 'seagreen'> \n",
    "    \n",
    "Using a pre-trained word2vec model to look for most similar words.\n",
    "    \n",
    "<b>For this demonstration, `Google News vectors embeddings` are used."
   ]
  },
  {
   "cell_type": "markdown",
   "metadata": {
    "id": "Y3mjPTw1bVSk",
    "tags": []
   },
   "source": [
    "##### <a id = 'w1'>\n",
    "<font size = 10 color = 'midnightblue'> <b>Installation and import of necessary packages"
   ]
  },
  {
   "cell_type": "code",
   "execution_count": null,
   "metadata": {
    "id": "M67YxxILbVSk",
    "tags": []
   },
   "outputs": [],
   "source": [
    "!pip install scikit-learn\n",
    "!pip install gensim\n",
    "!pip install spacy\n",
    "!python -m spacy download en_core_web_md"
   ]
  },
  {
   "cell_type": "markdown",
   "metadata": {
    "id": "qHiGZuZJbVSm"
   },
   "source": [
    " <font size =5 color = 'seagreen'> <b> Import packages"
   ]
  },
  {
   "cell_type": "code",
   "execution_count": null,
   "metadata": {
    "ExecuteTime": {
     "end_time": "2021-04-03T11:45:44.132578Z",
     "start_time": "2021-04-03T11:45:44.115562Z"
    },
    "executionInfo": {
     "elapsed": 3374,
     "status": "ok",
     "timestamp": 1703080684202,
     "user": {
      "displayName": "Kunal Guwalani",
      "userId": "06540083485482537728"
     },
     "user_tz": -330
    },
    "id": "FTpzLd6dvB6Q",
    "tags": []
   },
   "outputs": [],
   "source": [
    "import os\n",
    "from gensim.models import Word2Vec, KeyedVectors\n",
    "\n",
    "# To suppress warnings\n",
    "import warnings #This module ignores the various types of warnings generated\n",
    "warnings.filterwarnings(\"ignore\")\n",
    "\n",
    "import spacy"
   ]
  },
  {
   "cell_type": "markdown",
   "metadata": {},
   "source": [
    "[top](#w0)"
   ]
  },
  {
   "cell_type": "markdown",
   "metadata": {
    "id": "yHsoqTFsbVSn",
    "tags": []
   },
   "source": [
    " ##### <a id = 'w2'>\n",
    "<font size = 10 color = 'midnightblue'> <b>  Model implementation"
   ]
  },
  {
   "cell_type": "markdown",
   "metadata": {
    "id": "yHsoqTFsbVSn",
    "tags": []
   },
   "source": [
    "<font size = 5 color = pwdrblue> <b> Get the word embeddings"
   ]
  },
  {
   "cell_type": "code",
   "execution_count": null,
   "metadata": {
    "executionInfo": {
     "elapsed": 609,
     "status": "ok",
     "timestamp": 1703080688618,
     "user": {
      "displayName": "Kunal Guwalani",
      "userId": "06540083485482537728"
     },
     "user_tz": -330
    },
    "id": "8E5SSm2ybVSn",
    "tags": []
   },
   "outputs": [],
   "source": [
    "path = os.getcwd()\n",
    "file_name = 'GoogleNews-vectors-negative300 (1).bin'\n",
    "pretrained_path = path + '/' + file_name"
   ]
  },
  {
   "cell_type": "markdown",
   "metadata": {
    "id": "njRGBVo-bVSo"
   },
   "source": [
    "<font size = 5 color = pwdrblue> <b> Load the model"
   ]
  },
  {
   "cell_type": "code",
   "execution_count": null,
   "metadata": {
    "id": "7ceqoIwsbVSo",
    "tags": []
   },
   "outputs": [],
   "source": [
    "w2v_model = KeyedVectors.load_word2vec_format(pretrained_path, binary=True) #load the model"
   ]
  },
  {
   "cell_type": "markdown",
   "metadata": {
    "id": "PKLHtMpPbVSp"
   },
   "source": [
    "<font size = 5 color = pwdrblue> <b> Check number of words in vocabulary"
   ]
  },
  {
   "cell_type": "code",
   "execution_count": null,
   "metadata": {
    "id": "HE4PlWlBbVSp",
    "tags": []
   },
   "outputs": [],
   "source": [
    "print(\"Number of words in vocabulary: \",len(w2v_model.index_to_key)) #Number of words in the vocabulary."
   ]
  },
  {
   "cell_type": "code",
   "execution_count": null,
   "metadata": {
    "id": "zHa5kXYCbVSp",
    "outputId": "0d58899e-3cc6-45fd-9d93-506917087d71",
    "tags": []
   },
   "outputs": [],
   "source": [
    "print(f\"First few words of the vocabulary :\\n{ w2v_model.index_to_key[:20]}\")"
   ]
  },
  {
   "cell_type": "markdown",
   "metadata": {
    "id": "wb-rFKMzbVSp"
   },
   "source": [
    "<font size = 5 color = pwdrblue> <b> Examine the model to extract most similar words for a given word like `joyful`, `solid`"
   ]
  },
  {
   "cell_type": "code",
   "execution_count": null,
   "metadata": {
    "ExecuteTime": {
     "end_time": "2021-04-03T11:46:29.336184Z",
     "start_time": "2021-04-03T11:46:26.529524Z"
    },
    "id": "ZhJ_488PoPnr",
    "outputId": "d77175db-edd1-46fa-8ca1-dccfa9142c82",
    "tags": []
   },
   "outputs": [],
   "source": [
    "w2v_model.most_similar('joyful')"
   ]
  },
  {
   "cell_type": "code",
   "execution_count": null,
   "metadata": {
    "ExecuteTime": {
     "end_time": "2021-04-03T11:46:29.509126Z",
     "start_time": "2021-04-03T11:46:29.337187Z"
    },
    "id": "G1Or5oG5oPn1",
    "outputId": "b455c4ef-4843-44df-a03e-eaa5962e5b0e",
    "tags": []
   },
   "outputs": [],
   "source": [
    "w2v_model.most_similar('Travel')"
   ]
  },
  {
   "cell_type": "code",
   "execution_count": null,
   "metadata": {
    "id": "ojZH2zXjbVSq",
    "outputId": "90b035c7-6ff6-41be-aa8b-3a52db47c869",
    "tags": []
   },
   "outputs": [],
   "source": [
    "w2v_model.most_similar('real-world')"
   ]
  },
  {
   "cell_type": "markdown",
   "metadata": {
    "id": "ABtIhX08bVSr"
   },
   "source": [
    "<div class=\"alert alert-block alert-success\">\n",
    "<font size = 4> \n",
    "    \n",
    "<center><b> Error occurred because the word is not present in the vocabulary.</b>\n"
   ]
  },
  {
   "cell_type": "markdown",
   "metadata": {
    "id": "H2Vy8qR8bVSr"
   },
   "source": [
    "<font size = 5 color = seagreen> <b> The below snippet can be used to manage the error and check similarity for multiple words:"
   ]
  },
  {
   "cell_type": "code",
   "execution_count": null,
   "metadata": {
    "id": "Q_Wk89c0bVSr",
    "outputId": "0655b46c-a67d-4ee9-877d-896c93cadb85",
    "tags": []
   },
   "outputs": [],
   "source": [
    "inp = \"y\"\n",
    "while inp.lower() == 'y':\n",
    "    word = input(\"Enter a word to get similar words: \")\n",
    "    try :\n",
    "        print(f\"Most similar words to '{word}' :\\n\")\n",
    "        for t in w2v_model.most_similar(word):\n",
    "            print(t)\n",
    "        print('\\n')\n",
    "    except :\n",
    "        print('Word does not exists in vocabulary!')\n",
    "    inp = input(\"Do you want to continue? (Y/N) : \")\n"
   ]
  },
  {
   "cell_type": "markdown",
   "metadata": {
    "id": "X9qhi6UmbVSr",
    "tags": []
   },
   "source": [
    "<font size = 5 color = pwdrblue> <b>  Get the word vector of any term"
   ]
  },
  {
   "cell_type": "code",
   "execution_count": null,
   "metadata": {
    "ExecuteTime": {
     "end_time": "2021-04-03T11:46:30.275722Z",
     "start_time": "2021-04-03T11:46:30.266713Z"
    },
    "id": "rtQiYOR9oPn_",
    "outputId": "7c59e834-004c-4cee-ddce-4302d23dabe6",
    "tags": []
   },
   "outputs": [],
   "source": [
    "w2v_model['beautiful']"
   ]
  },
  {
   "cell_type": "markdown",
   "metadata": {
    "id": "S8BIHwnvbVSr"
   },
   "source": [
    "<font size = 5 color = pwdrblue> <b>  Get the embeddings for a complete text"
   ]
  },
  {
   "cell_type": "markdown",
   "metadata": {
    "id": "S8BIHwnvbVSr"
   },
   "source": [
    "<div class=\"alert alert-block alert-success\">\n",
    "<font size = 4> \n",
    "    \n",
    "- A simple way is to just sum or average the embeddings for individual words.\n",
    "- Let us see a small example using another NLP library Spacy"
   ]
  },
  {
   "cell_type": "markdown",
   "metadata": {
    "tags": []
   },
   "source": [
    "[top](#w0)"
   ]
  },
  {
   "cell_type": "markdown",
   "metadata": {
    "id": "gKVD-NWRbVSs"
   },
   "source": [
    " ##### <a id = 'w3'>\n",
    "<font size = 10 color = 'midnightblue'> <b> Load the embedding model"
   ]
  },
  {
   "cell_type": "code",
   "execution_count": null,
   "metadata": {
    "id": "OVkHPOxSbVSs",
    "tags": []
   },
   "outputs": [],
   "source": [
    "# Load the english embedding\n",
    "nlp = spacy.load('en_core_web_md')"
   ]
  },
  {
   "cell_type": "code",
   "execution_count": null,
   "metadata": {
    "id": "Axetn20PbVSs",
    "outputId": "4f72c054-d9d8-447f-8924-a3af7914cd54",
    "tags": []
   },
   "outputs": [],
   "source": [
    "# Create a model object\n",
    "mydoc = nlp(\"Artificial intelligence revolutionizes industries by enhancing automation and decision-making.\")\n",
    "\n",
    "# Get the averaged vector for the entire sentence\n",
    "print(mydoc.vector)"
   ]
  }
 ],
 "metadata": {
  "colab": {
   "provenance": []
  },
  "kernelspec": {
   "display_name": "Python 3 (ipykernel)",
   "language": "python",
   "name": "python3"
  },
  "language_info": {
   "codemirror_mode": {
    "name": "ipython",
    "version": 3
   },
   "file_extension": ".py",
   "mimetype": "text/x-python",
   "name": "python",
   "nbconvert_exporter": "python",
   "pygments_lexer": "ipython3",
   "version": "3.11.5"
  }
 },
 "nbformat": 4,
 "nbformat_minor": 4
}
