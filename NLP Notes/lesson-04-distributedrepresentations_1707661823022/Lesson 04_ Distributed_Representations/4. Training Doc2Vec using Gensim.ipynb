{
 "cells": [
  {
   "cell_type": "markdown",
   "metadata": {
    "id": "NP_Xq8p7WubK"
   },
   "source": [
    "# <center> <font size = 24 color = 'steelblue'> <b> Doc2Vec"
   ]
  },
  {
   "cell_type": "markdown",
   "metadata": {
    "id": "NP_Xq8p7WubK"
   },
   "source": [
    "<div class=\"alert alert-block alert-info\">\n",
    "    \n",
    "<font size = 4> \n",
    "\n",
    "- Demonstration of Doc2Vec using a custom corpus"
   ]
  },
  {
   "cell_type": "markdown",
   "metadata": {},
   "source": [
    "# <a id= 'dv0'> \n",
    "<font size = 4>\n",
    "    \n",
    "**Table of contents:**<br>\n",
    "[1. Install and import the requirements](#dv1)<br>\n",
    "[2. Preparing the data](#dv2)<br>\n",
    "[3. Distributed bag of words version of paragraph vector (DBoW)](#dv3)<br>\n",
    "[4. Distributed memory version of paragraph vector (PV-DM)](#dv4)<br>"
   ]
  },
  {
   "cell_type": "markdown",
   "metadata": {
    "id": "tEHv6ada5Sau"
   },
   "source": [
    "##### <a id = 'dv1'>\n",
    "<font size = 10 color = 'midnightblue'> <b>Install and import the requirements"
   ]
  },
  {
   "cell_type": "code",
   "execution_count": null,
   "metadata": {
    "id": "Re8l4wPa85tb"
   },
   "outputs": [],
   "source": [
    "!pip install gensim\n",
    "!pip install spacy\n",
    "!pip install nltk"
   ]
  },
  {
   "cell_type": "markdown",
   "metadata": {
    "id": "ePx4pE-N6QfR"
   },
   "source": [
    "<font size = 5 color = seagreen> <b>Import necessary packages"
   ]
  },
  {
   "cell_type": "code",
   "execution_count": null,
   "metadata": {
    "colab": {
     "base_uri": "https://localhost:8080/"
    },
    "executionInfo": {
     "elapsed": 684,
     "status": "ok",
     "timestamp": 1701929688787,
     "user": {
      "displayName": "Shubham Pandey",
      "userId": "10645658922718505789"
     },
     "user_tz": -330
    },
    "id": "jifk_HHmvVWf",
    "outputId": "28fd2572-ecec-4105-f0b2-8cdb0510597d"
   },
   "outputs": [],
   "source": [
    "import nltk\n",
    "from nltk.tokenize import word_tokenize\n",
    "from gensim.models.doc2vec import Doc2Vec, TaggedDocument"
   ]
  },
  {
   "cell_type": "code",
   "execution_count": null,
   "metadata": {
    "id": "PZSMIYIr7C0f"
   },
   "outputs": [],
   "source": [
    "# To suppress warning messages\n",
    "import warnings\n",
    "warnings.filterwarnings('ignore')"
   ]
  },
  {
   "cell_type": "markdown",
   "metadata": {
    "id": "d1dMIBJz7PHZ"
   },
   "source": [
    "<font size = 5 color = seagreen><b> Download the necessary corpora."
   ]
  },
  {
   "cell_type": "code",
   "execution_count": null,
   "metadata": {
    "colab": {
     "base_uri": "https://localhost:8080/"
    },
    "executionInfo": {
     "elapsed": 410,
     "status": "ok",
     "timestamp": 1701929931633,
     "user": {
      "displayName": "Shubham Pandey",
      "userId": "10645658922718505789"
     },
     "user_tz": -330
    },
    "id": "PuxN4-RL64Dp",
    "outputId": "5993e8c1-5abd-457d-f31f-8e824563ead7"
   },
   "outputs": [],
   "source": [
    "nltk.download('punkt')"
   ]
  },
  {
   "cell_type": "markdown",
   "metadata": {},
   "source": [
    "[top](#dv0)"
   ]
  },
  {
   "cell_type": "markdown",
   "metadata": {},
   "source": [
    "##### <a id = 'dv2'>\n",
    "<font size = 10 color = 'midnightblue'> <b>Preparing the data"
   ]
  },
  {
   "cell_type": "markdown",
   "metadata": {
    "id": "IW6QryoI7dmC"
   },
   "source": [
    "<font size = 5 color = pwdrblue><b> Define the documents"
   ]
  },
  {
   "cell_type": "code",
   "execution_count": null,
   "metadata": {
    "id": "_hg1ZpYcJVez"
   },
   "outputs": [],
   "source": [
    "documents = [\"The analyst reviews the dataset to identify trends and patterns.\"\n",
    "             \"Data analysis helps businesses make informed decisions based on facts and figures.\",\n",
    "             \"In a research project the team gathers data for subsequent analysis.\",\n",
    "             \"Charts and graphs are used to visually represent the results of data analysis.\",\n",
    "             \"Analyzing customer feedback data provides valuable insights for product improvement.\"]"
   ]
  },
  {
   "cell_type": "markdown",
   "metadata": {
    "id": "yVoMDTcA-Ap9"
   },
   "source": [
    "<font size = 5 color = pwdrblue><b>Create tagged documents:\n",
    "<div class=\"alert alert-block alert-success\">\n",
    "    \n",
    "<font size = 4> \n",
    "    \n",
    "- The TaggedDocument function represents document along with a tag.\n",
    "- This generates data in the acceptable input format for the Doc2Vec function."
   ]
  },
  {
   "cell_type": "code",
   "execution_count": null,
   "metadata": {
    "id": "343BsPaV7rvu"
   },
   "outputs": [],
   "source": [
    "tagged_data = [TaggedDocument(words=word_tokenize(word.lower()), tags=[str(i)]) for i, word in enumerate(documents)]"
   ]
  },
  {
   "cell_type": "code",
   "execution_count": null,
   "metadata": {
    "colab": {
     "base_uri": "https://localhost:8080/"
    },
    "executionInfo": {
     "elapsed": 2,
     "status": "ok",
     "timestamp": 1701933843081,
     "user": {
      "displayName": "Shubham Pandey",
      "userId": "10645658922718505789"
     },
     "user_tz": -330
    },
    "id": "rPssbTNiwEd9",
    "outputId": "7cad1a5d-7894-4c4c-d572-4c67d7ead63c"
   },
   "outputs": [],
   "source": [
    "print(tagged_data[1])"
   ]
  },
  {
   "cell_type": "markdown",
   "metadata": {},
   "source": [
    "[top](#dv0)"
   ]
  },
  {
   "cell_type": "markdown",
   "metadata": {
    "id": "QsZMArB59BZA"
   },
   "source": [
    "##### <a id = 'dv3'>\n",
    "<font size = 10 color = 'midnightblue'> <b> Distributed bag of words version of paragraph vector (DBoW)"
   ]
  },
  {
   "cell_type": "markdown",
   "metadata": {
    "id": "QsZMArB59BZA"
   },
   "source": [
    "<div class=\"alert alert-block alert-success\">\n",
    "    \n",
    "<font size = 4> \n",
    "    \n",
    "- The model is trained to predict words randomly sampled from the paragraph (document) it is processing, without using the word order information."
   ]
  },
  {
   "cell_type": "markdown",
   "metadata": {
    "id": "stbu-okACpCS"
   },
   "source": [
    "<font size = 5 color = pwdrblue><b>  Create the model object with tagged data"
   ]
  },
  {
   "cell_type": "code",
   "execution_count": null,
   "metadata": {
    "id": "dcxU67TCwSd8"
   },
   "outputs": [],
   "source": [
    "dbow_model = Doc2Vec(tagged_data,vector_size=20, min_count=1, epochs=2,dm=0)"
   ]
  },
  {
   "cell_type": "markdown",
   "metadata": {
    "id": "3XLVOIlKD7ql"
   },
   "source": [
    "<font size = 5 color = pwdrblue><b>  Get feature vector for : \"***Data analysis identifies trends and patterns.***\""
   ]
  },
  {
   "cell_type": "code",
   "execution_count": null,
   "metadata": {
    "colab": {
     "base_uri": "https://localhost:8080/"
    },
    "executionInfo": {
     "elapsed": 2,
     "status": "ok",
     "timestamp": 1701933847309,
     "user": {
      "displayName": "Shubham Pandey",
      "userId": "10645658922718505789"
     },
     "user_tz": -330
    },
    "id": "QLkpnvcTx6T9",
    "outputId": "75da7e7d-bdb4-4e19-86f7-2a2b1a1bc342"
   },
   "outputs": [],
   "source": [
    "print(dbow_model.infer_vector([\"Data\", \"analysis\", \"identifies\", \"trends\", \"and\", \"patterns\"]))"
   ]
  },
  {
   "cell_type": "markdown",
   "metadata": {
    "id": "r9uY0_1lFWzT"
   },
   "source": [
    "<font size = 5 color = pwdrblue><b>  Get top 5 most simlar words."
   ]
  },
  {
   "cell_type": "code",
   "execution_count": null,
   "metadata": {
    "colab": {
     "base_uri": "https://localhost:8080/"
    },
    "executionInfo": {
     "elapsed": 473,
     "status": "ok",
     "timestamp": 1701933850238,
     "user": {
      "displayName": "Shubham Pandey",
      "userId": "10645658922718505789"
     },
     "user_tz": -330
    },
    "id": "1KzwAgUJzQLW",
    "outputId": "ab8bacfe-6ca0-4ef3-9ce0-d896b78f1021"
   },
   "outputs": [],
   "source": [
    "dbow_model.wv.most_similar(\"analysis\", topn=5)"
   ]
  },
  {
   "cell_type": "markdown",
   "metadata": {
    "id": "MyWYY8vNLCxT"
   },
   "source": [
    "<font size = 5 color = pwdrblue><b>  Get the cosine similarity between the two sets of documents."
   ]
  },
  {
   "cell_type": "code",
   "execution_count": null,
   "metadata": {
    "colab": {
     "base_uri": "https://localhost:8080/"
    },
    "executionInfo": {
     "elapsed": 712,
     "status": "ok",
     "timestamp": 1701934001638,
     "user": {
      "displayName": "Shubham Pandey",
      "userId": "10645658922718505789"
     },
     "user_tz": -330
    },
    "id": "myGVWgudz9mW",
    "outputId": "b7d6bc4c-6a86-4896-847d-a4626356c8a0"
   },
   "outputs": [],
   "source": [
    "dbow_model.wv.n_similarity([\"data\", \"analysis\"],[\"insights\"])"
   ]
  },
  {
   "cell_type": "markdown",
   "metadata": {},
   "source": [
    "[top](#dv0)"
   ]
  },
  {
   "cell_type": "markdown",
   "metadata": {
    "id": "gfNHT7mN9Wcu"
   },
   "source": [
    "##### <a id = 'dv4'>\n",
    "<font size = 10 color = 'midnightblue'> <b> Distributed memory version of paragraph vector (PV-DM)"
   ]
  },
  {
   "cell_type": "markdown",
   "metadata": {
    "id": "SUdamla-L42Z"
   },
   "source": [
    "<font size = 5 color = pwdrblue><b>  Create model object"
   ]
  },
  {
   "cell_type": "code",
   "execution_count": null,
   "metadata": {
    "id": "1i2Vv2uY4kqg"
   },
   "outputs": [],
   "source": [
    "dm_model = Doc2Vec(tagged_data, min_count=1, vector_size=20, epochs=2,dm=1)"
   ]
  },
  {
   "cell_type": "markdown",
   "metadata": {
    "id": "6_FgdkqXL9cC"
   },
   "source": [
    "<font size = 5 color = pwdrblue><b>  Get feature vector for : \"***Data analysis identifies trends and patterns.***\""
   ]
  },
  {
   "cell_type": "code",
   "execution_count": null,
   "metadata": {
    "colab": {
     "base_uri": "https://localhost:8080/"
    },
    "executionInfo": {
     "elapsed": 2,
     "status": "ok",
     "timestamp": 1701934465334,
     "user": {
      "displayName": "Shubham Pandey",
      "userId": "10645658922718505789"
     },
     "user_tz": -330
    },
    "id": "LDO7WopSLtwB",
    "outputId": "7017fce8-54d3-4630-8c2b-8f9bc8df38f0"
   },
   "outputs": [],
   "source": [
    "print(dm_model.infer_vector([\"Data\", \"analysis\", \"identifies\", \"trends\", \"and\", \"patterns\"]))\n"
   ]
  },
  {
   "cell_type": "markdown",
   "metadata": {
    "id": "gGz8JqmzMfbf"
   },
   "source": [
    "<font size = 5 color = pwdrblue><b>  Get top5 most similar keys to given word"
   ]
  },
  {
   "cell_type": "code",
   "execution_count": null,
   "metadata": {
    "colab": {
     "base_uri": "https://localhost:8080/"
    },
    "executionInfo": {
     "elapsed": 2,
     "status": "ok",
     "timestamp": 1701934466374,
     "user": {
      "displayName": "Shubham Pandey",
      "userId": "10645658922718505789"
     },
     "user_tz": -330
    },
    "id": "M8EGESwwMXdc",
    "outputId": "1cd402e9-a461-4cf5-f20b-cafd35ddc91a"
   },
   "outputs": [],
   "source": [
    "dm_model.wv.most_similar(\"analysis\",topn=5)\n"
   ]
  },
  {
   "cell_type": "code",
   "execution_count": null,
   "metadata": {
    "colab": {
     "base_uri": "https://localhost:8080/"
    },
    "executionInfo": {
     "elapsed": 2,
     "status": "ok",
     "timestamp": 1701934492784,
     "user": {
      "displayName": "Shubham Pandey",
      "userId": "10645658922718505789"
     },
     "user_tz": -330
    },
    "id": "T0g2uTeNMYF1",
    "outputId": "89744110-aa8d-45d4-f329-1d4318c17a18"
   },
   "outputs": [],
   "source": [
    "dm_model.wv.n_similarity([\"data\", \"analysis\"],[\"insights\"])"
   ]
  },
  {
   "cell_type": "markdown",
   "metadata": {
    "id": "NmmM7yI31gMn"
   },
   "source": [
    "<div class=\"alert alert-block alert-success\">\n",
    "    \n",
    "<font size = 4> \n",
    "\n",
    "<center> <b> What happens when we compare between words which are not in the vocabulary?"
   ]
  },
  {
   "cell_type": "code",
   "execution_count": null,
   "metadata": {
    "colab": {
     "base_uri": "https://localhost:8080/"
    },
    "executionInfo": {
     "elapsed": 2,
     "status": "ok",
     "timestamp": 1701934504870,
     "user": {
      "displayName": "Shubham Pandey",
      "userId": "10645658922718505789"
     },
     "user_tz": -330
    },
    "id": "YS-mciDx0ZiA",
    "outputId": "2ef60690-f47b-49db-8e42-c80a88140b5e"
   },
   "outputs": [],
   "source": [
    "model_dm.wv.n_similarity(['covid'],['data'])"
   ]
  },
  {
   "cell_type": "markdown",
   "metadata": {
    "id": "wfKvhnEgM-nX"
   },
   "source": [
    "<div class=\"alert alert-block alert-success\">\n",
    "    \n",
    "<font size = 4> \n",
    "    \n",
    "<center> <b>If the word is not in vocabulary the similarity score with other words will be zero.\n"
   ]
  },
  {
   "cell_type": "markdown",
   "metadata": {},
   "source": [
    "[top](#dv0)"
   ]
  }
 ],
 "metadata": {
  "colab": {
   "machine_shape": "hm",
   "provenance": []
  },
  "kernelspec": {
   "display_name": "Python 3 (ipykernel)",
   "language": "python",
   "name": "python3"
  },
  "language_info": {
   "codemirror_mode": {
    "name": "ipython",
    "version": 3
   },
   "file_extension": ".py",
   "mimetype": "text/x-python",
   "name": "python",
   "nbconvert_exporter": "python",
   "pygments_lexer": "ipython3",
   "version": "3.11.5"
  }
 },
 "nbformat": 4,
 "nbformat_minor": 4
}
