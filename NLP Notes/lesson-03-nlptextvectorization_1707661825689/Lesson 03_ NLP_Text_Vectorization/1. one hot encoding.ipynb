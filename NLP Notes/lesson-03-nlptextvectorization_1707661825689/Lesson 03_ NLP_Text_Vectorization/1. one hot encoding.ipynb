{
 "cells": [
  {
   "cell_type": "markdown",
   "id": "1710470e-e33f-4cd7-8049-353db5b05439",
   "metadata": {
    "id": "1710470e-e33f-4cd7-8049-353db5b05439",
    "tags": []
   },
   "source": [
    "# <center> <font size = 24 color = 'steelblue'> <b>One Hot Encoding"
   ]
  },
  {
   "cell_type": "markdown",
   "id": "797f7f85-5b58-469b-9ecc-3c4dc58037bc",
   "metadata": {},
   "source": [
    "# <a id= 'h0'> \n",
    "<font size = 4>\n",
    "    \n",
    "**Table of contents:**<br>\n",
    "[1. Introduction](#h1)<br>\n",
    "[2. Data acquisition and cleaning](#h2)<br>\n",
    "[3. Vocabulary generation](#h3)<br>\n",
    "[4. Creation of teh one hot encoded matrix](#h4)<br>\n",
    "[5. Display one hot encoded matrix](#h5)<br>"
   ]
  },
  {
   "cell_type": "markdown",
   "id": "475f80fb-4550-442c-a7bd-9fae5e8b6b2f",
   "metadata": {
    "tags": []
   },
   "source": [
    "## <a id = 'h1'>\n",
    "    \n",
    "<font size = 10 color = 'midnightblue'> <b> Introduction"
   ]
  },
  {
   "cell_type": "markdown",
   "id": "d7811da5-3782-4d7f-b239-e9c4ceb2ae12",
   "metadata": {
    "id": "d7811da5-3782-4d7f-b239-e9c4ceb2ae12",
    "jp-MarkdownHeadingCollapsed": true,
    "tags": []
   },
   "source": [
    "<div class=\"alert alert-block alert-success\">    \n",
    "<font size = 4> \n",
    "\n",
    "**One-hot encoding stands out as the most prevalent and fundamental method for converting a token into a vector.**<br>\n",
    "\n",
    "<b>The process involves:</b>\n",
    "  - Assigning a unique integer index to each word.\n",
    "  - Converting this integer index, denoted as 'i,' into a binary vector of size N, where N represents the vocabulary size.\n",
    "  - This vector is predominantly filled with zeros, except for the i-th entry, which is set to 1."
   ]
  },
  {
   "cell_type": "code",
   "execution_count": null,
   "id": "642e3ae2-1fc0-4458-b6a3-1bef42608ae4",
   "metadata": {
    "id": "642e3ae2-1fc0-4458-b6a3-1bef42608ae4",
    "tags": []
   },
   "outputs": [],
   "source": [
    "import re\n",
    "import pandas as pd\n",
    "from string import punctuation"
   ]
  },
  {
   "cell_type": "markdown",
   "id": "103dc62e-3cb1-4b0f-90f9-26a36e9dd5a1",
   "metadata": {
    "tags": []
   },
   "source": [
    "## <a id = 'h2'>\n",
    "    \n",
    "<font size = 10 color = 'midnightblue'> <b> Data acquisition and cleaning"
   ]
  },
  {
   "cell_type": "markdown",
   "id": "4d25a950-0c7f-4321-bbf4-c3f37372b7c6",
   "metadata": {
    "id": "4d25a950-0c7f-4321-bbf4-c3f37372b7c6"
   },
   "source": [
    "<font size = 5 color = pwdrblue> <b>  Define the set of statements"
   ]
  },
  {
   "cell_type": "code",
   "execution_count": null,
   "id": "edf61780-ffbb-4e4d-a437-c074498d84f6",
   "metadata": {
    "id": "edf61780-ffbb-4e4d-a437-c074498d84f6",
    "tags": []
   },
   "outputs": [],
   "source": [
    "dataset = [\n",
    "    \"The weather today is fantastic, with clear skies and a gentle breeze.\",\n",
    "    \"Reading is a great way to escape reality and immerse oneself in different worlds.\",\n",
    "    \"Climate change is a pressing global issue that requires immediate attention.\",\n",
    "    \"Exercise is crucial for maintaining good physical and mental health.\",\n",
    "    \"Learning a new language can be challenging but incredibly rewarding.\"\n",
    "]"
   ]
  },
  {
   "cell_type": "markdown",
   "id": "30c23f1e-b073-4ab4-8d11-1f7666f48c97",
   "metadata": {
    "id": "30c23f1e-b073-4ab4-8d11-1f7666f48c97"
   },
   "source": [
    "<font size = 5 color = pwdrblue> <b>  Remove punctuations"
   ]
  },
  {
   "cell_type": "code",
   "execution_count": null,
   "id": "5d5467de-bf86-4ad9-99be-e58178c99af2",
   "metadata": {
    "colab": {
     "base_uri": "https://localhost:8080/"
    },
    "executionInfo": {
     "elapsed": 14,
     "status": "ok",
     "timestamp": 1701073543675,
     "user": {
      "displayName": "Shubham Pandey",
      "userId": "10645658922718505789"
     },
     "user_tz": -330
    },
    "id": "5d5467de-bf86-4ad9-99be-e58178c99af2",
    "outputId": "70f1e8b7-1dae-4540-e38b-181d31a8e853",
    "tags": []
   },
   "outputs": [],
   "source": [
    "pat = re.compile('[A-Za-z][{}]+'.format(punctuation))\n",
    "new_dataset = []\n",
    "for s in dataset:\n",
    "    s = s.lower()\n",
    "    txt = re.findall(pat,s )\n",
    "    for k in txt:\n",
    "        s = s.replace(k[-1], '')\n",
    "    new_dataset.append(s)\n",
    "new_dataset"
   ]
  },
  {
   "cell_type": "markdown",
   "id": "0ecbeba6-dd2f-4182-8187-3533304a94a8",
   "metadata": {},
   "source": [
    "[top](#h0)"
   ]
  },
  {
   "cell_type": "markdown",
   "id": "b082b951-c33a-49b2-864e-c6c8634b62c8",
   "metadata": {
    "id": "b082b951-c33a-49b2-864e-c6c8634b62c8",
    "tags": []
   },
   "source": [
    "## <a id = 'h3'>  \n",
    "<font size = 10 color = 'midnightblue'> <b>  Create a set of unique words as vocabulary from documents."
   ]
  },
  {
   "cell_type": "code",
   "execution_count": null,
   "id": "b5cdf8c7-0c9d-4fcf-a541-eba74a7b671b",
   "metadata": {
    "colab": {
     "base_uri": "https://localhost:8080/"
    },
    "executionInfo": {
     "elapsed": 12,
     "status": "ok",
     "timestamp": 1701073543675,
     "user": {
      "displayName": "Shubham Pandey",
      "userId": "10645658922718505789"
     },
     "user_tz": -330
    },
    "id": "b5cdf8c7-0c9d-4fcf-a541-eba74a7b671b",
    "outputId": "64c24654-fd1c-4080-d145-cb84ef4a6304",
    "tags": []
   },
   "outputs": [],
   "source": [
    "vocab =list(set((' '.join(new_dataset)).split()))\n",
    "# Sorting the vocabulary for better management\n",
    "vocab.sort()\n",
    "print(vocab)"
   ]
  },
  {
   "cell_type": "code",
   "execution_count": null,
   "id": "ef64da51-0940-47f1-9765-ed5de6746413",
   "metadata": {
    "colab": {
     "base_uri": "https://localhost:8080/"
    },
    "executionInfo": {
     "elapsed": 8,
     "status": "ok",
     "timestamp": 1701073543675,
     "user": {
      "displayName": "Shubham Pandey",
      "userId": "10645658922718505789"
     },
     "user_tz": -330
    },
    "id": "ef64da51-0940-47f1-9765-ed5de6746413",
    "outputId": "d6a27fff-f78e-4cfa-e7fe-830225120f28",
    "tags": []
   },
   "outputs": [],
   "source": [
    "len(vocab)"
   ]
  },
  {
   "cell_type": "markdown",
   "id": "7afdfe25-28eb-4d34-826e-ea0a95f6b1a5",
   "metadata": {},
   "source": [
    "[top](#h0)"
   ]
  },
  {
   "cell_type": "markdown",
   "id": "a799bb62-f020-4683-9155-87744ec2a1c6",
   "metadata": {
    "id": "a799bb62-f020-4683-9155-87744ec2a1c6",
    "tags": []
   },
   "source": [
    "## <a id = 'h4'>    \n",
    "<font size = 10 color = 'midnightblue'> <b> Creating one hot encoded matrix for each sentence."
   ]
  },
  {
   "cell_type": "code",
   "execution_count": null,
   "id": "1d3fac70-2e39-46e6-ae60-9b51fc168188",
   "metadata": {
    "id": "1d3fac70-2e39-46e6-ae60-9b51fc168188",
    "tags": []
   },
   "outputs": [],
   "source": [
    "d = {}\n",
    "i = 0\n",
    "for sentence in new_dataset:\n",
    "\n",
    "    # getting the words of the sentence in dataset\n",
    "    s = sentence.split()\n",
    "\n",
    "    # creating an empty df to store the one-hot encoded matrix and filling it up with 0\n",
    "    df = pd.DataFrame([],columns = vocab,index = s)\n",
    "    df.fillna(0, inplace = True)\n",
    "\n",
    "    # assign 1 to the cells where the word in the statement(index of df) matches the column name\n",
    "    for word in s:\n",
    "        df.loc[word,word ] = 1\n",
    "\n",
    "    # creating a dictionary of these matrices\n",
    "    d[f'sent{i}'] = df\n",
    "\n",
    "    i+= 1"
   ]
  },
  {
   "cell_type": "markdown",
   "id": "8a6cef40-3376-4e43-a2cd-d95e1451cf66",
   "metadata": {},
   "source": [
    "[top](#h0)"
   ]
  },
  {
   "cell_type": "markdown",
   "id": "68cd8795-5f78-4cfe-a45c-a7f2dcacadaf",
   "metadata": {
    "id": "68cd8795-5f78-4cfe-a45c-a7f2dcacadaf",
    "tags": []
   },
   "source": [
    "## <a id = 'h5'> \n",
    "<font size = 10 color = 'midnightblue'> <b>  Displaying results for one of the sentences"
   ]
  },
  {
   "cell_type": "code",
   "execution_count": null,
   "id": "4d96c9b6-2586-4369-b8ff-b224fbb4ba82",
   "metadata": {
    "colab": {
     "base_uri": "https://localhost:8080/",
     "height": 526
    },
    "executionInfo": {
     "elapsed": 8,
     "status": "ok",
     "timestamp": 1701073543676,
     "user": {
      "displayName": "Shubham Pandey",
      "userId": "10645658922718505789"
     },
     "user_tz": -330
    },
    "id": "4d96c9b6-2586-4369-b8ff-b224fbb4ba82",
    "outputId": "b902c775-b48a-42b0-d986-446ae1ce5da9",
    "tags": []
   },
   "outputs": [],
   "source": [
    "print(f\"\\nThe one hot encoding for the sentence : \\n \\\"{dataset[0]}\\\" is :\\n\")\n",
    "d['sent0']"
   ]
  },
  {
   "cell_type": "code",
   "execution_count": null,
   "id": "2aea16e4-3f90-4393-9963-3ab7e87291f7",
   "metadata": {
    "id": "2aea16e4-3f90-4393-9963-3ab7e87291f7"
   },
   "outputs": [],
   "source": []
  }
 ],
 "metadata": {
  "colab": {
   "provenance": []
  },
  "kernelspec": {
   "display_name": "Python 3 (ipykernel)",
   "language": "python",
   "name": "python3"
  },
  "language_info": {
   "codemirror_mode": {
    "name": "ipython",
    "version": 3
   },
   "file_extension": ".py",
   "mimetype": "text/x-python",
   "name": "python",
   "nbconvert_exporter": "python",
   "pygments_lexer": "ipython3",
   "version": "3.11.5"
  }
 },
 "nbformat": 4,
 "nbformat_minor": 5
}
