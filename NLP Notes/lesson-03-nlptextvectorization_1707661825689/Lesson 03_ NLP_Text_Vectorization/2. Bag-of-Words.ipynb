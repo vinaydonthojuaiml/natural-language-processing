{
 "cells": [
  {
   "cell_type": "markdown",
   "id": "eb88582c-9575-4302-a780-01870c7c5e3e",
   "metadata": {
    "id": "eb88582c-9575-4302-a780-01870c7c5e3e",
    "tags": []
   },
   "source": [
    "# <center> Bag-of-Words\n"
   ]
  },
  {
   "cell_type": "markdown",
   "id": "719acf7b-587f-4e15-a0b4-e871640155e7",
   "metadata": {
    "tags": []
   },
   "source": [
    "# <a id= 'b0'> \n",
    "<font size = 4>\n",
    "    \n",
    "**Table of contents:**<br>\n",
    "[1. Introduction](#b1)<br>\n",
    "[2. skLearn-Countvectorizer](#b2)<br>"
   ]
  },
  {
   "cell_type": "markdown",
   "id": "fd12e4da-4b9d-4e4c-a92e-d1b273570385",
   "metadata": {
    "tags": []
   },
   "source": [
    "## <a id = 'b1'>\n",
    "    \n",
    "<font size = 10 color = 'midnightblue'> <b> Introduction"
   ]
  },
  {
   "cell_type": "markdown",
   "id": "ae72e2a4-7f7e-43a2-a260-665f5179b075",
   "metadata": {},
   "source": [
    "<div class=\"alert alert-block alert-success\">    \n",
    "<font size = 4> \n",
    "    \n",
    "- A \"bag of words\" (BoW) is a representation of a text that describes the occurrence of words within a document.\n",
    "- It is a simple and widely used technique for feature extraction in various NLP tasks.\n",
    "- The method is called “bag-of-words,” as the order of the words is lost entirely."
   ]
  },
  {
   "cell_type": "code",
   "execution_count": null,
   "id": "8fcde77b-9a1d-4738-b063-f22c339a247e",
   "metadata": {
    "id": "8fcde77b-9a1d-4738-b063-f22c339a247e",
    "tags": []
   },
   "outputs": [],
   "source": [
    "import re\n",
    "import pandas as pd\n",
    "from string import punctuation\n",
    "from sklearn.feature_extraction.text import CountVectorizer"
   ]
  },
  {
   "cell_type": "markdown",
   "id": "7341fe75-93c7-496d-bc0a-7f8b12dac64c",
   "metadata": {
    "id": "7341fe75-93c7-496d-bc0a-7f8b12dac64c",
    "tags": []
   },
   "source": [
    "<font size = 5 color = seagreen><b> Create a collection dataset"
   ]
  },
  {
   "cell_type": "code",
   "execution_count": null,
   "id": "f241fd2e-01e8-4bcc-a5eb-7d29417e4b0c",
   "metadata": {
    "id": "f241fd2e-01e8-4bcc-a5eb-7d29417e4b0c",
    "tags": []
   },
   "outputs": [],
   "source": [
    "dataset = [\n",
    "    \"The weather today is fantastic, with clear skies and a gentle breeze.\",\n",
    "    \"Reading is a great way to escape reality and immerse oneself in different worlds.\",\n",
    "    \"Climate change is a pressing global issue that requires immediate attention.\",\n",
    "    \"Exercise is crucial for maintaining good physical and mental health.\",\n",
    "    \"Learning a new language can be challenging but incredibly rewarding.\"\n",
    "]"
   ]
  },
  {
   "cell_type": "markdown",
   "id": "ca56466d-e9bb-4fe3-9c42-4e189ce40189",
   "metadata": {},
   "source": [
    "[top](#b0)"
   ]
  },
  {
   "cell_type": "markdown",
   "id": "d5fba43f-6531-4326-aa88-517394a13093",
   "metadata": {
    "id": "478e971c-edc1-4c8e-8c9a-11c1c707f28f",
    "tags": []
   },
   "source": [
    "## <a id = 'b2'>\n",
    "<font size = 10 color = 'midnightblue'> <b> CountVectorizer "
   ]
  },
  {
   "cell_type": "markdown",
   "id": "fb694ef7-ea1a-49ee-8078-209a32fb0e40",
   "metadata": {
    "id": "478e971c-edc1-4c8e-8c9a-11c1c707f28f"
   },
   "source": [
    "<div class=\"alert alert-block alert-success\">    \n",
    "<font size = 4> \n",
    "\n",
    "<b>`CountVectoriser` from sklearn is used to fit the bag-of-words model.</b>"
   ]
  },
  {
   "cell_type": "markdown",
   "id": "c3d1874e-a24d-44b4-96cd-ba2c5e92d229",
   "metadata": {
    "id": "c3d1874e-a24d-44b4-96cd-ba2c5e92d229",
    "tags": []
   },
   "source": [
    "<font size = 5 color = seagreen><b>Define a count vectoriser"
   ]
  },
  {
   "cell_type": "code",
   "execution_count": null,
   "id": "877b62af-3804-45e2-b051-e1de9146f261",
   "metadata": {
    "id": "877b62af-3804-45e2-b051-e1de9146f261",
    "tags": []
   },
   "outputs": [],
   "source": [
    "bow = CountVectorizer(max_features=1000, lowercase=True, analyzer='word')"
   ]
  },
  {
   "cell_type": "markdown",
   "id": "0b4848af-8a19-4e0e-bb91-658ac95ce258",
   "metadata": {
    "id": "0b4848af-8a19-4e0e-bb91-658ac95ce258"
   },
   "source": [
    "<font size = 5 color = seagreen><b> Fit the bag-of-words model"
   ]
  },
  {
   "cell_type": "code",
   "execution_count": null,
   "id": "d891668f-6d3c-4be4-a02a-06d02527c6d2",
   "metadata": {
    "id": "d891668f-6d3c-4be4-a02a-06d02527c6d2",
    "tags": []
   },
   "outputs": [],
   "source": [
    "bag_of_words = bow.fit(dataset)"
   ]
  },
  {
   "cell_type": "markdown",
   "id": "f41dd377-aedf-4271-be93-20686a6db610",
   "metadata": {
    "id": "f41dd377-aedf-4271-be93-20686a6db610",
    "tags": []
   },
   "source": [
    "<div class=\"alert alert-block alert-success\">    \n",
    "<font size = 4> \n",
    "\n",
    "The vectoriser object also returns the feature names for transformation which is the vocabulary"
   ]
  },
  {
   "cell_type": "code",
   "execution_count": null,
   "id": "502c17ae-1895-4a23-aa1d-66787c1cff98",
   "metadata": {
    "colab": {
     "base_uri": "https://localhost:8080/"
    },
    "executionInfo": {
     "elapsed": 9,
     "status": "ok",
     "timestamp": 1701073848710,
     "user": {
      "displayName": "Shubham Pandey",
      "userId": "10645658922718505789"
     },
     "user_tz": -330
    },
    "id": "502c17ae-1895-4a23-aa1d-66787c1cff98",
    "outputId": "c0189d89-93ab-4a99-80d6-0a36b2c4aee6",
    "tags": []
   },
   "outputs": [
    {
     "name": "stdout",
     "output_type": "stream",
     "text": [
      "['and', 'attention', 'be', 'breeze', 'but', 'can', 'challenging', 'change', 'clear', 'climate', 'crucial', 'different', 'escape', 'exercise', 'fantastic', 'for', 'gentle', 'global', 'good', 'great', 'health', 'immediate', 'immerse', 'in', 'incredibly', 'is', 'issue', 'language', 'learning', 'maintaining', 'mental', 'new', 'oneself', 'physical', 'pressing', 'reading', 'reality', 'requires', 'rewarding', 'skies', 'that', 'the', 'to', 'today', 'way', 'weather', 'with', 'worlds']\n"
     ]
    }
   ],
   "source": [
    "print(list(bow.get_feature_names_out()))"
   ]
  },
  {
   "cell_type": "markdown",
   "id": "c7776955-4139-4cf0-a9dd-17a14842d99c",
   "metadata": {
    "id": "c7776955-4139-4cf0-a9dd-17a14842d99c"
   },
   "source": [
    "<div class=\"alert alert-block alert-success\">    \n",
    "<font size = 4> \n",
    "\n",
    "The vectorizer returns a sparse matrix where rows represent each sentence of the dataset and columns correspond to each word in vocabulary\n"
   ]
  },
  {
   "cell_type": "code",
   "execution_count": null,
   "id": "15ef2b3b-b9f1-4823-8d17-aaaf6116c54f",
   "metadata": {
    "id": "15ef2b3b-b9f1-4823-8d17-aaaf6116c54f"
   },
   "outputs": [],
   "source": [
    "vector = bow.transform(dataset).toarray()"
   ]
  },
  {
   "cell_type": "code",
   "execution_count": null,
   "id": "059e6405-e1f8-478c-bae0-07f7a7c26265",
   "metadata": {
    "colab": {
     "base_uri": "https://localhost:8080/",
     "height": 236
    },
    "executionInfo": {
     "elapsed": 12,
     "status": "ok",
     "timestamp": 1701073857254,
     "user": {
      "displayName": "Shubham Pandey",
      "userId": "10645658922718505789"
     },
     "user_tz": -330
    },
    "id": "059e6405-e1f8-478c-bae0-07f7a7c26265",
    "outputId": "f0b9cbad-1bc1-4eeb-e935-c0746a269066",
    "tags": []
   },
   "outputs": [
    {
     "data": {
      "text/html": [
       "\n",
       "  <div id=\"df-2711d5de-286c-4ed1-8616-8254bb584308\" class=\"colab-df-container\">\n",
       "    <div>\n",
       "<style scoped>\n",
       "    .dataframe tbody tr th:only-of-type {\n",
       "        vertical-align: middle;\n",
       "    }\n",
       "\n",
       "    .dataframe tbody tr th {\n",
       "        vertical-align: top;\n",
       "    }\n",
       "\n",
       "    .dataframe thead th {\n",
       "        text-align: right;\n",
       "    }\n",
       "</style>\n",
       "<table border=\"1\" class=\"dataframe\">\n",
       "  <thead>\n",
       "    <tr style=\"text-align: right;\">\n",
       "      <th></th>\n",
       "      <th>and</th>\n",
       "      <th>attention</th>\n",
       "      <th>be</th>\n",
       "      <th>breeze</th>\n",
       "      <th>but</th>\n",
       "      <th>can</th>\n",
       "      <th>challenging</th>\n",
       "      <th>change</th>\n",
       "      <th>clear</th>\n",
       "      <th>climate</th>\n",
       "      <th>...</th>\n",
       "      <th>rewarding</th>\n",
       "      <th>skies</th>\n",
       "      <th>that</th>\n",
       "      <th>the</th>\n",
       "      <th>to</th>\n",
       "      <th>today</th>\n",
       "      <th>way</th>\n",
       "      <th>weather</th>\n",
       "      <th>with</th>\n",
       "      <th>worlds</th>\n",
       "    </tr>\n",
       "  </thead>\n",
       "  <tbody>\n",
       "    <tr>\n",
       "      <th>sent_1</th>\n",
       "      <td>1</td>\n",
       "      <td>0</td>\n",
       "      <td>0</td>\n",
       "      <td>1</td>\n",
       "      <td>0</td>\n",
       "      <td>0</td>\n",
       "      <td>0</td>\n",
       "      <td>0</td>\n",
       "      <td>1</td>\n",
       "      <td>0</td>\n",
       "      <td>...</td>\n",
       "      <td>0</td>\n",
       "      <td>1</td>\n",
       "      <td>0</td>\n",
       "      <td>1</td>\n",
       "      <td>0</td>\n",
       "      <td>1</td>\n",
       "      <td>0</td>\n",
       "      <td>1</td>\n",
       "      <td>1</td>\n",
       "      <td>0</td>\n",
       "    </tr>\n",
       "    <tr>\n",
       "      <th>sent_2</th>\n",
       "      <td>1</td>\n",
       "      <td>0</td>\n",
       "      <td>0</td>\n",
       "      <td>0</td>\n",
       "      <td>0</td>\n",
       "      <td>0</td>\n",
       "      <td>0</td>\n",
       "      <td>0</td>\n",
       "      <td>0</td>\n",
       "      <td>0</td>\n",
       "      <td>...</td>\n",
       "      <td>0</td>\n",
       "      <td>0</td>\n",
       "      <td>0</td>\n",
       "      <td>0</td>\n",
       "      <td>1</td>\n",
       "      <td>0</td>\n",
       "      <td>1</td>\n",
       "      <td>0</td>\n",
       "      <td>0</td>\n",
       "      <td>1</td>\n",
       "    </tr>\n",
       "    <tr>\n",
       "      <th>sent_3</th>\n",
       "      <td>0</td>\n",
       "      <td>1</td>\n",
       "      <td>0</td>\n",
       "      <td>0</td>\n",
       "      <td>0</td>\n",
       "      <td>0</td>\n",
       "      <td>0</td>\n",
       "      <td>1</td>\n",
       "      <td>0</td>\n",
       "      <td>1</td>\n",
       "      <td>...</td>\n",
       "      <td>0</td>\n",
       "      <td>0</td>\n",
       "      <td>1</td>\n",
       "      <td>0</td>\n",
       "      <td>0</td>\n",
       "      <td>0</td>\n",
       "      <td>0</td>\n",
       "      <td>0</td>\n",
       "      <td>0</td>\n",
       "      <td>0</td>\n",
       "    </tr>\n",
       "    <tr>\n",
       "      <th>sent_4</th>\n",
       "      <td>1</td>\n",
       "      <td>0</td>\n",
       "      <td>0</td>\n",
       "      <td>0</td>\n",
       "      <td>0</td>\n",
       "      <td>0</td>\n",
       "      <td>0</td>\n",
       "      <td>0</td>\n",
       "      <td>0</td>\n",
       "      <td>0</td>\n",
       "      <td>...</td>\n",
       "      <td>0</td>\n",
       "      <td>0</td>\n",
       "      <td>0</td>\n",
       "      <td>0</td>\n",
       "      <td>0</td>\n",
       "      <td>0</td>\n",
       "      <td>0</td>\n",
       "      <td>0</td>\n",
       "      <td>0</td>\n",
       "      <td>0</td>\n",
       "    </tr>\n",
       "    <tr>\n",
       "      <th>sent_5</th>\n",
       "      <td>0</td>\n",
       "      <td>0</td>\n",
       "      <td>1</td>\n",
       "      <td>0</td>\n",
       "      <td>1</td>\n",
       "      <td>1</td>\n",
       "      <td>1</td>\n",
       "      <td>0</td>\n",
       "      <td>0</td>\n",
       "      <td>0</td>\n",
       "      <td>...</td>\n",
       "      <td>1</td>\n",
       "      <td>0</td>\n",
       "      <td>0</td>\n",
       "      <td>0</td>\n",
       "      <td>0</td>\n",
       "      <td>0</td>\n",
       "      <td>0</td>\n",
       "      <td>0</td>\n",
       "      <td>0</td>\n",
       "      <td>0</td>\n",
       "    </tr>\n",
       "  </tbody>\n",
       "</table>\n",
       "<p>5 rows × 48 columns</p>\n",
       "</div>\n",
       "    <div class=\"colab-df-buttons\">\n",
       "\n",
       "  <div class=\"colab-df-container\">\n",
       "    <button class=\"colab-df-convert\" onclick=\"convertToInteractive('df-2711d5de-286c-4ed1-8616-8254bb584308')\"\n",
       "            title=\"Convert this dataframe to an interactive table.\"\n",
       "            style=\"display:none;\">\n",
       "\n",
       "  <svg xmlns=\"http://www.w3.org/2000/svg\" height=\"24px\" viewBox=\"0 -960 960 960\">\n",
       "    <path d=\"M120-120v-720h720v720H120Zm60-500h600v-160H180v160Zm220 220h160v-160H400v160Zm0 220h160v-160H400v160ZM180-400h160v-160H180v160Zm440 0h160v-160H620v160ZM180-180h160v-160H180v160Zm440 0h160v-160H620v160Z\"/>\n",
       "  </svg>\n",
       "    </button>\n",
       "\n",
       "  <style>\n",
       "    .colab-df-container {\n",
       "      display:flex;\n",
       "      gap: 12px;\n",
       "    }\n",
       "\n",
       "    .colab-df-convert {\n",
       "      background-color: #E8F0FE;\n",
       "      border: none;\n",
       "      border-radius: 50%;\n",
       "      cursor: pointer;\n",
       "      display: none;\n",
       "      fill: #1967D2;\n",
       "      height: 32px;\n",
       "      padding: 0 0 0 0;\n",
       "      width: 32px;\n",
       "    }\n",
       "\n",
       "    .colab-df-convert:hover {\n",
       "      background-color: #E2EBFA;\n",
       "      box-shadow: 0px 1px 2px rgba(60, 64, 67, 0.3), 0px 1px 3px 1px rgba(60, 64, 67, 0.15);\n",
       "      fill: #174EA6;\n",
       "    }\n",
       "\n",
       "    .colab-df-buttons div {\n",
       "      margin-bottom: 4px;\n",
       "    }\n",
       "\n",
       "    [theme=dark] .colab-df-convert {\n",
       "      background-color: #3B4455;\n",
       "      fill: #D2E3FC;\n",
       "    }\n",
       "\n",
       "    [theme=dark] .colab-df-convert:hover {\n",
       "      background-color: #434B5C;\n",
       "      box-shadow: 0px 1px 3px 1px rgba(0, 0, 0, 0.15);\n",
       "      filter: drop-shadow(0px 1px 2px rgba(0, 0, 0, 0.3));\n",
       "      fill: #FFFFFF;\n",
       "    }\n",
       "  </style>\n",
       "\n",
       "    <script>\n",
       "      const buttonEl =\n",
       "        document.querySelector('#df-2711d5de-286c-4ed1-8616-8254bb584308 button.colab-df-convert');\n",
       "      buttonEl.style.display =\n",
       "        google.colab.kernel.accessAllowed ? 'block' : 'none';\n",
       "\n",
       "      async function convertToInteractive(key) {\n",
       "        const element = document.querySelector('#df-2711d5de-286c-4ed1-8616-8254bb584308');\n",
       "        const dataTable =\n",
       "          await google.colab.kernel.invokeFunction('convertToInteractive',\n",
       "                                                    [key], {});\n",
       "        if (!dataTable) return;\n",
       "\n",
       "        const docLinkHtml = 'Like what you see? Visit the ' +\n",
       "          '<a target=\"_blank\" href=https://colab.research.google.com/notebooks/data_table.ipynb>data table notebook</a>'\n",
       "          + ' to learn more about interactive tables.';\n",
       "        element.innerHTML = '';\n",
       "        dataTable['output_type'] = 'display_data';\n",
       "        await google.colab.output.renderOutput(dataTable, element);\n",
       "        const docLink = document.createElement('div');\n",
       "        docLink.innerHTML = docLinkHtml;\n",
       "        element.appendChild(docLink);\n",
       "      }\n",
       "    </script>\n",
       "  </div>\n",
       "\n",
       "\n",
       "<div id=\"df-c4b047d2-836a-4a98-82d7-1aa9dc96d94b\">\n",
       "  <button class=\"colab-df-quickchart\" onclick=\"quickchart('df-c4b047d2-836a-4a98-82d7-1aa9dc96d94b')\"\n",
       "            title=\"Suggest charts\"\n",
       "            style=\"display:none;\">\n",
       "\n",
       "<svg xmlns=\"http://www.w3.org/2000/svg\" height=\"24px\"viewBox=\"0 0 24 24\"\n",
       "     width=\"24px\">\n",
       "    <g>\n",
       "        <path d=\"M19 3H5c-1.1 0-2 .9-2 2v14c0 1.1.9 2 2 2h14c1.1 0 2-.9 2-2V5c0-1.1-.9-2-2-2zM9 17H7v-7h2v7zm4 0h-2V7h2v10zm4 0h-2v-4h2v4z\"/>\n",
       "    </g>\n",
       "</svg>\n",
       "  </button>\n",
       "\n",
       "<style>\n",
       "  .colab-df-quickchart {\n",
       "      --bg-color: #E8F0FE;\n",
       "      --fill-color: #1967D2;\n",
       "      --hover-bg-color: #E2EBFA;\n",
       "      --hover-fill-color: #174EA6;\n",
       "      --disabled-fill-color: #AAA;\n",
       "      --disabled-bg-color: #DDD;\n",
       "  }\n",
       "\n",
       "  [theme=dark] .colab-df-quickchart {\n",
       "      --bg-color: #3B4455;\n",
       "      --fill-color: #D2E3FC;\n",
       "      --hover-bg-color: #434B5C;\n",
       "      --hover-fill-color: #FFFFFF;\n",
       "      --disabled-bg-color: #3B4455;\n",
       "      --disabled-fill-color: #666;\n",
       "  }\n",
       "\n",
       "  .colab-df-quickchart {\n",
       "    background-color: var(--bg-color);\n",
       "    border: none;\n",
       "    border-radius: 50%;\n",
       "    cursor: pointer;\n",
       "    display: none;\n",
       "    fill: var(--fill-color);\n",
       "    height: 32px;\n",
       "    padding: 0;\n",
       "    width: 32px;\n",
       "  }\n",
       "\n",
       "  .colab-df-quickchart:hover {\n",
       "    background-color: var(--hover-bg-color);\n",
       "    box-shadow: 0 1px 2px rgba(60, 64, 67, 0.3), 0 1px 3px 1px rgba(60, 64, 67, 0.15);\n",
       "    fill: var(--button-hover-fill-color);\n",
       "  }\n",
       "\n",
       "  .colab-df-quickchart-complete:disabled,\n",
       "  .colab-df-quickchart-complete:disabled:hover {\n",
       "    background-color: var(--disabled-bg-color);\n",
       "    fill: var(--disabled-fill-color);\n",
       "    box-shadow: none;\n",
       "  }\n",
       "\n",
       "  .colab-df-spinner {\n",
       "    border: 2px solid var(--fill-color);\n",
       "    border-color: transparent;\n",
       "    border-bottom-color: var(--fill-color);\n",
       "    animation:\n",
       "      spin 1s steps(1) infinite;\n",
       "  }\n",
       "\n",
       "  @keyframes spin {\n",
       "    0% {\n",
       "      border-color: transparent;\n",
       "      border-bottom-color: var(--fill-color);\n",
       "      border-left-color: var(--fill-color);\n",
       "    }\n",
       "    20% {\n",
       "      border-color: transparent;\n",
       "      border-left-color: var(--fill-color);\n",
       "      border-top-color: var(--fill-color);\n",
       "    }\n",
       "    30% {\n",
       "      border-color: transparent;\n",
       "      border-left-color: var(--fill-color);\n",
       "      border-top-color: var(--fill-color);\n",
       "      border-right-color: var(--fill-color);\n",
       "    }\n",
       "    40% {\n",
       "      border-color: transparent;\n",
       "      border-right-color: var(--fill-color);\n",
       "      border-top-color: var(--fill-color);\n",
       "    }\n",
       "    60% {\n",
       "      border-color: transparent;\n",
       "      border-right-color: var(--fill-color);\n",
       "    }\n",
       "    80% {\n",
       "      border-color: transparent;\n",
       "      border-right-color: var(--fill-color);\n",
       "      border-bottom-color: var(--fill-color);\n",
       "    }\n",
       "    90% {\n",
       "      border-color: transparent;\n",
       "      border-bottom-color: var(--fill-color);\n",
       "    }\n",
       "  }\n",
       "</style>\n",
       "\n",
       "  <script>\n",
       "    async function quickchart(key) {\n",
       "      const quickchartButtonEl =\n",
       "        document.querySelector('#' + key + ' button');\n",
       "      quickchartButtonEl.disabled = true;  // To prevent multiple clicks.\n",
       "      quickchartButtonEl.classList.add('colab-df-spinner');\n",
       "      try {\n",
       "        const charts = await google.colab.kernel.invokeFunction(\n",
       "            'suggestCharts', [key], {});\n",
       "      } catch (error) {\n",
       "        console.error('Error during call to suggestCharts:', error);\n",
       "      }\n",
       "      quickchartButtonEl.classList.remove('colab-df-spinner');\n",
       "      quickchartButtonEl.classList.add('colab-df-quickchart-complete');\n",
       "    }\n",
       "    (() => {\n",
       "      let quickchartButtonEl =\n",
       "        document.querySelector('#df-c4b047d2-836a-4a98-82d7-1aa9dc96d94b button');\n",
       "      quickchartButtonEl.style.display =\n",
       "        google.colab.kernel.accessAllowed ? 'block' : 'none';\n",
       "    })();\n",
       "  </script>\n",
       "</div>\n",
       "    </div>\n",
       "  </div>\n"
      ],
      "text/plain": [
       "        and  attention  be  breeze  but  can  challenging  change  clear  \\\n",
       "sent_1    1          0   0       1    0    0            0       0      1   \n",
       "sent_2    1          0   0       0    0    0            0       0      0   \n",
       "sent_3    0          1   0       0    0    0            0       1      0   \n",
       "sent_4    1          0   0       0    0    0            0       0      0   \n",
       "sent_5    0          0   1       0    1    1            1       0      0   \n",
       "\n",
       "        climate  ...  rewarding  skies  that  the  to  today  way  weather  \\\n",
       "sent_1        0  ...          0      1     0    1   0      1    0        1   \n",
       "sent_2        0  ...          0      0     0    0   1      0    1        0   \n",
       "sent_3        1  ...          0      0     1    0   0      0    0        0   \n",
       "sent_4        0  ...          0      0     0    0   0      0    0        0   \n",
       "sent_5        0  ...          1      0     0    0   0      0    0        0   \n",
       "\n",
       "        with  worlds  \n",
       "sent_1     1       0  \n",
       "sent_2     0       1  \n",
       "sent_3     0       0  \n",
       "sent_4     0       0  \n",
       "sent_5     0       0  \n",
       "\n",
       "[5 rows x 48 columns]"
      ]
     },
     "execution_count": 14,
     "metadata": {},
     "output_type": "execute_result"
    }
   ],
   "source": [
    "pd.DataFrame(vector,\n",
    "             columns= list(bow.get_feature_names_out()),\n",
    "             index = [f'sent_{i}' for i in range(1,len(dataset)+1)])"
   ]
  },
  {
   "cell_type": "markdown",
   "id": "5add895f-7895-47d7-8fe1-6f454c163256",
   "metadata": {
    "id": "5add895f-7895-47d7-8fe1-6f454c163256"
   },
   "source": [
    "<font size = 5 color = seagreen><b> This vectorised data can be used as features (predictors) to any ML model"
   ]
  },
  {
   "cell_type": "markdown",
   "id": "2916d100-f999-4712-9ba4-51c7571f524f",
   "metadata": {
    "id": "4062e41c-c246-4321-9bce-975fee4dab91"
   },
   "source": [
    "[top](#b0)"
   ]
  },
  {
   "cell_type": "code",
   "execution_count": null,
   "id": "74a102e3-26c7-4cdb-8dcd-5c023cd6a8be",
   "metadata": {},
   "outputs": [],
   "source": []
  }
 ],
 "metadata": {
  "colab": {
   "provenance": []
  },
  "kernelspec": {
   "display_name": "Python 3 (ipykernel)",
   "language": "python",
   "name": "python3"
  },
  "language_info": {
   "codemirror_mode": {
    "name": "ipython",
    "version": 3
   },
   "file_extension": ".py",
   "mimetype": "text/x-python",
   "name": "python",
   "nbconvert_exporter": "python",
   "pygments_lexer": "ipython3",
   "version": "3.11.5"
  }
 },
 "nbformat": 4,
 "nbformat_minor": 5
}
