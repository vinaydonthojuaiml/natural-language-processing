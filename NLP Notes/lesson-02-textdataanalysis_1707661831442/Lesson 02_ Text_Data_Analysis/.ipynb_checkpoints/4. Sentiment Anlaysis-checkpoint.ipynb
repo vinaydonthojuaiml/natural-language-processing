{
 "cells": [
  {
   "cell_type": "markdown",
   "id": "11612332-182c-4d75-b006-fffecbb76408",
   "metadata": {
    "id": "11612332-182c-4d75-b006-fffecbb76408",
    "tags": []
   },
   "source": [
    "# <center> <font size = 24 color = 'steelblue'> <b>Sentiment Analysis"
   ]
  },
  {
   "cell_type": "markdown",
   "id": "21162cf2-9c2b-4f44-b0a6-aae4acdf9d3a",
   "metadata": {},
   "source": [
    "# <a id= 's0'> \n",
    "<font size = 4>\n",
    "    \n",
    "**Table of contents:**<br>\n",
    "[1. Introduction](#s1)<br>\n",
    "[2. Sentiment analysis using TextBlob](#s2)<br>\n",
    "[3. Sentiment analysis using VADER](#s3)<br>\n",
    "[4. Sentiment analysis using flair package](#s4)<br>"
   ]
  },
  {
   "cell_type": "markdown",
   "id": "4b4a1417-eb77-4461-9a3f-cebdca92c45d",
   "metadata": {},
   "source": [
    "##### <a id = 's1'>\n",
    "<font size = 10 color = 'midnightblue'> <b>Introduction"
   ]
  },
  {
   "cell_type": "markdown",
   "id": "228553d9-3f0b-46da-a87c-07fce7e9fd72",
   "metadata": {
    "id": "228553d9-3f0b-46da-a87c-07fce7e9fd72"
   },
   "source": [
    "<div class=\"alert alert-block alert-success\">    \n",
    "<font size = 4> \n",
    "\n",
    "- Sentiment analysis refers to a technique that involves determining the sentiment or emotional tone expressed in a piece of text.\n",
    "- The goal of sentiment analaysis is to identify and categorize the subjective opinions or feelings conveyed in the text as positive, negative, or neutral.\n",
    "- Python supports multiple pretrained models for performing sentiment analysis.\n",
    "- A few of them are discussed below."
   ]
  },
  {
   "cell_type": "markdown",
   "id": "91995cfc-77eb-42af-b778-ae09d84788f9",
   "metadata": {
    "id": "91995cfc-77eb-42af-b778-ae09d84788f9"
   },
   "source": [
    "\n",
    "<font size = 5 color = 'seagreen'>**Define the text to be used for analysis.**\n",
    "\n",
    "<div class=\"alert alert-block alert-success\">    \n",
    "<font size = 4> \n",
    "    \n",
    "  - Use the same texts for different functions and compare results.\n",
    "  - Four different text are used for specifying different emotions."
   ]
  },
  {
   "cell_type": "code",
   "execution_count": null,
   "id": "df10cdbc-f3c4-4ad2-8c8b-dc1af9bf553c",
   "metadata": {
    "id": "df10cdbc-f3c4-4ad2-8c8b-dc1af9bf553c",
    "tags": []
   },
   "outputs": [],
   "source": [
    "text1 = \"Life's been a rollercoaster lately 🎢, with work stress piling up 😓.\"\n",
    "text2 = \"Thankfully, weekends bring joy and laughter with friends 🌟. \"\n",
    "text3 = \"Grateful for those moments, but hoping for smoother days ahead.\"\n",
    "text4 = \"Optimistic about the future despite the current challenges. 🌈 #LifeJourney\"\n",
    "print(text1)"
   ]
  },
  {
   "cell_type": "markdown",
   "id": "28066bd3-0efa-49b8-b09e-f641c1548e66",
   "metadata": {
    "id": "d67407cb-bbed-411d-aaa1-9e133c239949",
    "tags": []
   },
   "source": [
    "##### <a id = 's2'>\n",
    "<font size = 10 color = 'midnightblue'> <b>Using Text Blob"
   ]
  },
  {
   "cell_type": "markdown",
   "id": "f251a350-8b11-4d38-b372-a240119f34ed",
   "metadata": {
    "id": "d67407cb-bbed-411d-aaa1-9e133c239949",
    "tags": []
   },
   "source": [
    "<div class=\"alert alert-block alert-success\">    \n",
    "<font size = 4> \n",
    "\n",
    "- TextBlob is a popular Python library for processing textual data.\n",
    "- It provides a simple API for common NLP tasks, including sentiment analysis.\n",
    "- TextBlob uses a pre-trained sentiment analysis model to determine the sentiment polarity of a given text.\n",
    "- It does not require pre-cleaning of texts either."
   ]
  },
  {
   "cell_type": "markdown",
   "id": "e8619abd-b78b-4528-81a8-5d8c44897587",
   "metadata": {
    "id": "e8619abd-b78b-4528-81a8-5d8c44897587"
   },
   "source": [
    "<font size = 5 color = 'seagreen'> **Install TextBlob module**"
   ]
  },
  {
   "cell_type": "code",
   "execution_count": null,
   "id": "e53c599d-25c6-4834-9e0b-42807fd4e6ac",
   "metadata": {
    "id": "e53c599d-25c6-4834-9e0b-42807fd4e6ac",
    "tags": []
   },
   "outputs": [],
   "source": [
    "pip install textblob"
   ]
  },
  {
   "cell_type": "markdown",
   "id": "26771f50-7741-45df-84d3-fc9a2a53970b",
   "metadata": {
    "id": "26771f50-7741-45df-84d3-fc9a2a53970b",
    "tags": []
   },
   "source": [
    "\n",
    "<font size = 5 color = 'seagreen'> <b>Sentiment analysis is performed using `textblob` function from the package"
   ]
  },
  {
   "cell_type": "code",
   "execution_count": null,
   "id": "57a016cd-2fab-4a75-a226-f3190f1db2ba",
   "metadata": {
    "id": "57a016cd-2fab-4a75-a226-f3190f1db2ba",
    "tags": []
   },
   "outputs": [],
   "source": [
    "from textblob import TextBlob"
   ]
  },
  {
   "cell_type": "markdown",
   "id": "tV3WJM2fmHp6",
   "metadata": {
    "id": "tV3WJM2fmHp6"
   },
   "source": [
    "<font size = 5 color = 'seagreen'> <b> Create a function for interpretation of sentiment scores."
   ]
  },
  {
   "cell_type": "code",
   "execution_count": null,
   "id": "f2881c6a-0ed3-4a48-ba84-8f699a1cbb28",
   "metadata": {
    "id": "f2881c6a-0ed3-4a48-ba84-8f699a1cbb28",
    "tags": []
   },
   "outputs": [],
   "source": [
    "def getAnalysis(score):\n",
    "    if score < 0:\n",
    "        return 'Negative'\n",
    "    elif score == 0:\n",
    "        return 'Neutral'\n",
    "    else:\n",
    "        return 'Positive'"
   ]
  },
  {
   "cell_type": "markdown",
   "id": "qAUt4xlHndAi",
   "metadata": {
    "id": "qAUt4xlHndAi"
   },
   "source": [
    "<font size = 5 color = 'darkblue'> **For Text1:**\n",
    "<font size = 5 color = 'pwdrblue'> <b>  \"Life's been a rollercoaster lately 🎢, with work stress piling up 😓.\""
   ]
  },
  {
   "cell_type": "code",
   "execution_count": null,
   "id": "45e5ecb0-3b0e-4bfb-9810-95a10ef558b4",
   "metadata": {
    "id": "45e5ecb0-3b0e-4bfb-9810-95a10ef558b4",
    "tags": []
   },
   "outputs": [],
   "source": [
    "# create a text blob object of the text\n",
    "blob = TextBlob(text1)\n",
    "\n",
    "# get the sentiment object with a polarity value\n",
    "sentiment_obj = blob.analyzer.analyze(text1)\n",
    "\n",
    "# get the sentiment based on polarity value\n",
    "sentiment = getAnalysis(blob.sentiment.polarity)"
   ]
  },
  {
   "cell_type": "code",
   "execution_count": null,
   "id": "dd81141d-272d-4495-83eb-a145343b5689",
   "metadata": {
    "id": "dd81141d-272d-4495-83eb-a145343b5689",
    "tags": []
   },
   "outputs": [],
   "source": [
    "# Display results\n",
    "print(\"Text: \", text1)\n",
    "print(\"Sentiment object : \", sentiment_obj)\n",
    "print(\"Sentiment : \",sentiment)"
   ]
  },
  {
   "cell_type": "markdown",
   "id": "fFfHKfeKmTDX",
   "metadata": {
    "id": "fFfHKfeKmTDX"
   },
   "source": [
    "<font size = 5 color = 'seagreen'> <b> Repeat for all the text to get polarity of the sentences."
   ]
  },
  {
   "cell_type": "markdown",
   "id": "OUU0EYK-mb3B",
   "metadata": {
    "id": "OUU0EYK-mb3B"
   },
   "source": [
    "<font size = 5 color = 'darkblue'> <b>For Text2 : <font size = 5 color = 'pwdrblue'> <b>  \"Thankfully, weekends bring joy and laughter with friends 🌟.\""
   ]
  },
  {
   "cell_type": "code",
   "execution_count": null,
   "id": "47eeaf9a-b62b-4d58-949d-f524f0057007",
   "metadata": {
    "id": "47eeaf9a-b62b-4d58-949d-f524f0057007",
    "tags": []
   },
   "outputs": [],
   "source": [
    "# create a text blob object of the text\n",
    "blob = TextBlob(text2)\n",
    "\n",
    "# get the sentiment object with a polarity value\n",
    "sentiment_obj = blob.analyzer.analyze(text2)\n",
    "\n",
    "# get the sentiment based on polarity value\n",
    "sentiment = getAnalysis(blob.sentiment.polarity)"
   ]
  },
  {
   "cell_type": "code",
   "execution_count": null,
   "id": "6c9b2dd1-3cd5-40bc-bb5f-5e1b4e4c6167",
   "metadata": {
    "id": "6c9b2dd1-3cd5-40bc-bb5f-5e1b4e4c6167",
    "tags": []
   },
   "outputs": [],
   "source": [
    "# Display results\n",
    "print(\"Text: \", text2)\n",
    "print(\"Sentiment object : \", sentiment_obj)\n",
    "print(\"Sentiment : \",sentiment)"
   ]
  },
  {
   "cell_type": "markdown",
   "id": "v7o4zu6cmguU",
   "metadata": {
    "id": "v7o4zu6cmguU"
   },
   "source": [
    "<font size = 5 color = 'darkblue'> <b>For Text3 : <font size = 5 color = 'pwdrblue'> <b>\"Grateful for those moments, but hoping for smoother days ahead.\""
   ]
  },
  {
   "cell_type": "code",
   "execution_count": null,
   "id": "5426704f-29ad-4b86-af79-274a2c8217c2",
   "metadata": {
    "id": "5426704f-29ad-4b86-af79-274a2c8217c2",
    "tags": []
   },
   "outputs": [],
   "source": [
    "# create a text blob object of the text\n",
    "blob = TextBlob(text3)\n",
    "\n",
    "# get the sentiment object with a polarity value\n",
    "sentiment_obj = blob.analyzer.analyze(text3)\n",
    "\n",
    "# get the sentiment based on polarity value\n",
    "sentiment = getAnalysis(blob.sentiment.polarity)"
   ]
  },
  {
   "cell_type": "code",
   "execution_count": null,
   "id": "5ae9c42c-9f34-4551-93b3-414aeee3923b",
   "metadata": {
    "id": "5ae9c42c-9f34-4551-93b3-414aeee3923b",
    "tags": []
   },
   "outputs": [],
   "source": [
    "# Display results\n",
    "print(\"Text: \", text3)\n",
    "print(\"Sentiment object : \", sentiment_obj)\n",
    "print(\"Sentiment : \",sentiment)"
   ]
  },
  {
   "cell_type": "markdown",
   "id": "7cHdNKDGnDV5",
   "metadata": {
    "id": "7cHdNKDGnDV5"
   },
   "source": [
    "<font size = 5 color = 'darkblue'> <b>For Text4 : <font size = 5 color = 'pwdrblue'> <b>\"Optimistic about the future despite the current challenges. 🌈 #LifeJourney\""
   ]
  },
  {
   "cell_type": "code",
   "execution_count": null,
   "id": "eb1adbe7-c283-4f2b-84ab-192d6812de99",
   "metadata": {
    "id": "eb1adbe7-c283-4f2b-84ab-192d6812de99",
    "tags": []
   },
   "outputs": [],
   "source": [
    "# create a text blob object of the text\n",
    "blob = TextBlob(text4)\n",
    "\n",
    "# get the sentiment object with a polarity value\n",
    "sentiment_obj = blob.analyzer.analyze(text4)\n",
    "\n",
    "# get the sentiment based on polarity value\n",
    "sentiment = getAnalysis(blob.sentiment.polarity)"
   ]
  },
  {
   "cell_type": "code",
   "execution_count": null,
   "id": "c9076af3-2ac7-41b5-afe6-811b93e8941d",
   "metadata": {
    "id": "c9076af3-2ac7-41b5-afe6-811b93e8941d",
    "tags": []
   },
   "outputs": [],
   "source": [
    "# Display results\n",
    "print(\"Text: \", text4)\n",
    "print(\"Sentiment object : \", sentiment_obj)\n",
    "print(\"Sentiment : \",sentiment)"
   ]
  },
  {
   "cell_type": "markdown",
   "id": "5063b4e7-0a5d-4add-8814-0b6532c1e8b7",
   "metadata": {},
   "source": [
    "[top](#s0)"
   ]
  },
  {
   "cell_type": "markdown",
   "id": "78767c9c-9e8a-4ca0-ae86-178f754bd1af",
   "metadata": {
    "id": "942bda8d-642a-4f5a-a5fd-9dce4a8f12ec"
   },
   "source": [
    "##### <a id = 's3'>\n",
    "<font size = 10 color = 'midnightblue'> <b> Using VADER sentiment"
   ]
  },
  {
   "cell_type": "markdown",
   "id": "5814ed8a-2cfb-4d57-ae4e-5b2474859e51",
   "metadata": {
    "id": "942bda8d-642a-4f5a-a5fd-9dce4a8f12ec"
   },
   "source": [
    "<div class=\"alert alert-block alert-success\">    \n",
    "<font size = 4> \n",
    "\n",
    "- Valence aware dictionary for sentiment reasoning (VADER) is another popular rule-based sentiment analyzer.\n",
    "- It is a pre-built sentiment analysis tool that is specifically designed for social media text.\n",
    "- It is part of the NLTK library and is particularly useful for analyzing sentiments in short and informal texts, making it suitable for social media posts, comments, and reviews."
   ]
  },
  {
   "cell_type": "markdown",
   "id": "8b44fb8d-97c6-46ff-8159-2ee0d545b994",
   "metadata": {
    "id": "8b44fb8d-97c6-46ff-8159-2ee0d545b994"
   },
   "source": [
    "<font size = 5 color = 'seagreen'> <b>install package"
   ]
  },
  {
   "cell_type": "raw",
   "id": "d26d5cba-98dd-4863-adfb-43a04050862d",
   "metadata": {
    "id": "d26d5cba-98dd-4863-adfb-43a04050862d",
    "jupyter": {
     "outputs_hidden": true
    },
    "tags": []
   },
   "source": [
    "!pip install vaderSentiment"
   ]
  },
  {
   "cell_type": "markdown",
   "id": "efabca83-d012-4777-a15c-26c72097e5c8",
   "metadata": {
    "id": "efabca83-d012-4777-a15c-26c72097e5c8"
   },
   "source": [
    "<font size = 5 color = 'seagreen'> <b>import sentiment analyzer from vader sentiment"
   ]
  },
  {
   "cell_type": "code",
   "execution_count": null,
   "id": "9a9175ea-17ef-417a-88c2-7f3e915b9660",
   "metadata": {
    "id": "9a9175ea-17ef-417a-88c2-7f3e915b9660",
    "tags": []
   },
   "outputs": [],
   "source": [
    "from vaderSentiment.vaderSentiment import SentimentIntensityAnalyzer"
   ]
  },
  {
   "cell_type": "markdown",
   "id": "21187813-80ce-4a9b-90ed-346913b4c2e2",
   "metadata": {
    "id": "nbFdeKzLnwGR"
   },
   "source": [
    "<font size = 5 color = 'darkblue'> **For Text1:**\n",
    "<font size = 5 color = 'pwdrblue'> <b>  \"Life's been a rollercoaster lately 🎢, with work stress piling up 😓.\""
   ]
  },
  {
   "cell_type": "code",
   "execution_count": null,
   "id": "dc864c9b-d2dc-4562-8d1b-01127ddebc4d",
   "metadata": {
    "id": "dc864c9b-d2dc-4562-8d1b-01127ddebc4d",
    "tags": []
   },
   "outputs": [],
   "source": [
    "# create an analyzer object\n",
    "analyzer = SentimentIntensityAnalyzer()\n",
    "\n",
    "# obtain the polarity scores\n",
    "vs = analyzer.polarity_scores(text1)\n",
    "\n",
    "# display results\n",
    "print(\"{} \\n{}\".format(text1, str(vs)))"
   ]
  },
  {
   "cell_type": "markdown",
   "id": "9f171069-0bac-4105-857c-11500baeefe0",
   "metadata": {
    "id": "9f171069-0bac-4105-857c-11500baeefe0"
   },
   "source": [
    "<div class=\"alert alert-block alert-info\">    \n",
    "<font size = 4> \n",
    "\n",
    "**NOTE:**\n",
    "\n",
    "- The key 'compound' in the dictionary represents the overall sentiment polarity of the text, where \n",
    "    - Positive values indicate positive sentiment, \n",
    "    - Negative values indicate negative sentiment, and \n",
    "    - Values around zero suggest a neutral sentiment.\n",
    "\n"
   ]
  },
  {
   "cell_type": "code",
   "execution_count": null,
   "id": "463fab90-b29b-45e3-9397-e3af907a057d",
   "metadata": {
    "id": "463fab90-b29b-45e3-9397-e3af907a057d"
   },
   "outputs": [],
   "source": [
    "print(\"Sentiment : \",getAnalysis(vs['compound']))"
   ]
  },
  {
   "cell_type": "markdown",
   "id": "0zq2estln8BV",
   "metadata": {
    "id": "0zq2estln8BV"
   },
   "source": [
    "<font size = 5 color = 'darkblue'> <b>For Text2 : <font size = 5 color = 'pwdrblue'> <b>  \"Thankfully, weekends bring joy and laughter with friends 🌟.\""
   ]
  },
  {
   "cell_type": "code",
   "execution_count": null,
   "id": "14f3afc0-75fd-4fd7-bd93-9c890c7d2928",
   "metadata": {
    "id": "14f3afc0-75fd-4fd7-bd93-9c890c7d2928",
    "tags": []
   },
   "outputs": [],
   "source": [
    "# create an analyzer object\n",
    "analyzer = SentimentIntensityAnalyzer()\n",
    "\n",
    "# obtain the polarity scores\n",
    "vs = analyzer.polarity_scores(text2)\n",
    "\n",
    "# display results\n",
    "print(\"{} \\n{}\".format(text2, str(vs)))\n",
    "print(\"Sentiment : \",getAnalysis(vs['compound']))"
   ]
  },
  {
   "cell_type": "markdown",
   "id": "hVQWliBYoEPH",
   "metadata": {
    "id": "hVQWliBYoEPH"
   },
   "source": [
    "<font size = 5 color = 'darkblue'> <b>For Text3 : <font size = 5 color = 'pwdrblue'> <b>\"Grateful for those moments, but hoping for smoother days ahead.\""
   ]
  },
  {
   "cell_type": "code",
   "execution_count": null,
   "id": "b667d6e3-82a5-42b6-b7fe-33054626ac5c",
   "metadata": {
    "id": "b667d6e3-82a5-42b6-b7fe-33054626ac5c",
    "tags": []
   },
   "outputs": [],
   "source": [
    "# create an analyzer object\n",
    "analyzer = SentimentIntensityAnalyzer()\n",
    "\n",
    "# obtain the polarity scores\n",
    "vs = analyzer.polarity_scores(text3)\n",
    "\n",
    "# display results\n",
    "print(\"{} \\n{}\".format(text3, str(vs)))\n",
    "print(\"Sentiment : \",getAnalysis(vs['compound']))"
   ]
  },
  {
   "cell_type": "markdown",
   "id": "O81ACG5NoN-Z",
   "metadata": {
    "id": "O81ACG5NoN-Z"
   },
   "source": [
    "<font size = 5 color = 'darkblue'> <b>For Text4 : <font size = 5 color = 'pwdrblue'> <b>\"Optimistic about the future despite the current challenges. 🌈 #LifeJourney\""
   ]
  },
  {
   "cell_type": "code",
   "execution_count": null,
   "id": "57a25d4b-042c-4d25-aff0-08fe1ac13ce0",
   "metadata": {
    "id": "57a25d4b-042c-4d25-aff0-08fe1ac13ce0",
    "tags": []
   },
   "outputs": [],
   "source": [
    "# create an analyzer object\n",
    "analyzer = SentimentIntensityAnalyzer()\n",
    "\n",
    "# obtain the polarity scores\n",
    "vs = analyzer.polarity_scores(text4)\n",
    "\n",
    "# display results\n",
    "print(\"{} \\n{}\".format(text4, str(vs)))\n",
    "print(\"Sentiment : \",getAnalysis(vs['compound']))"
   ]
  },
  {
   "cell_type": "markdown",
   "id": "8399dce5-180f-4eb3-91d3-fbe7a72b8f3f",
   "metadata": {
    "id": "8399dce5-180f-4eb3-91d3-fbe7a72b8f3f"
   },
   "source": [
    "<div class=\"alert alert-block alert-info\">    \n",
    "<font size = 4> \n",
    "\n",
    "**NOTE:**\n",
    "- VADER is designed for general-purpose sentiment analysis.\n",
    "- It may not perform as effectively as domain-specific models in certain applications.\n",
    "- Depending on your specific use case, consider exploring alternative sentiment analysis tools.\n",
    "- Training your own sentiment analysis model could be a viable option for customization and enhanced performance.\n",
    "\n"
   ]
  },
  {
   "cell_type": "markdown",
   "id": "7c9db5f5-4f6c-4e49-9b85-8fe5aa06b74f",
   "metadata": {},
   "source": [
    "[top](#s0)"
   ]
  },
  {
   "cell_type": "markdown",
   "id": "d93ecc64-3c92-40a7-bfff-2bbf017a144b",
   "metadata": {
    "id": "d7652915-b85a-42aa-9ca0-c89a0d19a8e4"
   },
   "source": [
    "##### <a id = 's4'>\n",
    "<font size = 10 color = 'midnightblue'> <b> Using flair package"
   ]
  },
  {
   "cell_type": "markdown",
   "id": "cee4013d-0841-40e2-b8b3-983cd4f5c711",
   "metadata": {
    "id": "d7652915-b85a-42aa-9ca0-c89a0d19a8e4"
   },
   "source": [
    "<div class=\"alert alert-block alert-success\">    \n",
    "<font size = 4> \n",
    "    \n",
    "- Flair is an open-source NLP library.\n",
    "- It provides state-of-the-art pre-trained models for various NLP tasks, including sentiment analysis, part-of-speech tagging, named entity recognition, and more."
   ]
  },
  {
   "cell_type": "markdown",
   "id": "4080ce12-ad09-4b34-a08f-3dcb08d58957",
   "metadata": {
    "id": "4080ce12-ad09-4b34-a08f-3dcb08d58957"
   },
   "source": [
    "<font size = 5 color = 'seagreen'>  <b> Install flair module"
   ]
  },
  {
   "cell_type": "code",
   "execution_count": null,
   "id": "4b08dc10-fe95-4865-8b12-7cc46ea7575d",
   "metadata": {
    "id": "4b08dc10-fe95-4865-8b12-7cc46ea7575d",
    "tags": []
   },
   "outputs": [],
   "source": [
    "!pip install flair"
   ]
  },
  {
   "cell_type": "markdown",
   "id": "388eb76d-e979-4240-aaf6-420e676e494c",
   "metadata": {
    "id": "388eb76d-e979-4240-aaf6-420e676e494c"
   },
   "source": [
    "<font size = 5 color = 'seagreen'>  <b> import necessary modules for sentiment classification"
   ]
  },
  {
   "cell_type": "code",
   "execution_count": null,
   "id": "5bf64674-fa7e-4048-9e1c-6ca98c86b380",
   "metadata": {
    "id": "5bf64674-fa7e-4048-9e1c-6ca98c86b380",
    "tags": []
   },
   "outputs": [],
   "source": [
    "from flair.models import TextClassifier\n",
    "from flair.data import Sentence"
   ]
  },
  {
   "cell_type": "markdown",
   "id": "21969cf3-593a-4ce6-9d98-cd3b54ad9869",
   "metadata": {
    "id": "21969cf3-593a-4ce6-9d98-cd3b54ad9869"
   },
   "source": [
    "<font size = 5 color = 'seagreen'>  <b> TextClassifier class from Flair is used to load the pre-trained sentiment analysis model."
   ]
  },
  {
   "cell_type": "code",
   "execution_count": null,
   "id": "de1f56dd-b87e-474e-a4e0-c1e64aaef10d",
   "metadata": {
    "id": "de1f56dd-b87e-474e-a4e0-c1e64aaef10d",
    "tags": []
   },
   "outputs": [],
   "source": [
    "classifier = TextClassifier.load('en-sentiment')"
   ]
  },
  {
   "cell_type": "markdown",
   "id": "2a237aca-d24e-401f-855a-40026c9aa6c5",
   "metadata": {
    "id": "2a237aca-d24e-401f-855a-40026c9aa6c5"
   },
   "source": [
    "<font size = 5 color = 'seagreen'>  <b> This model is applied to a sample text by creating a Sentence object and predicting the sentiment using the predict method."
   ]
  },
  {
   "cell_type": "markdown",
   "id": "14GrzSmhnzS3",
   "metadata": {
    "id": "14GrzSmhnzS3"
   },
   "source": [
    "<font size = 5 color = 'darkblue'> **For Text1:**\n",
    "<font size = 5 color = 'pwdrblue'> <b>  \"Life's been a rollercoaster lately 🎢, with work stress piling up 😓.\""
   ]
  },
  {
   "cell_type": "code",
   "execution_count": null,
   "id": "1cda5674-6a06-4a4f-ae45-76c17432edf2",
   "metadata": {
    "id": "1cda5674-6a06-4a4f-ae45-76c17432edf2",
    "tags": []
   },
   "outputs": [],
   "source": [
    "sentence = Sentence(text1)\n",
    "classifier.predict(sentence)"
   ]
  },
  {
   "cell_type": "markdown",
   "id": "68818da0-a874-4bd8-8aeb-84ea1afa9fef",
   "metadata": {
    "id": "68818da0-a874-4bd8-8aeb-84ea1afa9fef"
   },
   "source": [
    "<font size = 5 color = 'seagreen'>  <b>The predicted sentiment label can be accessed through the sentence.labels attribute."
   ]
  },
  {
   "cell_type": "code",
   "execution_count": null,
   "id": "b344a78f-3c50-4c86-a5c3-3e8d784aadc7",
   "metadata": {
    "id": "b344a78f-3c50-4c86-a5c3-3e8d784aadc7",
    "tags": []
   },
   "outputs": [],
   "source": [
    "# print the sentence with predicted labels\n",
    "print(text1)\n",
    "print(f'Sentiment is: {sentence.tag}')\n",
    "print(f'Sentiment score is: {sentence.score:0.4f}')"
   ]
  },
  {
   "cell_type": "markdown",
   "id": "qcmaG4CLn_Km",
   "metadata": {
    "id": "qcmaG4CLn_Km"
   },
   "source": [
    "<font size = 5 color = 'darkblue'> <b>For Text2 : <font size = 5 color = 'pwdrblue'> <b>  \"Thankfully, weekends bring joy and laughter with friends 🌟.\""
   ]
  },
  {
   "cell_type": "code",
   "execution_count": null,
   "id": "13d7b82e-4b97-4c2c-93ce-5aad92f10c00",
   "metadata": {
    "id": "13d7b82e-4b97-4c2c-93ce-5aad92f10c00",
    "tags": []
   },
   "outputs": [],
   "source": [
    "sentence = Sentence(text2)\n",
    "classifier.predict(sentence)\n",
    "\n",
    "# print the sentence with predicted labels\n",
    "print(text2)\n",
    "print(f'Sentiment is: {sentence.tag}')\n",
    "print(f'Sentiment score is: {sentence.score:0.4f}')"
   ]
  },
  {
   "cell_type": "markdown",
   "id": "GQP0tks6oUSY",
   "metadata": {
    "id": "GQP0tks6oUSY"
   },
   "source": [
    "<font size = 5 color = 'darkblue'> <b>For Text3 : <font size = 5 color = 'pwdrblue'> <b>\"Grateful for those moments, but hoping for smoother days ahead.\""
   ]
  },
  {
   "cell_type": "code",
   "execution_count": null,
   "id": "89b9cb1c-d8af-4050-b210-d5e26209a3d9",
   "metadata": {
    "id": "89b9cb1c-d8af-4050-b210-d5e26209a3d9",
    "tags": []
   },
   "outputs": [],
   "source": [
    "sentence = Sentence(text3)\n",
    "classifier.predict(sentence)\n",
    "\n",
    "# print the sentence with predicted labels\n",
    "print(text3)\n",
    "print(f'Sentiment is: {sentence.tag}')\n",
    "print(f'Sentiment score is: {sentence.score:0.4f}')"
   ]
  },
  {
   "cell_type": "markdown",
   "id": "zkRRXVNjoVeH",
   "metadata": {
    "id": "zkRRXVNjoVeH"
   },
   "source": [
    "<font size = 5 color = 'darkblue'> <b>For Text4 : <font size = 5 color = 'pwdrblue'> <b>\"Optimistic about the future despite the current challenges. 🌈 #LifeJourney\""
   ]
  },
  {
   "cell_type": "code",
   "execution_count": null,
   "id": "76ce19da-de5e-41cb-b97d-ccf230a99e90",
   "metadata": {
    "id": "76ce19da-de5e-41cb-b97d-ccf230a99e90",
    "tags": []
   },
   "outputs": [],
   "source": [
    "sentence = Sentence(text4)\n",
    "classifier.predict(sentence)\n",
    "\n",
    "# print the sentence with predicted labels\n",
    "print(text4)\n",
    "print(f'Sentiment is: {sentence.tag}')\n",
    "print(f'Sentiment score is: {sentence.score:0.4f}')"
   ]
  },
  {
   "cell_type": "code",
   "execution_count": null,
   "id": "3285f033-bf22-45eb-8c1c-a3a60c5caa17",
   "metadata": {
    "id": "3285f033-bf22-45eb-8c1c-a3a60c5caa17"
   },
   "outputs": [],
   "source": []
  }
 ],
 "metadata": {
  "colab": {
   "provenance": []
  },
  "kernelspec": {
   "display_name": "Python 3 (ipykernel)",
   "language": "python",
   "name": "python3"
  },
  "language_info": {
   "codemirror_mode": {
    "name": "ipython",
    "version": 3
   },
   "file_extension": ".py",
   "mimetype": "text/x-python",
   "name": "python",
   "nbconvert_exporter": "python",
   "pygments_lexer": "ipython3",
   "version": "3.9.12"
  }
 },
 "nbformat": 4,
 "nbformat_minor": 5
}
