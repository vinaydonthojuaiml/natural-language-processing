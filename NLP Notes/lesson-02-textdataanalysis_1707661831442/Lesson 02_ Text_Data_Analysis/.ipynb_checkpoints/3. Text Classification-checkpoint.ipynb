{
 "cells": [
  {
   "cell_type": "markdown",
   "id": "0a08946c-cf06-4d7e-a1a1-fec1bb307e79",
   "metadata": {
    "id": "2cb063b2-fbc2-412d-809b-4fddc9b5161c"
   },
   "source": [
    "# <center> <font size = 24 color = 'steelblue'> <b>Text Classification using Naive Bayes Classifier"
   ]
  },
  {
   "cell_type": "markdown",
   "id": "6c66fe8d-9552-4e8a-a4a5-611d38be2b3a",
   "metadata": {},
   "source": [
    "<div class=\"alert alert-block alert-info\">\n",
    "    \n",
    "<font size = 4> \n",
    "\n",
    "**By the end of this notebook you will be able to:**\n",
    "- Learn to extract features from text\n",
    "- Learn to train a Naive Bayes classifier model for basic text classification\n",
    "- Explore evaluation of text classification model built"
   ]
  },
  {
   "cell_type": "markdown",
   "id": "ad72c96b-fc89-49cc-aebc-7df396efd85f",
   "metadata": {},
   "source": [
    "# <a id= 'c0'> \n",
    "<font size = 4>\n",
    "    \n",
    "**Table of contents:**<br>\n",
    "[1. Installation and import of necessary packages](#c1)<br>\n",
    "[2. Download the necessary corpus from NLTK](#c2)<br>\n",
    "[3. Data acquisiton](#c3)<br>\n",
    "[4. Feature extraction](#c4)<br>\n",
    "[5. Model development](#c5)<br>\n",
    "[6. Evaluation](#c6)<br>\n",
    "    "
   ]
  },
  {
   "cell_type": "markdown",
   "id": "82454736-5499-438d-a9ac-ada1fbb11e84",
   "metadata": {
    "id": "82454736-5499-438d-a9ac-ada1fbb11e84"
   },
   "source": [
    "##### <a id = 'c1'>\n",
    "<font size = 10 color = 'midnightblue'> <b>Installation and import of necessary packages"
   ]
  },
  {
   "cell_type": "code",
   "execution_count": null,
   "id": "ecb2e262-8654-4656-b7dd-71c29ac166bc",
   "metadata": {
    "id": "ecb2e262-8654-4656-b7dd-71c29ac166bc",
    "tags": []
   },
   "outputs": [],
   "source": [
    "import nltk\n",
    "import string\n",
    "import random\n",
    "import pandas as pd"
   ]
  },
  {
   "cell_type": "markdown",
   "id": "2cb13060-c63c-462e-821f-4dc7ada128d5",
   "metadata": {
    "id": "2cb13060-c63c-462e-821f-4dc7ada128d5"
   },
   "source": [
    "##### <a id = 'c2'>\n",
    "<font size = 10 color = 'midnightblue'> <b>Download necessary corpus and models from nltk"
   ]
  },
  {
   "cell_type": "markdown",
   "id": "03616719-8abf-44ad-b15e-d88fb2507b17",
   "metadata": {
    "id": "2cb063b2-fbc2-412d-809b-4fddc9b5161c"
   },
   "source": [
    "<div class=\"alert alert-block alert-info\">\n",
    "<font size = 4>\n",
    "    \n",
    "<center> <b>Use the \"names\" corpus from nltk to build a simple model for gender classification of names.\n",
    "    "
   ]
  },
  {
   "cell_type": "code",
   "execution_count": null,
   "id": "880bb85f-a0af-4d13-b70e-4487e82ca09d",
   "metadata": {
    "colab": {
     "base_uri": "https://localhost:8080/"
    },
    "executionInfo": {
     "elapsed": 1013,
     "status": "ok",
     "timestamp": 1701924009079,
     "user": {
      "displayName": "Shubham Pandey",
      "userId": "10645658922718505789"
     },
     "user_tz": -330
    },
    "id": "880bb85f-a0af-4d13-b70e-4487e82ca09d",
    "outputId": "a55adba5-5d19-4213-c1bf-a33a9d5f16bf",
    "tags": []
   },
   "outputs": [],
   "source": [
    "nltk.download(\"names\")\n",
    "nltk.download('product_reviews_1')\n",
    "nltk.download('punkt')\n",
    "nltk.download('stopwords')"
   ]
  },
  {
   "cell_type": "code",
   "execution_count": null,
   "id": "54d29229-d62f-4043-b9a3-a0314d286d21",
   "metadata": {
    "colab": {
     "base_uri": "https://localhost:8080/"
    },
    "executionInfo": {
     "elapsed": 2,
     "status": "ok",
     "timestamp": 1701924009079,
     "user": {
      "displayName": "Shubham Pandey",
      "userId": "10645658922718505789"
     },
     "user_tz": -330
    },
    "id": "54d29229-d62f-4043-b9a3-a0314d286d21",
    "outputId": "d73448a7-27c8-4bfc-cdc7-09b2d2615a77"
   },
   "outputs": [],
   "source": [
    "print(nltk.corpus.names.fileids())"
   ]
  },
  {
   "cell_type": "markdown",
   "id": "30f52dda-7572-4bff-ac8e-28c85e935917",
   "metadata": {},
   "source": [
    "[top](#c0)"
   ]
  },
  {
   "cell_type": "markdown",
   "id": "7dc91a1c-8b77-4df0-8f60-510f55e917ba",
   "metadata": {
    "id": "ecab00f0-8713-40df-b204-6ebfd43064db",
    "tags": []
   },
   "source": [
    "##### <a id = 'c3'>\n",
    "<font size = 10 color = 'midnightblue'> <b>Data acquisition"
   ]
  },
  {
   "cell_type": "markdown",
   "id": "c7670006-20ed-4810-afd0-be5b743ff4a9",
   "metadata": {
    "id": "ecab00f0-8713-40df-b204-6ebfd43064db",
    "tags": []
   },
   "source": [
    "<div class=\"alert alert-block alert-success\">\n",
    "    \n",
    "<font size = 4> \n",
    "    \n",
    "- The names corpus contains two text files.\n",
    "- `male.txt` contains list of names which are most frequently used for males.\n",
    "- `female.txt` contains list of names most commonly used for females."
   ]
  },
  {
   "cell_type": "markdown",
   "id": "408d517c-90f5-400d-ba6a-f4493e2b2462",
   "metadata": {
    "id": "ecab00f0-8713-40df-b204-6ebfd43064db",
    "tags": []
   },
   "source": [
    "<font size = 5 color = seagreen> **Start by extracting names as female and male names list.**"
   ]
  },
  {
   "cell_type": "code",
   "execution_count": null,
   "id": "12dda02d-6bb6-45d2-acc2-c894fb8a6719",
   "metadata": {
    "id": "12dda02d-6bb6-45d2-acc2-c894fb8a6719",
    "tags": []
   },
   "outputs": [],
   "source": [
    "female_names = nltk.corpus.names.words('female.txt')\n",
    "male_names = nltk.corpus.names.words('male.txt')"
   ]
  },
  {
   "cell_type": "markdown",
   "id": "8f30d35b-d0b5-4077-8064-4d90ccec659a",
   "metadata": {
    "id": "8f30d35b-d0b5-4077-8064-4d90ccec659a"
   },
   "source": [
    "<font size = 5 color = seagreen> <b> Create a labelled data list with names from **female.txt** labeled as females and names from **male.txt** as males as a tuple."
   ]
  },
  {
   "cell_type": "code",
   "execution_count": null,
   "id": "99ea9d3e-fd60-466e-b4d8-3e1eca6c08db",
   "metadata": {
    "id": "99ea9d3e-fd60-466e-b4d8-3e1eca6c08db",
    "tags": []
   },
   "outputs": [],
   "source": [
    "labeled_data = ([(name, 'female') for name in female_names] +\n",
    "                    [(name, 'male') for name in male_names])"
   ]
  },
  {
   "cell_type": "markdown",
   "id": "bdc11a82-6afc-493d-b38f-0c999fc63ba0",
   "metadata": {},
   "source": [
    "[top](#c0)"
   ]
  },
  {
   "cell_type": "markdown",
   "id": "623367c6-7552-41b4-a6a7-c38afbab09a4",
   "metadata": {
    "id": "4458e77b-7b47-476d-888e-d273ff6e966d",
    "tags": []
   },
   "source": [
    "##### <a id = 'c4'>\n",
    "<font size = 10 color = 'midnightblue'> <b> Feature Extraction"
   ]
  },
  {
   "cell_type": "markdown",
   "id": "663fc644-459e-4709-beee-b0fa186be931",
   "metadata": {
    "id": "4458e77b-7b47-476d-888e-d273ff6e966d",
    "tags": []
   },
   "source": [
    "<div class=\"alert alert-block alert-success\">\n",
    "<font size = 4> \n",
    "    \n",
    "- Text data is unstructured and features need to be extracted in order to use it in ML models.\n",
    "- Here features are identified manually as ***length***, ***first letter***, ***last letter***, ***count of each letter*** and ***count of vowels*** in the name.\n",
    "- The function below extracts these features and returns a dictionary of features."
   ]
  },
  {
   "cell_type": "code",
   "execution_count": null,
   "id": "eec06075-f9ca-4293-b1c3-16f8ebfc766f",
   "metadata": {
    "id": "eec06075-f9ca-4293-b1c3-16f8ebfc766f",
    "tags": []
   },
   "outputs": [],
   "source": [
    "def getFeatures(name):\n",
    "    # Lower casing\n",
    "    name = name.lower()\n",
    "    feature_dict = {}\n",
    "\n",
    "    # Getting the features like length, first_letter, last_letter\n",
    "    feature_dict['length'] = len(name)\n",
    "    feature_dict['first_letter'] = name[0]\n",
    "    feature_dict['last_letter'] = name[-1]\n",
    "\n",
    "    feature_dict['vowels_count'] = 0\n",
    "\n",
    "    # Get the counts of alphabets and vowels\n",
    "    for char in string.ascii_lowercase:\n",
    "        feature_dict[f'count_{char}'] = name.count(char)\n",
    "        if (char in 'aeiou' )and (char in name):\n",
    "            feature_dict['vowels_count'] += name.count(char)\n",
    "\n",
    "    return feature_dict\n",
    "\n"
   ]
  },
  {
   "cell_type": "markdown",
   "id": "39d6a3fb-fc86-44da-9514-27a402d6d105",
   "metadata": {
    "id": "39d6a3fb-fc86-44da-9514-27a402d6d105",
    "tags": []
   },
   "source": [
    "<font size = 5 color = seagreen> <b> Transform names in the labeled data to these features using the above function."
   ]
  },
  {
   "cell_type": "code",
   "execution_count": null,
   "id": "e1158383-b4a4-464a-a28f-22bebd36b9a6",
   "metadata": {
    "id": "e1158383-b4a4-464a-a28f-22bebd36b9a6",
    "tags": []
   },
   "outputs": [],
   "source": [
    "new_lab_data= []\n",
    "for name, label in labeled_data:\n",
    "    features = getFeatures(name)\n",
    "    new_lab_data.append((features, label))"
   ]
  },
  {
   "cell_type": "markdown",
   "id": "8f3f1ef0-28a6-4ad7-956f-ff31ca9f644c",
   "metadata": {},
   "source": [
    ">"
   ]
  },
  {
   "cell_type": "markdown",
   "id": "670b5a5b-4792-43c9-82f3-7faf4bd9fa20",
   "metadata": {},
   "source": [
    "##### <a id = 'c5'>\n",
    "<font size = 10 color = 'midnightblue'> <b> Model development "
   ]
  },
  {
   "cell_type": "markdown",
   "id": "0cde9fbc-cea6-4edb-82c2-c655c948cf10",
   "metadata": {
    "id": "0cde9fbc-cea6-4edb-82c2-c655c948cf10"
   },
   "source": [
    "<font size = 5 color = seagreen> <b> Shuffle the data in random order before splitting into train and test in order to obtain optimized sample for training."
   ]
  },
  {
   "cell_type": "code",
   "execution_count": null,
   "id": "90bb4c58-4ef2-4596-97f0-1be7a3dc8e91",
   "metadata": {
    "id": "90bb4c58-4ef2-4596-97f0-1be7a3dc8e91",
    "tags": []
   },
   "outputs": [],
   "source": [
    "random.shuffle(new_lab_data)"
   ]
  },
  {
   "cell_type": "markdown",
   "id": "491f162c-baf6-4b98-bd17-289a46f0ff82",
   "metadata": {
    "id": "491f162c-baf6-4b98-bd17-289a46f0ff82"
   },
   "source": [
    "<font size = 5 color = seagreen> <b> Select first 1000 records of the shuffled data as test and remaining as training set."
   ]
  },
  {
   "cell_type": "code",
   "execution_count": null,
   "id": "75d8d1ba-f96b-490b-9389-d79d20225419",
   "metadata": {
    "id": "75d8d1ba-f96b-490b-9389-d79d20225419",
    "tags": []
   },
   "outputs": [],
   "source": [
    "test_data = new_lab_data[:1000]\n",
    "train_data = new_lab_data[1000:]"
   ]
  },
  {
   "cell_type": "markdown",
   "id": "5d2c55ab-7ca9-49f2-8617-348471f0216d",
   "metadata": {
    "id": "5d2c55ab-7ca9-49f2-8617-348471f0216d"
   },
   "source": [
    "<font size = 5 color = seagreen> <b> Define the classifier object for training of the model."
   ]
  },
  {
   "cell_type": "code",
   "execution_count": null,
   "id": "bcbc5876-5a7a-4ea9-a34c-d363ea20fd6d",
   "metadata": {
    "id": "bcbc5876-5a7a-4ea9-a34c-d363ea20fd6d",
    "tags": []
   },
   "outputs": [],
   "source": [
    "classifier = nltk.naivebayes.NaiveBayesClassifier.train(train_data)"
   ]
  },
  {
   "cell_type": "markdown",
   "id": "25e76b1c-51b9-4ec5-a43b-bbcc3a00435b",
   "metadata": {
    "id": "25e76b1c-51b9-4ec5-a43b-bbcc3a00435b"
   },
   "source": [
    "<font size = 5 color = seagreen> <b> Once the training is complete, the classifier object may be used to classify for a single name input."
   ]
  },
  {
   "cell_type": "code",
   "execution_count": null,
   "id": "db50aa7b-e22e-4839-ba57-fc4dcb7c2e70",
   "metadata": {
    "colab": {
     "base_uri": "https://localhost:8080/",
     "height": 35
    },
    "executionInfo": {
     "elapsed": 2,
     "status": "ok",
     "timestamp": 1701924030309,
     "user": {
      "displayName": "Shubham Pandey",
      "userId": "10645658922718505789"
     },
     "user_tz": -330
    },
    "id": "db50aa7b-e22e-4839-ba57-fc4dcb7c2e70",
    "outputId": "72af8fed-c673-4b58-83a5-ee81a4b0b462",
    "tags": []
   },
   "outputs": [],
   "source": [
    "classifier.classify(getFeatures('Johnny'))"
   ]
  },
  {
   "cell_type": "markdown",
   "id": "dd2dbad0-daa5-424c-b8ed-68ab4e7b0d70",
   "metadata": {
    "id": "dd2dbad0-daa5-424c-b8ed-68ab4e7b0d70"
   },
   "source": [
    "<div class=\"alert alert-block alert-info\">\n",
    "<font size = 4> \n",
    "    \n",
    "**Note :**\n",
    "  - For classification input text needs to be converted into features similar to the training data\n",
    "  - We can use the same feature extraction function here for transformation\n",
    "    \n"
   ]
  },
  {
   "cell_type": "markdown",
   "id": "3a5d283e-27ef-41cd-ae7c-a17ef5c8f8f8",
   "metadata": {
    "id": "c6dc3486-c94e-4099-a934-2c22b0159e10"
   },
   "source": [
    "<font size = 5 color = seagreen> <b> This classifier object can also be used to classify multiple text inputs at the same time."
   ]
  },
  {
   "cell_type": "markdown",
   "id": "0c6a5918-f440-4052-bbab-794d680ccb0c",
   "metadata": {
    "id": "c6dc3486-c94e-4099-a934-2c22b0159e10"
   },
   "source": [
    "<div class=\"alert alert-block alert-success\">\n",
    "<font size = 4> \n",
    "\n",
    "- In order to do so, pass a unlabeled data to the classifier associated function `classify_many`.\n",
    "- The below snippet separates the labels from the preprocessed (feature extracted) list and prepares the data input for the classification function."
   ]
  },
  {
   "cell_type": "code",
   "execution_count": null,
   "id": "7faaa58c-c188-4235-a6d7-5158f0edd061",
   "metadata": {
    "id": "7faaa58c-c188-4235-a6d7-5158f0edd061",
    "tags": []
   },
   "outputs": [],
   "source": [
    "test_features = []\n",
    "test_labels = []\n",
    "for feature_set, label in test_data:\n",
    "    test_features.append(feature_set)\n",
    "    test_labels.append(label)"
   ]
  },
  {
   "cell_type": "markdown",
   "id": "172d6d62-c665-42a2-935e-1f1ec4a9cf4b",
   "metadata": {
    "id": "172d6d62-c665-42a2-935e-1f1ec4a9cf4b"
   },
   "source": [
    "<font size = 5 color = seagreen> <b> Obtain the classes for the test input."
   ]
  },
  {
   "cell_type": "code",
   "execution_count": null,
   "id": "57c8fcaf-05fb-4440-9247-d989b7a07fd6",
   "metadata": {
    "id": "57c8fcaf-05fb-4440-9247-d989b7a07fd6",
    "tags": []
   },
   "outputs": [],
   "source": [
    "test_labels_pred = classifier.classify_many(test_features)"
   ]
  },
  {
   "cell_type": "markdown",
   "id": "27842bac-05ea-4f80-92cd-8fd322b394cd",
   "metadata": {},
   "source": [
    "[top](#c0)"
   ]
  },
  {
   "cell_type": "markdown",
   "id": "02964daf-f464-40f0-92c4-17d138de4cb2",
   "metadata": {
    "id": "ccb6245b-6819-4c9f-8043-11b2af71420c"
   },
   "source": [
    "##### <a id = 'c6'>\n",
    "<font size = 10 color = 'midnightblue'> <b> Evaluation"
   ]
  },
  {
   "cell_type": "markdown",
   "id": "b109b74b-e77f-44a2-b774-20df673122f7",
   "metadata": {
    "id": "ccb6245b-6819-4c9f-8043-11b2af71420c"
   },
   "source": [
    "<font size = 5 color = seagreen> <b> Use the evaluation metrics for classification models, like confusion matrix, accuracy, etc. to assess the model"
   ]
  },
  {
   "cell_type": "markdown",
   "id": "565a32f0-fa1a-4596-9cc5-18b177096f68",
   "metadata": {
    "id": "565a32f0-fa1a-4596-9cc5-18b177096f68",
    "tags": []
   },
   "source": [
    "<font size = 5 color = pwdrblue> <b> Confusion Matrix"
   ]
  },
  {
   "cell_type": "code",
   "execution_count": null,
   "id": "8c9445ca-b5c2-4f43-9817-fa74e838000f",
   "metadata": {
    "id": "8c9445ca-b5c2-4f43-9817-fa74e838000f",
    "tags": []
   },
   "outputs": [],
   "source": [
    "for_matrix = pd.DataFrame({'pred' : test_labels_pred, 'act' : test_labels})"
   ]
  },
  {
   "cell_type": "code",
   "execution_count": null,
   "id": "cc0455dc-0d9b-4d78-9441-eca022ce43ec",
   "metadata": {
    "colab": {
     "base_uri": "https://localhost:8080/",
     "height": 143
    },
    "executionInfo": {
     "elapsed": 2,
     "status": "ok",
     "timestamp": 1701924033300,
     "user": {
      "displayName": "Shubham Pandey",
      "userId": "10645658922718505789"
     },
     "user_tz": -330
    },
    "id": "cc0455dc-0d9b-4d78-9441-eca022ce43ec",
    "outputId": "e8e6faa4-d024-446a-933d-333f62ce8272",
    "tags": []
   },
   "outputs": [],
   "source": [
    "confusion_mat = pd.crosstab(for_matrix.pred, for_matrix.act)\n",
    "confusion_mat"
   ]
  },
  {
   "cell_type": "code",
   "execution_count": null,
   "id": "fc4870c3-cacd-45d2-b441-f31e2511d503",
   "metadata": {
    "id": "fc4870c3-cacd-45d2-b441-f31e2511d503",
    "tags": []
   },
   "outputs": [],
   "source": [
    "# Get the values of true positives, true negatives, false positives, false negatives for computation of accuracy and other measures\n",
    "TP = confusion_mat.iloc[0,0]\n",
    "TN = confusion_mat.iloc[1,1]\n",
    "FP = confusion_mat.iloc[0,1]\n",
    "FN = confusion_mat.iloc[1,0]"
   ]
  },
  {
   "cell_type": "code",
   "execution_count": null,
   "id": "33Zi8It-kTIl",
   "metadata": {
    "colab": {
     "base_uri": "https://localhost:8080/"
    },
    "executionInfo": {
     "elapsed": 1,
     "status": "ok",
     "timestamp": 1701924033968,
     "user": {
      "displayName": "Shubham Pandey",
      "userId": "10645658922718505789"
     },
     "user_tz": -330
    },
    "id": "33Zi8It-kTIl",
    "outputId": "e8f5a165-a157-4a12-a73a-f29fd351178d"
   },
   "outputs": [],
   "source": [
    "Accuracy = (TP + TN) / sum([TP, TN, FP, FN]) * 100\n",
    "print(f\"Accuracy : {Accuracy:0.2f} %\")"
   ]
  },
  {
   "cell_type": "markdown",
   "id": "b58e78c4-861a-414c-b0b2-952cbc9cfb7c",
   "metadata": {
    "id": "b58e78c4-861a-414c-b0b2-952cbc9cfb7c"
   },
   "source": [
    "<font size = 5 color = seagreen> <b> NLTK also provides functions to obtain accuracy for the model."
   ]
  },
  {
   "cell_type": "code",
   "execution_count": null,
   "id": "28df448d-9d3a-4163-9f7d-f09c63afbd59",
   "metadata": {
    "colab": {
     "base_uri": "https://localhost:8080/"
    },
    "executionInfo": {
     "elapsed": 654,
     "status": "ok",
     "timestamp": 1701924035337,
     "user": {
      "displayName": "Shubham Pandey",
      "userId": "10645658922718505789"
     },
     "user_tz": -330
    },
    "id": "28df448d-9d3a-4163-9f7d-f09c63afbd59",
    "outputId": "359563bb-dd2f-4b20-904a-9c79d45a73ce",
    "tags": []
   },
   "outputs": [],
   "source": [
    "## Accuracy on test data :\n",
    "nltk.classify.accuracy(classifier, test_data)"
   ]
  },
  {
   "cell_type": "markdown",
   "id": "b8465ac8-89fe-4648-bdca-db50fbc47286",
   "metadata": {
    "id": "b8465ac8-89fe-4648-bdca-db50fbc47286"
   },
   "source": [
    "<font size = 5 color = seagreen> <b> The nltk `naive bayes model` also provides the `top n` important features contributing in classification."
   ]
  },
  {
   "cell_type": "code",
   "execution_count": null,
   "id": "4b48d1de-4565-4abc-85b1-5e0160eb6b6c",
   "metadata": {
    "colab": {
     "base_uri": "https://localhost:8080/"
    },
    "executionInfo": {
     "elapsed": 1,
     "status": "ok",
     "timestamp": 1701924035337,
     "user": {
      "displayName": "Shubham Pandey",
      "userId": "10645658922718505789"
     },
     "user_tz": -330
    },
    "id": "4b48d1de-4565-4abc-85b1-5e0160eb6b6c",
    "outputId": "6652c8d6-aa69-4965-fe02-b05e1e24e829",
    "tags": []
   },
   "outputs": [],
   "source": [
    "classifier.show_most_informative_features(n = 15)"
   ]
  },
  {
   "cell_type": "markdown",
   "id": "355552c3-e7aa-4cd0-a8de-f9a3535d266f",
   "metadata": {
    "id": "355552c3-e7aa-4cd0-a8de-f9a3535d266f"
   },
   "source": [
    "<div class=\"alert alert-block alert-info\">\n",
    "<font size = 4> \n",
    "    \n",
    "**Note :**\n",
    "\n",
    "**This model can be modified to be used for any labeled data with required data cleaning and preprocessing.**\n",
    "\n",
    "- The NLTK naive bayes classifier accepts the text data in a specific format, i.e. a list containingtuples which contain the feature dictionary and the label as its items.\n",
    "- The data should be transformed in this manner and used for classification.\n",
    "- `sklearn` classifiers may also be used but they require transforming text data to numerical formats (discussed in next chapters).\n"
   ]
  },
  {
   "cell_type": "code",
   "execution_count": null,
   "id": "9f1b1314-9c79-4090-8e89-25ca4f6dcd60",
   "metadata": {
    "id": "9f1b1314-9c79-4090-8e89-25ca4f6dcd60"
   },
   "outputs": [],
   "source": []
  }
 ],
 "metadata": {
  "colab": {
   "provenance": []
  },
  "kernelspec": {
   "display_name": "Python 3 (ipykernel)",
   "language": "python",
   "name": "python3"
  },
  "language_info": {
   "codemirror_mode": {
    "name": "ipython",
    "version": 3
   },
   "file_extension": ".py",
   "mimetype": "text/x-python",
   "name": "python",
   "nbconvert_exporter": "python",
   "pygments_lexer": "ipython3",
   "version": "3.9.12"
  }
 },
 "nbformat": 4,
 "nbformat_minor": 5
}
