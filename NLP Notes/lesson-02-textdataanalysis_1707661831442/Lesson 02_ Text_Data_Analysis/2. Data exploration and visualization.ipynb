{
 "cells": [
  {
   "cell_type": "markdown",
   "id": "87bd43c2-a7a6-4592-be65-077fb644a7b4",
   "metadata": {
    "id": "87bd43c2-a7a6-4592-be65-077fb644a7b4",
    "tags": []
   },
   "source": [
    "# <center> <font size = 24 color = 'steelblue'> <b>Exploration and Visualization"
   ]
  },
  {
   "cell_type": "markdown",
   "id": "9c5e7e9a-ee50-45cc-a231-332acfa6db5b",
   "metadata": {},
   "source": [
    "<div class=\"alert alert-block alert-info\">\n",
    "    \n",
    "<font size = 4> \n",
    "\n",
    "**By the end of this notebook you will be able to:**\n",
    "- Learn to explore text data\n",
    "- Visualize text data using wordcloud"
   ]
  },
  {
   "cell_type": "markdown",
   "id": "e7359042-8df5-45e5-8074-7eedcd28f76e",
   "metadata": {},
   "source": [
    "# <a id= 'e0'> \n",
    "<font size = 4>\n",
    "    \n",
    "**Table of contents:**<br>\n",
    "[1. Installation and import of necessary packages](#e1)<br>\n",
    "[2. Download the necessary corpus from NLTK](#e2)<br>\n",
    "[3. Data extraction](#e3)<br>\n",
    ">[a. Check the files available in the corpus](#3.a)<br>\n",
    ">[b. Use the 'Canon_G3.txt'](#3.b)<br>\n",
    "\n",
    "[4. Data exploration and visualization](#e4)<br>\n",
    "> [4.1 Basic exploration](#4.1)<br>\n",
    "> [4.1 Detailed exploration](#4.2)<br>\n",
    "> [4.3 Word frequency analysis](#4.3)<br>\n",
    "> [4.4 Wordcloud generation](#4.4)<br>"
   ]
  },
  {
   "cell_type": "markdown",
   "id": "2b0b7a1f-0df4-4b18-9b01-42e09024c754",
   "metadata": {
    "tags": []
   },
   "source": [
    "##### <a id = 'e1'>\n",
    "<font size = 10 color = 'midnightblue'> <b>Installation and import of necessary packages"
   ]
  },
  {
   "cell_type": "code",
   "execution_count": null,
   "id": "b3b7e56b-1923-457c-b7a0-bd197179c320",
   "metadata": {
    "id": "b3b7e56b-1923-457c-b7a0-bd197179c320",
    "tags": []
   },
   "outputs": [],
   "source": [
    "import nltk\n",
    "import pandas as pd\n",
    "import matplotlib.pyplot as plt\n",
    "from wordcloud import WordCloud"
   ]
  },
  {
   "cell_type": "markdown",
   "id": "69a11558-963d-4dba-bd0d-ed364b6a494d",
   "metadata": {},
   "source": [
    "[top](#e0)"
   ]
  },
  {
   "cell_type": "markdown",
   "id": "585cc1ec-c621-4b1d-af1c-59640fc6fdc3",
   "metadata": {
    "id": "585cc1ec-c621-4b1d-af1c-59640fc6fdc3"
   },
   "source": [
    "##### <a id = 'e2'>\n",
    "<font size = 10 color = 'midnightblue'> <b>Download necessary corpus and models from nltk"
   ]
  },
  {
   "cell_type": "code",
   "execution_count": null,
   "id": "94dc113b-26d3-4611-ac9c-617647e2a2a7",
   "metadata": {
    "colab": {
     "base_uri": "https://localhost:8080/"
    },
    "executionInfo": {
     "elapsed": 844,
     "status": "ok",
     "timestamp": 1701922894578,
     "user": {
      "displayName": "Shubham Pandey",
      "userId": "10645658922718505789"
     },
     "user_tz": -330
    },
    "id": "94dc113b-26d3-4611-ac9c-617647e2a2a7",
    "outputId": "821158b6-9e6d-4f0c-c5b1-60e469eaddab",
    "tags": []
   },
   "outputs": [],
   "source": [
    "nltk.download('product_reviews_1')\n",
    "nltk.download('punkt')\n",
    "nltk.download('stopwords')"
   ]
  },
  {
   "cell_type": "markdown",
   "id": "4816646d-0e5a-4d97-8293-be5adac1fadb",
   "metadata": {
    "id": "4816646d-0e5a-4d97-8293-be5adac1fadb",
    "tags": []
   },
   "source": [
    "<div class=\"alert alert-block alert-info\">\n",
    "<font size = 4> \n",
    "    \n",
    "<center><b>The product reviews corpus contains multiple products reviews for specific products.\n"
   ]
  },
  {
   "cell_type": "markdown",
   "id": "e21adbf0-6a04-4745-be89-6b5a1c970a28",
   "metadata": {},
   "source": [
    "[top](#e0)"
   ]
  },
  {
   "cell_type": "markdown",
   "id": "7facfddc-6894-40d2-9fe4-607bf192248e",
   "metadata": {},
   "source": [
    "##### <a id = 'e3'>\n",
    "<font size = 10 color = 'midnightblue'> <b>Data extraction"
   ]
  },
  {
   "cell_type": "markdown",
   "id": "7e005191-5c04-4eaf-b58e-2a3fd3622bdd",
   "metadata": {
    "id": "7e005191-5c04-4eaf-b58e-2a3fd3622bdd"
   },
   "source": [
    "<a id = '3.a'>\n",
    "<font size = 6 color = pwdrblue>  <b>Check the files available in the corpus"
   ]
  },
  {
   "cell_type": "code",
   "execution_count": null,
   "id": "3dab3a1a-ac9c-499f-ba0a-38f1cdd31931",
   "metadata": {
    "colab": {
     "base_uri": "https://localhost:8080/"
    },
    "executionInfo": {
     "elapsed": 11,
     "status": "ok",
     "timestamp": 1701922894579,
     "user": {
      "displayName": "Shubham Pandey",
      "userId": "10645658922718505789"
     },
     "user_tz": -330
    },
    "id": "3dab3a1a-ac9c-499f-ba0a-38f1cdd31931",
    "outputId": "60deee58-955b-4fb3-d4c7-600f1db7f8a6",
    "tags": []
   },
   "outputs": [],
   "source": [
    "file_ids = nltk.corpus.product_reviews_1.fileids()\n",
    "print(file_ids)"
   ]
  },
  {
   "cell_type": "markdown",
   "id": "e01f8a04-53bf-4983-90f2-ec280983e685",
   "metadata": {
    "id": "e01f8a04-53bf-4983-90f2-ec280983e685"
   },
   "source": [
    "<a id = '3.b'>\n",
    "<font size = 6 color = pwdrblue>  <b>Use the 'Canon_G3.txt' review file for this exercise"
   ]
  },
  {
   "cell_type": "markdown",
   "id": "d8da8496-c75b-40c5-b11e-d100dc60d967",
   "metadata": {
    "id": "d8da8496-c75b-40c5-b11e-d100dc60d967"
   },
   "source": [
    "<div class=\"alert alert-block alert-success\">\n",
    "<font size = 4> \n",
    "    \n",
    "**To extract text data from the file, there are multiple ways**\n",
    "\n",
    "  - `reviews` function extracts the reviews in an object form.\n",
    "  - `raw` function extracts the raw data from the text file.\n",
    "  - `sents` function extract tokenised list of all sentences in all the reviews."
   ]
  },
  {
   "cell_type": "code",
   "execution_count": null,
   "id": "3c6bc581-edc5-4b6c-8354-0c1f70f735fe",
   "metadata": {
    "id": "3c6bc581-edc5-4b6c-8354-0c1f70f735fe",
    "tags": []
   },
   "outputs": [],
   "source": [
    "reviews = nltk.corpus.product_reviews_1.reviews(file_ids[1])\n",
    "raw_text = nltk.corpus.product_reviews_1.raw(file_ids[1])\n",
    "review_sentences = nltk.corpus.product_reviews_1.sents(file_ids[1])"
   ]
  },
  {
   "cell_type": "markdown",
   "id": "8d60afdf-6faa-4b4d-9b00-0376655a15ac",
   "metadata": {},
   "source": [
    "[top](#e0)"
   ]
  },
  {
   "cell_type": "markdown",
   "id": "eb40f363-4438-4a91-821f-1c766f852ade",
   "metadata": {},
   "source": [
    "##### <a id = 'e4'>\n",
    "<font size = 10 color = 'midnightblue'> <b>Data Exploration"
   ]
  },
  {
   "cell_type": "markdown",
   "id": "fb38571c-2a08-4383-a471-2d87d3d5a902",
   "metadata": {},
   "source": [
    "<a id = '4.a'>\n",
    "<font size = 6 color = pwdrblue>  <b>Basic exploration"
   ]
  },
  {
   "cell_type": "markdown",
   "id": "3e9333df-8fc2-42a6-869e-eca08a55b6dc",
   "metadata": {
    "id": "3e9333df-8fc2-42a6-869e-eca08a55b6dc"
   },
   "source": [
    "<div class=\"alert alert-block alert-success\">\n",
    "<font size = 4> \n",
    "\n",
    "**Let's start with simple exploration to check**\n",
    "  - The total number of reviews,\n",
    "  - Total number of review sentences,\n",
    "  - Title for each review, and\n",
    "  - Extract complete review texts"
   ]
  },
  {
   "cell_type": "code",
   "execution_count": null,
   "id": "3390163d-6bd3-4993-b067-c8390d5c1d23",
   "metadata": {
    "colab": {
     "base_uri": "https://localhost:8080/"
    },
    "executionInfo": {
     "elapsed": 9,
     "status": "ok",
     "timestamp": 1701922894579,
     "user": {
      "displayName": "Shubham Pandey",
      "userId": "10645658922718505789"
     },
     "user_tz": -330
    },
    "id": "3390163d-6bd3-4993-b067-c8390d5c1d23",
    "outputId": "f6a04fa0-2b15-4bde-884f-d7d6974ca3b3",
    "tags": []
   },
   "outputs": [],
   "source": [
    "print(f\"Total no. of review available : {len(reviews)}\")"
   ]
  },
  {
   "cell_type": "code",
   "execution_count": null,
   "id": "2dd803c3-0b45-44a2-a169-24f0e9350c09",
   "metadata": {
    "colab": {
     "base_uri": "https://localhost:8080/"
    },
    "executionInfo": {
     "elapsed": 8,
     "status": "ok",
     "timestamp": 1701922894579,
     "user": {
      "displayName": "Shubham Pandey",
      "userId": "10645658922718505789"
     },
     "user_tz": -330
    },
    "id": "2dd803c3-0b45-44a2-a169-24f0e9350c09",
    "outputId": "b103c28e-666f-4b2c-faa6-6337f3fb1027",
    "tags": []
   },
   "outputs": [],
   "source": [
    "print(f\"Total review sentences : {len(review_sentences)}\")"
   ]
  },
  {
   "cell_type": "code",
   "execution_count": null,
   "id": "384bd693-fab9-47aa-aa09-466e9740c5f3",
   "metadata": {
    "colab": {
     "base_uri": "https://localhost:8080/"
    },
    "executionInfo": {
     "elapsed": 8,
     "status": "ok",
     "timestamp": 1701922894579,
     "user": {
      "displayName": "Shubham Pandey",
      "userId": "10645658922718505789"
     },
     "user_tz": -330
    },
    "id": "384bd693-fab9-47aa-aa09-466e9740c5f3",
    "outputId": "b820b413-aef5-4c88-d5ef-83b6b26d51b9",
    "tags": []
   },
   "outputs": [],
   "source": [
    "review_titles = {f\"rev_{i+1}\" : reviews[i].title for i in range(len(reviews))}\n",
    "for tit in review_titles.keys():\n",
    "    print(f\"{tit} : {review_titles[tit]}\")"
   ]
  },
  {
   "cell_type": "code",
   "execution_count": null,
   "id": "bb23d762-9f36-40e2-975d-3850e1ff890f",
   "metadata": {
    "id": "bb23d762-9f36-40e2-975d-3850e1ff890f",
    "tags": []
   },
   "outputs": [],
   "source": [
    "review_texts = []\n",
    "for i in range(len(reviews)):\n",
    "    review_lines = reviews[i].review_lines\n",
    "    line = ''\n",
    "    for j in range(len(review_lines)):\n",
    "        line += ' '.join(review_lines[j].sent)\n",
    "    review_texts.append(line)\n"
   ]
  },
  {
   "cell_type": "code",
   "execution_count": null,
   "id": "0632052a-278f-4b81-ae7b-a752c940aad7",
   "metadata": {
    "colab": {
     "base_uri": "https://localhost:8080/"
    },
    "executionInfo": {
     "elapsed": 7,
     "status": "ok",
     "timestamp": 1701922894579,
     "user": {
      "displayName": "Shubham Pandey",
      "userId": "10645658922718505789"
     },
     "user_tz": -330
    },
    "id": "0632052a-278f-4b81-ae7b-a752c940aad7",
    "outputId": "60eb4db6-e225-455d-9ed9-c6c32efd8791",
    "tags": []
   },
   "outputs": [],
   "source": [
    "print(\"Complete Review Texts\".center(150))\n",
    "i = 1\n",
    "for rev in review_texts:\n",
    "    print(f\"Title --> {review_titles[f'rev_{i}']} :\\n\\n{rev}\\n\")\n",
    "    print(f\"Summary --> \\nLen of review : {len(rev.split())} words.\\n\")\n",
    "    i += 1"
   ]
  },
  {
   "cell_type": "markdown",
   "id": "af4666a0-c292-44e5-a3a7-5fc71ca529aa",
   "metadata": {},
   "source": [
    "[top](#t0)"
   ]
  },
  {
   "cell_type": "markdown",
   "id": "62cb4ecc-b1bd-428d-b593-f6b702c042ae",
   "metadata": {},
   "source": [
    "<a id = '4.2'>\n",
    "<font size = 6 color = pwdrblue>  <b>Detailed exploration"
   ]
  },
  {
   "cell_type": "markdown",
   "id": "70880d65-7881-4dfd-8c80-f39a600eec7a",
   "metadata": {
    "id": "70880d65-7881-4dfd-8c80-f39a600eec7a",
    "tags": []
   },
   "source": [
    "<font size = 5 color = seagreen>  <b>Words per review"
   ]
  },
  {
   "cell_type": "code",
   "execution_count": null,
   "id": "185a00ff-8f2b-43c0-a84a-07064cd4586f",
   "metadata": {
    "id": "185a00ff-8f2b-43c0-a84a-07064cd4586f",
    "tags": []
   },
   "outputs": [],
   "source": [
    "words_per_review = [len(rev) for rev in review_texts]"
   ]
  },
  {
   "cell_type": "code",
   "execution_count": null,
   "id": "9e536500-7657-481f-99c7-c0d6fa59d12e",
   "metadata": {
    "colab": {
     "base_uri": "https://localhost:8080/"
    },
    "executionInfo": {
     "elapsed": 685,
     "status": "ok",
     "timestamp": 1701922895262,
     "user": {
      "displayName": "Shubham Pandey",
      "userId": "10645658922718505789"
     },
     "user_tz": -330
    },
    "id": "9e536500-7657-481f-99c7-c0d6fa59d12e",
    "outputId": "4d68e94e-df6a-4535-9241-ea72794323a0",
    "tags": []
   },
   "outputs": [],
   "source": [
    "print(f\"Largest review: {max(words_per_review)}\")\n",
    "print(f\"Smallest review: {min(words_per_review)}\")\n",
    "print(f\"Average words per review: {sum(words_per_review)/ len(words_per_review):.0f}\")"
   ]
  },
  {
   "cell_type": "markdown",
   "id": "7c72d5e7-3f90-4517-a7b0-ad8e0379f6f3",
   "metadata": {
    "id": "7c72d5e7-3f90-4517-a7b0-ad8e0379f6f3",
    "tags": []
   },
   "source": [
    "<font size = 5 color = seagreen>  <b>Average sentence length analysis"
   ]
  },
  {
   "cell_type": "code",
   "execution_count": null,
   "id": "074f64ad-0df3-422c-8b06-1ad1d8e30b54",
   "metadata": {
    "id": "074f64ad-0df3-422c-8b06-1ad1d8e30b54",
    "tags": []
   },
   "outputs": [],
   "source": [
    "sent_length = [len(rev) for rev in review_sentences]"
   ]
  },
  {
   "cell_type": "code",
   "execution_count": null,
   "id": "ba3fcd06-88bf-4419-a9d9-f4cf5b4e0728",
   "metadata": {
    "colab": {
     "base_uri": "https://localhost:8080/"
    },
    "executionInfo": {
     "elapsed": 5,
     "status": "ok",
     "timestamp": 1701922895262,
     "user": {
      "displayName": "Shubham Pandey",
      "userId": "10645658922718505789"
     },
     "user_tz": -330
    },
    "id": "ba3fcd06-88bf-4419-a9d9-f4cf5b4e0728",
    "outputId": "9dda6b87-cc32-4faf-fb9f-b807d2f4c6cc",
    "tags": []
   },
   "outputs": [],
   "source": [
    "print(f\"Largest sentence: {max(sent_length)}\")\n",
    "print(f\"Smallest sentence: {min(sent_length)}\")\n",
    "print(f\"Average sentence length: {sum(sent_length)/ len(sent_length):.0f}\")"
   ]
  },
  {
   "cell_type": "markdown",
   "id": "9e199cd9-6db7-4856-a8ff-77ec3dc7aee3",
   "metadata": {
    "id": "f9cccab1-0653-4495-bae2-509174d1c0b3",
    "tags": []
   },
   "source": [
    "<font size = 5 color = seagreen>  <b>Review title analysis"
   ]
  },
  {
   "cell_type": "markdown",
   "id": "68b00c20-3311-4f74-9770-29312fadc1db",
   "metadata": {
    "id": "f9cccab1-0653-4495-bae2-509174d1c0b3",
    "tags": []
   },
   "source": [
    "<div class=\"alert alert-block alert-success\">\n",
    "<font size = 4> \n",
    "    \n",
    "- Explore the review titles to understand the sentiments.\n",
    "- For this we need to extract the titles using the review object.\n",
    "- This we ave done earlier."
   ]
  },
  {
   "cell_type": "code",
   "execution_count": null,
   "id": "f8b514b1-0d00-4775-b6a0-447d9c1051f2",
   "metadata": {
    "id": "f8b514b1-0d00-4775-b6a0-447d9c1051f2",
    "tags": []
   },
   "outputs": [],
   "source": [
    "titles = ' '.join(list(review_titles.values()))"
   ]
  },
  {
   "cell_type": "code",
   "execution_count": null,
   "id": "f6fc596b-9e19-4631-b093-1f9dae3db263",
   "metadata": {
    "id": "f6fc596b-9e19-4631-b093-1f9dae3db263",
    "tags": []
   },
   "outputs": [],
   "source": [
    "# tokenization\n",
    "tokens = nltk.word_tokenize(titles)"
   ]
  },
  {
   "cell_type": "markdown",
   "id": "0e3227ab-a0cb-4788-b663-16071d13a926",
   "metadata": {},
   "source": [
    "[top](#e0)"
   ]
  },
  {
   "cell_type": "markdown",
   "id": "957bc682-dc0f-4456-9766-9578793c8fcc",
   "metadata": {
    "id": "62477144-5283-4262-a339-c30d24f28d87"
   },
   "source": [
    "<a id = '4.3'>\n",
    "<font size = 6 color = pwdrblue>  <b>Word frequency distribution"
   ]
  },
  {
   "cell_type": "markdown",
   "id": "b736cc51-f374-4975-8881-bc0ae82f3c0f",
   "metadata": {
    "id": "62477144-5283-4262-a339-c30d24f28d87"
   },
   "source": [
    "<div class=\"alert alert-block alert-success\">\n",
    "<font size = 4> \n",
    "    \n",
    "- Analyze the word frequency using the _**Freq_dist**_ function of nltk.\n",
    "- This accounts for frequency of each word in the text being analyzed.\n",
    "- Create a dataframe for ease of analysis."
   ]
  },
  {
   "cell_type": "code",
   "execution_count": null,
   "id": "21a55e92-f123-427f-bc0d-472ed8179f0e",
   "metadata": {
    "colab": {
     "base_uri": "https://localhost:8080/"
    },
    "executionInfo": {
     "elapsed": 4,
     "status": "ok",
     "timestamp": 1701922895262,
     "user": {
      "displayName": "Shubham Pandey",
      "userId": "10645658922718505789"
     },
     "user_tz": -330
    },
    "id": "21a55e92-f123-427f-bc0d-472ed8179f0e",
    "outputId": "4c66138f-5a5c-4709-8b3c-034fbc5165ef",
    "tags": []
   },
   "outputs": [],
   "source": [
    "freq_dist = pd.DataFrame({\"words\" : nltk.FreqDist(tokens).keys(), \"freq\" : nltk.FreqDist(tokens).values()})\n",
    "freq_dist.sort_values('freq',ascending=False, inplace = True, ignore_index=True)\n",
    "freq_dist.freq.sum()"
   ]
  },
  {
   "cell_type": "markdown",
   "id": "24047bf3-ae1c-418d-afbb-753b5d9c9faa",
   "metadata": {
    "id": "24047bf3-ae1c-418d-afbb-753b5d9c9faa"
   },
   "source": [
    "<font size = 5 color = seagreen> **Stopword analysis**\n",
    "\n",
    "<div class=\"alert alert-block alert-success\">\n",
    "<font size = 4> \n",
    "    \n",
    "**Clean the data further to remove the frequently occurring stopwords.**"
   ]
  },
  {
   "cell_type": "code",
   "execution_count": null,
   "id": "1d207667-d198-4745-bfc4-8e3fc4b0766f",
   "metadata": {
    "id": "1d207667-d198-4745-bfc4-8e3fc4b0766f",
    "tags": []
   },
   "outputs": [],
   "source": [
    "stp_words = nltk.corpus.stopwords.words('english')"
   ]
  },
  {
   "cell_type": "code",
   "execution_count": null,
   "id": "d2de4e01-3970-4152-876f-852a33878af7",
   "metadata": {
    "colab": {
     "base_uri": "https://localhost:8080/",
     "height": 363
    },
    "executionInfo": {
     "elapsed": 593,
     "status": "ok",
     "timestamp": 1701922968796,
     "user": {
      "displayName": "Shubham Pandey",
      "userId": "10645658922718505789"
     },
     "user_tz": -330
    },
    "id": "d2de4e01-3970-4152-876f-852a33878af7",
    "outputId": "bd436ba8-3a00-4c46-9788-bfb80e8abff8",
    "tags": []
   },
   "outputs": [],
   "source": [
    "stp_wrd_freq_dist = freq_dist[freq_dist.words.isin(stp_words)].reset_index(drop = True)\n",
    "stp_wrd_freq_dist[:10]"
   ]
  },
  {
   "cell_type": "markdown",
   "id": "ac5fbc05-50cb-4a69-b9ef-a42ee8bbe6c0",
   "metadata": {
    "id": "ac5fbc05-50cb-4a69-b9ef-a42ee8bbe6c0",
    "tags": []
   },
   "source": [
    "<font size = 5 color = seagreen> <b>Use a bar chart to analyze the most frequent words in the text.\n",
    "    "
   ]
  },
  {
   "cell_type": "code",
   "execution_count": null,
   "id": "37cd6135-28a4-46c6-bc1b-66c1ec56f628",
   "metadata": {
    "colab": {
     "base_uri": "https://localhost:8080/",
     "height": 383
    },
    "executionInfo": {
     "elapsed": 567,
     "status": "ok",
     "timestamp": 1701922969973,
     "user": {
      "displayName": "Shubham Pandey",
      "userId": "10645658922718505789"
     },
     "user_tz": -330
    },
    "id": "37cd6135-28a4-46c6-bc1b-66c1ec56f628",
    "outputId": "0be4990d-c3ef-4704-ebdb-9b9cba331bbd",
    "tags": []
   },
   "outputs": [],
   "source": [
    "plt.figure(figsize = (20,5))\n",
    "plt.bar(x = stp_wrd_freq_dist.words[:10], height=stp_wrd_freq_dist.freq[:10])\n",
    "for i in range(10):\n",
    "    plt.annotate(f\"{stp_wrd_freq_dist.freq[i]}\",xy = (i, stp_wrd_freq_dist.freq[i]+0.15) )\n",
    "plt.ylim(0,12)\n",
    "plt.show()"
   ]
  },
  {
   "cell_type": "markdown",
   "id": "98a44180-b73d-40be-bec7-62e0ff124066",
   "metadata": {
    "id": "98a44180-b73d-40be-bec7-62e0ff124066"
   },
   "source": [
    "<font size = 5 color = seagreen> <b>Perform a granular analysis exploring the top 20 words by frequency."
   ]
  },
  {
   "cell_type": "code",
   "execution_count": null,
   "id": "f0962925-9670-4d9d-b179-8090681af1a7",
   "metadata": {
    "colab": {
     "base_uri": "https://localhost:8080/",
     "height": 424
    },
    "executionInfo": {
     "elapsed": 3,
     "status": "ok",
     "timestamp": 1701922970589,
     "user": {
      "displayName": "Shubham Pandey",
      "userId": "10645658922718505789"
     },
     "user_tz": -330
    },
    "id": "f0962925-9670-4d9d-b179-8090681af1a7",
    "outputId": "f14096b6-367f-41c6-a474-5d28b7ab3c2b",
    "tags": []
   },
   "outputs": [],
   "source": [
    "top_20_words = freq_dist[~(freq_dist.words.isin(stp_words))].reset_index(drop = True)\n",
    "top_20_words"
   ]
  },
  {
   "cell_type": "code",
   "execution_count": null,
   "id": "1087c788-d80b-4306-91d7-121ba0ccf843",
   "metadata": {
    "colab": {
     "base_uri": "https://localhost:8080/",
     "height": 378
    },
    "executionInfo": {
     "elapsed": 2,
     "status": "ok",
     "timestamp": 1701922972280,
     "user": {
      "displayName": "Shubham Pandey",
      "userId": "10645658922718505789"
     },
     "user_tz": -330
    },
    "id": "1087c788-d80b-4306-91d7-121ba0ccf843",
    "outputId": "b476337a-8f94-4307-8fc1-d1e4d265b9a0",
    "tags": []
   },
   "outputs": [],
   "source": [
    "plt.figure(figsize = (20,5))\n",
    "plt.bar(x = top_20_words.words[:10], height=top_20_words.freq[:10])\n",
    "for i in range(10):\n",
    "    plt.annotate(f\"{top_20_words.freq[i]}\",xy = (i, top_20_words.freq[i]+0.15) )\n",
    "# plt.ylim(0,12)\n",
    "plt.show()"
   ]
  },
  {
   "cell_type": "markdown",
   "id": "bc40fb06-bad5-4626-a217-1820d44c546e",
   "metadata": {
    "id": "bc40fb06-bad5-4626-a217-1820d44c546e",
    "tags": []
   },
   "source": [
    "<div class=\"alert alert-block alert-success\">\n",
    "<font size = 4>\n",
    "\n",
    "- Looking at the plot it seems terms like `camera`, `cannon`, `g2` which are terms identical to product name are present in abundance.\n",
    "- However they are not contributing much to analysis, hence these may be removed from the data.\n"
   ]
  },
  {
   "cell_type": "code",
   "execution_count": null,
   "id": "247a3799-2752-4999-b6ce-64f2d2619310",
   "metadata": {
    "id": "247a3799-2752-4999-b6ce-64f2d2619310",
    "tags": []
   },
   "outputs": [],
   "source": [
    "word_list = ['camera', 'canon', 'g2', 'digital']\n",
    "most_list = top_20_words[~(top_20_words.words.isin(word_list))]"
   ]
  },
  {
   "cell_type": "code",
   "execution_count": null,
   "id": "f2ac2bea-ad3f-4c50-b62c-b9678dcbf9a1",
   "metadata": {
    "id": "f2ac2bea-ad3f-4c50-b62c-b9678dcbf9a1",
    "tags": []
   },
   "outputs": [],
   "source": [
    "most_list = most_list[most_list.words.str.isalpha()]"
   ]
  },
  {
   "cell_type": "code",
   "execution_count": null,
   "id": "c4b300c0-563f-400b-9f5b-a0b16d5091e8",
   "metadata": {
    "id": "c4b300c0-563f-400b-9f5b-a0b16d5091e8",
    "tags": []
   },
   "outputs": [],
   "source": [
    "word_freq = {word : freq for word, freq in zip(most_list.words, most_list.freq)}"
   ]
  },
  {
   "cell_type": "markdown",
   "id": "da6c47d8-551f-4119-8b98-d5388ef5e1f1",
   "metadata": {},
   "source": [
    "[top](#e0)"
   ]
  },
  {
   "cell_type": "markdown",
   "id": "0ed56003-16c4-4b0d-ae90-97b6d1d7842e",
   "metadata": {
    "id": "6ad02cf6-1a50-4ff0-92f7-0110f77ad77a"
   },
   "source": [
    "<a id = '4.4'>\n",
    "<font size = 6 color = pwdrblue>  <b>Wordcloud generation"
   ]
  },
  {
   "cell_type": "markdown",
   "id": "73ca9f74-b4e7-4517-9f56-705ab652d759",
   "metadata": {
    "id": "6ad02cf6-1a50-4ff0-92f7-0110f77ad77a"
   },
   "source": [
    "<div class=\"alert alert-block alert-success\">\n",
    "<font size = 4>\n",
    "    \n",
    "- Use a wordcloud to analyze the frequent terms in the text.\n",
    "- Wordclouds helps in identifying the theme of the text in use."
   ]
  },
  {
   "cell_type": "code",
   "execution_count": null,
   "id": "dc7cc4ee-b9c4-404e-b92d-2d14be975f49",
   "metadata": {
    "colab": {
     "base_uri": "https://localhost:8080/",
     "height": 406
    },
    "executionInfo": {
     "elapsed": 2045,
     "status": "ok",
     "timestamp": 1701922978171,
     "user": {
      "displayName": "Shubham Pandey",
      "userId": "10645658922718505789"
     },
     "user_tz": -330
    },
    "id": "dc7cc4ee-b9c4-404e-b92d-2d14be975f49",
    "outputId": "a79126af-5a08-413d-bf0e-290c677a5b53",
    "tags": []
   },
   "outputs": [],
   "source": [
    "wordcloud = WordCloud(width = 800, height = 600, background_color = \"white\", colormap = 'Accent')\n",
    "wordcloud.generate_from_frequencies(frequencies=word_freq)\n",
    "plt.figure()\n",
    "plt.imshow(wordcloud, interpolation=\"bilinear\")\n",
    "plt.axis(\"off\")\n",
    "plt.show()"
   ]
  },
  {
   "cell_type": "markdown",
   "id": "c2f262df-1290-4cea-8511-827dc74460cd",
   "metadata": {},
   "source": [
    "[top](#e0)"
   ]
  },
  {
   "cell_type": "code",
   "execution_count": null,
   "id": "d9566b2a-c2e4-4c1f-acab-61a7e8fe38c3",
   "metadata": {},
   "outputs": [],
   "source": []
  }
 ],
 "metadata": {
  "colab": {
   "provenance": []
  },
  "kernelspec": {
   "display_name": "Python 3 (ipykernel)",
   "language": "python",
   "name": "python3"
  },
  "language_info": {
   "codemirror_mode": {
    "name": "ipython",
    "version": 3
   },
   "file_extension": ".py",
   "mimetype": "text/x-python",
   "name": "python",
   "nbconvert_exporter": "python",
   "pygments_lexer": "ipython3",
   "version": "3.9.12"
  }
 },
 "nbformat": 4,
 "nbformat_minor": 5
}
