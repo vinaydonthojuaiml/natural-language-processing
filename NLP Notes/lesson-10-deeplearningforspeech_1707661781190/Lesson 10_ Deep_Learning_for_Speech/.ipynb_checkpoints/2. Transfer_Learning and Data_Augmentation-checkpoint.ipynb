{
 "cells": [
  {
   "cell_type": "markdown",
   "metadata": {},
   "source": [
    "# <center> <font size = 24 color = 'steelblue'>**Transfer learning and Data Augmentation**"
   ]
  },
  {
   "cell_type": "markdown",
   "metadata": {},
   "source": [
    "<div class=\"alert alert-block alert-info\">\n",
    "    \n",
    "<font size = 4> \n",
    "\n",
    "**By the end of this notebook you will be able to:**\n",
    "   \n",
    "- Extraction features\n",
    "- Perform data pre-processing and augmentation\n",
    "- Use transfer learning \n",
    "- Perform Model evaluation\n"
   ]
  },
  {
   "cell_type": "markdown",
   "metadata": {},
   "source": [
    "# <a id= 't0'> \n",
    "<font size = 4>\n",
    "\n",
    "**Table of Content**<br>\n",
    "\n",
    "[1. Data description](#t1)<br>\n",
    "[2. Install and import necessary libraries](#t2)<br>\n",
    "[3. Data pre-processing](#tl3)<br>\n",
    "[4. Mel-spectogram creation](#tl4)<br>\n",
    "[5. Transfer learning](#tl5)<br>\n",
    ">[5.1 Import the training and test images with labels](#t5.1)<br>\n",
    ">[5.2 Process Images for Transfer Learning](#t5.2)<br>\n",
    ">[5.3 Using VGG16 model](#t5.3)<br>\n",
    ">[5.4 Freeze the convolution blocks](#t5.4)<br>\n",
    ">[5.5 Create the dense layers and compile](#t5.5)<br>\n",
    ">[5.6 Fit the model](#t5.6)<br>\n",
    ">[5.7 Using the new VGG16 model](#tl5.7)<br>\n",
    ">[5.8 Evaluation using confusion matrix](#t5.8)<br>"
   ]
  },
  {
   "cell_type": "markdown",
   "metadata": {},
   "source": [
    "##### <a id = 't1'>\n",
    "<font size = 10 color = 'midnightblue'>**Data Description:**"
   ]
  },
  {
   "cell_type": "markdown",
   "metadata": {},
   "source": [
    "<div class=\"alert alert-block alert-success\"> \n",
    "<font size = 4> \n",
    "    \n",
    "- The data used here is the `Ryerson Audio-Visual Database of Emotional Speech and Song or RAVDESS`.\n",
    "- The section of data used here comprises **1440 files**, resulting from **60 trials per actor multiplied by 24 actors**.\n",
    "- The RAVDESS features 24 professional actors, evenly divided between 12 females and 12 males.\n",
    "- These actors vocalize two lexically-matched statements in a neutral North American accent.\n",
    "- Speech emotions included in the dataset encompass calm, happy, sad, angry, fearful, surprise, and disgust expressions.\n",
    "- Each expression is generated at two levels of emotional intensity, namely normal and strong, with an additional neutral expression.\n",
    "    \n",
    "Citation: Livingstone SR, Russo FA (2018) The Ryerson Audio-Visual Database of Emotional Speech and Song (RAVDESS): A dynamic, multimodal set of facial and vocal expressions in North American English. PLoS ONE 13(5): e0196391. https://doi.org/10.1371/journal.pone.0196391.\n",
    "    \n",
    "</div>"
   ]
  },
  {
   "cell_type": "markdown",
   "metadata": {},
   "source": [
    "[top](#t0)"
   ]
  },
  {
   "cell_type": "markdown",
   "metadata": {},
   "source": [
    "##### <a id = 't2'>\n",
    "<font size = 10 color = 'midnightblue'> <b>Install and import necessary libraries"
   ]
  },
  {
   "cell_type": "code",
   "execution_count": 13,
   "metadata": {
    "id": "Pm_4z5L1bYop"
   },
   "outputs": [],
   "source": [
    "import librosa\n",
    "import librosa.display\n",
    "import numpy as np\n",
    "import matplotlib.pyplot as plt\n",
    "import tensorflow as tf\n",
    "from sklearn.model_selection import GridSearchCV\n",
    "from scikeras.wrappers import KerasClassifier\n",
    "from matplotlib.pyplot import specgram\n",
    "import pandas as pd\n",
    "from sklearn.metrics import confusion_matrix\n",
    "import os # interface with underlying OS that python is running on\n",
    "import sys\n",
    "import warnings\n",
    "# ignore warnings \n",
    "if not sys.warnoptions:\n",
    "    warnings.simplefilter(\"ignore\")\n",
    "warnings.filterwarnings(\"ignore\", category=DeprecationWarning)\n",
    "from sklearn.preprocessing import LabelEncoder\n",
    "import keras\n",
    "from sklearn.metrics import classification_report\n",
    "from keras.models import Sequential, Model, model_from_json\n",
    "from keras.layers import Conv1D, MaxPooling2D, AveragePooling1D\n",
    "from keras.layers import Input, Flatten, Dropout, Activation, BatchNormalization\n",
    "from keras.layers import Dense, Embedding, LSTM\n",
    "from keras.regularizers import l2\n",
    "from keras.constraints import max_norm\n",
    "from keras.callbacks import EarlyStopping, ModelCheckpoint\n",
    "import seaborn as sns\n",
    "from tensorflow.keras.utils import to_categorical\n",
    "from glob import glob\n",
    "import cv2\n",
    "from sklearn.utils import shuffle\n"
   ]
  },
  {
   "cell_type": "code",
   "execution_count": 3,
   "metadata": {},
   "outputs": [
    {
     "data": {
      "text/plain": [
       "'/voc/work'"
      ]
     },
     "execution_count": 3,
     "metadata": {},
     "output_type": "execute_result"
    }
   ],
   "source": [
    "pwd()"
   ]
  },
  {
   "cell_type": "markdown",
   "metadata": {},
   "source": [
    "[top](#t0)"
   ]
  },
  {
   "cell_type": "markdown",
   "metadata": {},
   "source": [
    "##### <a id = 'tl3'>\n",
    "<font size = 10 color = 'midnightblue'> <b> Data pre-processing"
   ]
  },
  {
   "cell_type": "markdown",
   "metadata": {},
   "source": [
    " <font size = 5 color = seagreen> <b>Save path of the folder where the folders (Actor_01, Actor_02...) are placed with audio files in a variable "
   ]
  },
  {
   "cell_type": "code",
   "execution_count": 4,
   "metadata": {
    "id": "R3g3sTfqbYot"
   },
   "outputs": [],
   "source": [
    "# READ IN AUDIO FILES \n",
    "audio = \"/voc/work/ravdess-emotional-speech-audio/\""
   ]
  },
  {
   "cell_type": "code",
   "execution_count": 6,
   "metadata": {
    "id": "zNen5zCRbYoy"
   },
   "outputs": [],
   "source": [
    "path_main=audio"
   ]
  },
  {
   "cell_type": "code",
   "execution_count": 7,
   "metadata": {
    "colab": {
     "base_uri": "https://localhost:8080/",
     "height": 181
    },
    "id": "B3phNA9qbYo1",
    "outputId": "66d55067-f2f1-42bf-eac8-e46f296b06f9"
   },
   "outputs": [],
   "source": [
    "folders_main=os.listdir(path_main)"
   ]
  },
  {
   "cell_type": "code",
   "execution_count": 26,
   "metadata": {},
   "outputs": [],
   "source": [
    "folders_main = [i for i in folders_main if i not in '.ipynb_checkpoints' ]"
   ]
  },
  {
   "cell_type": "code",
   "execution_count": 28,
   "metadata": {},
   "outputs": [
    {
     "name": "stdout",
     "output_type": "stream",
     "text": [
      "['Actor_17', 'Actor_08', 'Actor_04', 'Actor_22', 'Actor_13', 'Actor_19', 'Actor_02', 'Actor_20', 'Actor_11', 'Actor_06', 'Actor_24', 'Actor_15', 'Actor_18', 'Actor_09', 'Actor_01', 'Actor_10', 'Actor_05', 'Actor_23', 'Actor_14', 'Actor_03', 'Actor_21', 'Actor_12', 'Actor_07', 'Actor_16']\n"
     ]
    }
   ],
   "source": [
    "print(folders_main)"
   ]
  },
  {
   "cell_type": "markdown",
   "metadata": {},
   "source": [
    " <font size = 5 color = seagreen> <b> Create a folder, logmel, and 8 folders inside for different emotions - save this path in a variable"
   ]
  },
  {
   "cell_type": "code",
   "execution_count": 30,
   "metadata": {},
   "outputs": [],
   "source": [
    "images = \"/voc/work/logmel/\""
   ]
  },
  {
   "cell_type": "code",
   "execution_count": 5,
   "metadata": {
    "id": "XfHSJGs0bYow"
   },
   "outputs": [],
   "source": [
    "dicts={'01' : 'neutral', '02' : 'calm', '03' : 'happy', '04' : 'sad', '05' : 'angry', '06' : 'fearful', '07' : 'disgust', '08' : 'surprised'}"
   ]
  },
  {
   "cell_type": "code",
   "execution_count": 32,
   "metadata": {},
   "outputs": [
    {
     "data": {
      "text/plain": [
       "dict_values(['neutral', 'calm', 'happy', 'sad', 'angry', 'fearful', 'disgust', 'surprised'])"
      ]
     },
     "execution_count": 32,
     "metadata": {},
     "output_type": "execute_result"
    }
   ],
   "source": [
    "dicts.values()"
   ]
  },
  {
   "cell_type": "code",
   "execution_count": 34,
   "metadata": {},
   "outputs": [],
   "source": [
    "root_path = '/voc/work/logmel/'\n",
    "folders = dicts.values()\n",
    "for folder in folders:\n",
    "    os.mkdir(os.path.join(root_path,folder))"
   ]
  },
  {
   "cell_type": "markdown",
   "metadata": {},
   "source": [
    "[top](#t0)"
   ]
  },
  {
   "cell_type": "markdown",
   "metadata": {},
   "source": [
    "##### <a id = 'tl4'>\n",
    "<font size = 10 color = 'midnightblue'> <b>Mel-spectogram creation"
   ]
  },
  {
   "cell_type": "markdown",
   "metadata": {
    "id": "Jzg7tmhJbYo3"
   },
   "source": [
    " <font size = 5 color = seagreen> <b> Creating Log-Mel Spectrogram for all the files and placing the images in respective folders"
   ]
  },
  {
   "cell_type": "code",
   "execution_count": 8,
   "metadata": {
    "id": "nZcepDxJbYo3"
   },
   "outputs": [],
   "source": [
    "fname = audio + 'Actor_09/03-01-04-02-02-02-09.wav'  \n",
    "y, sr = librosa.load(fname)\n",
    "yt,_=librosa.effects.trim(y)"
   ]
  },
  {
   "cell_type": "code",
   "execution_count": 9,
   "metadata": {
    "id": "3mzrL8EWbYo6",
    "outputId": "9f8f3b24-e94d-4286-dce8-59d6b2c80fd9",
    "scrolled": true
   },
   "outputs": [
    {
     "data": {
      "image/png": "[encoded data removed]",
      "text/plain": [
       "<Figure size 432x288 with 1 Axes>"
      ]
     },
     "metadata": {
      "needs_background": "light"
     },
     "output_type": "display_data"
    }
   ],
   "source": [
    "mel_spect = librosa.feature.melspectrogram(y=y, sr=sr, n_fft=1024, hop_length=100)\n",
    "mel_spect = librosa.power_to_db(mel_spect, ref=np.max)\n",
    "librosa.display.specshow(mel_spect, y_axis='mel', fmax=20000, x_axis='time');\n"
   ]
  },
  {
   "cell_type": "code",
   "execution_count": null,
   "metadata": {
    "collapsed": true,
    "id": "SsUdmyuZbYo9",
    "jupyter": {
     "outputs_hidden": true
    },
    "tags": []
   },
   "outputs": [
    {
     "name": "stdout",
     "output_type": "stream",
     "text": [
      "17 fearful\n",
      "17 sad\n",
      "17 angry\n",
      "17 disgust\n",
      "17 fearful\n",
      "17 angry\n",
      "17 fearful\n",
      "17 angry\n",
      "17 surprised\n",
      "17 calm\n",
      "17 calm\n",
      "17 neutral\n",
      "17 happy\n",
      "17 calm\n",
      "17 surprised\n",
      "17 fearful\n",
      "17 disgust\n",
      "17 disgust\n",
      "17 surprised\n",
      "17 surprised\n",
      "17 disgust\n",
      "17 neutral\n",
      "17 happy\n",
      "17 sad\n",
      "17 sad\n",
      "17 happy\n",
      "17 happy\n",
      "17 angry\n",
      "17 calm\n",
      "17 sad\n",
      "17 disgust\n",
      "17 angry\n",
      "17 fearful\n",
      "17 surprised\n",
      "17 disgust\n",
      "17 fearful\n",
      "17 disgust\n",
      "17 fearful\n",
      "17 happy\n",
      "17 calm\n",
      "17 happy\n",
      "17 calm\n",
      "17 calm\n",
      "17 sad\n",
      "17 happy\n",
      "17 disgust\n",
      "17 surprised\n",
      "17 surprised\n",
      "17 surprised\n",
      "17 neutral\n",
      "17 calm\n",
      "17 neutral\n",
      "17 sad\n",
      "17 angry\n",
      "17 angry\n",
      "17 sad\n",
      "17 sad\n",
      "17 fearful\n",
      "17 happy\n",
      "17 angry\n",
      "08 fearful\n",
      "08 angry\n",
      "08 fearful\n",
      "08 angry\n",
      "08 angry\n",
      "08 disgust\n",
      "08 sad\n",
      "08 fearful\n",
      "08 surprised\n",
      "08 happy\n",
      "08 calm\n",
      "08 calm\n",
      "08 neutral\n",
      "08 calm\n",
      "08 disgust\n",
      "08 surprised\n",
      "08 surprised\n",
      "08 disgust\n",
      "08 disgust\n",
      "08 fearful\n",
      "08 surprised\n",
      "08 neutral\n",
      "08 happy\n",
      "08 angry\n",
      "08 calm\n",
      "08 sad\n",
      "08 sad\n",
      "08 happy\n",
      "08 happy\n",
      "08 sad\n",
      "08 disgust\n",
      "08 fearful\n",
      "08 disgust\n",
      "08 fearful\n",
      "08 fearful\n",
      "08 surprised\n",
      "08 angry\n",
      "08 disgust\n",
      "08 calm\n",
      "08 sad\n",
      "08 happy\n",
      "08 happy\n",
      "08 calm\n",
      "08 happy\n",
      "08 calm\n",
      "08 surprised\n",
      "08 surprised\n",
      "08 surprised\n",
      "08 disgust\n",
      "08 calm\n",
      "08 neutral\n",
      "08 neutral\n",
      "08 sad\n",
      "08 fearful\n",
      "08 happy\n",
      "08 angry\n",
      "08 angry\n",
      "08 sad\n",
      "08 sad\n",
      "08 angry\n",
      "04 surprised\n",
      "04 happy\n",
      "04 calm\n",
      "04 calm\n",
      "04 neutral\n",
      "04 calm\n",
      "04 angry\n",
      "04 disgust\n",
      "04 sad\n",
      "04 fearful\n",
      "04 fearful\n",
      "04 angry\n",
      "04 angry\n",
      "04 fearful\n",
      "04 happy\n",
      "04 angry\n",
      "04 calm\n",
      "04 sad\n",
      "04 sad\n",
      "04 happy\n",
      "04 sad\n",
      "04 happy\n",
      "04 neutral\n",
      "04 disgust\n",
      "04 fearful\n",
      "04 surprised\n",
      "04 surprised\n",
      "04 disgust\n",
      "04 surprised\n",
      "04 disgust\n",
      "04 calm\n",
      "04 sad\n",
      "04 happy\n",
      "04 happy\n",
      "04 calm\n",
      "04 happy\n",
      "04 calm\n",
      "04 fearful\n",
      "04 surprised\n",
      "04 angry\n",
      "04 disgust\n",
      "04 disgust\n",
      "04 fearful\n",
      "04 disgust\n",
      "04 fearful\n",
      "04 sad\n",
      "04 fearful\n",
      "04 happy\n",
      "04 angry\n",
      "04 angry\n",
      "04 sad\n",
      "04 sad\n",
      "04 angry\n",
      "04 calm\n",
      "04 neutral\n",
      "04 neutral\n",
      "04 surprised\n",
      "04 disgust\n",
      "04 surprised\n",
      "04 surprised\n",
      "22 surprised\n",
      "22 calm\n",
      "22 happy\n",
      "22 calm\n",
      "22 calm\n",
      "22 neutral\n",
      "22 fearful\n",
      "22 sad\n",
      "22 angry\n",
      "22 disgust\n",
      "22 angry\n",
      "22 fearful\n",
      "22 fearful\n",
      "22 angry\n",
      "22 sad\n",
      "22 calm\n",
      "22 happy\n",
      "22 angry\n",
      "22 sad\n",
      "22 happy\n",
      "22 sad\n",
      "22 happy\n",
      "22 neutral\n",
      "22 surprised\n",
      "22 fearful\n",
      "22 disgust\n",
      "22 surprised\n",
      "22 disgust\n",
      "22 surprised\n",
      "22 disgust\n",
      "22 happy\n",
      "22 calm\n",
      "22 sad\n",
      "22 happy\n",
      "22 calm\n",
      "22 happy\n",
      "22 calm\n",
      "22 disgust\n",
      "22 angry\n",
      "22 fearful\n",
      "22 surprised\n",
      "22 disgust\n",
      "22 fearful\n",
      "22 disgust\n",
      "22 fearful\n",
      "22 angry\n",
      "22 happy\n",
      "22 sad\n",
      "22 fearful\n",
      "22 sad\n",
      "22 angry\n",
      "22 angry\n",
      "22 sad\n",
      "22 neutral\n",
      "22 calm\n",
      "22 neutral\n",
      "22 disgust\n",
      "22 surprised\n",
      "22 surprised\n",
      "22 surprised\n",
      "13 surprised\n",
      "13 calm\n",
      "13 calm\n",
      "13 neutral\n",
      "13 happy\n",
      "13 calm\n",
      "13 angry\n",
      "13 fearful\n",
      "13 fearful\n",
      "13 angry\n",
      "13 angry\n",
      "13 disgust\n",
      "13 sad\n",
      "13 fearful\n",
      "13 sad\n",
      "13 happy\n",
      "13 sad\n",
      "13 happy\n",
      "13 happy\n",
      "13 angry\n",
      "13 calm\n",
      "13 sad\n",
      "13 neutral\n",
      "13 surprised\n",
      "13 disgust\n",
      "13 surprised\n",
      "13 disgust\n",
      "13 disgust\n",
      "13 fearful\n",
      "13 surprised\n",
      "13 happy\n",
      "13 calm\n",
      "13 happy\n",
      "13 calm\n",
      "13 calm\n",
      "13 sad\n",
      "13 happy\n",
      "13 disgust\n",
      "13 fearful\n",
      "13 disgust\n",
      "13 fearful\n",
      "13 fearful\n",
      "13 surprised\n",
      "13 angry\n",
      "13 disgust\n",
      "13 sad\n",
      "13 angry\n",
      "13 angry\n",
      "13 sad\n",
      "13 sad\n",
      "13 fearful\n",
      "13 happy\n",
      "13 angry\n",
      "13 neutral\n",
      "13 calm\n",
      "13 neutral\n",
      "13 surprised\n",
      "13 surprised\n",
      "13 surprised\n",
      "13 disgust\n",
      "19 sad\n",
      "19 calm\n",
      "19 happy\n",
      "19 angry\n",
      "19 happy\n",
      "19 sad\n",
      "19 sad\n",
      "19 happy\n",
      "19 surprised\n",
      "19 fearful\n",
      "19 disgust\n",
      "19 disgust\n",
      "19 surprised\n",
      "19 surprised\n",
      "19 disgust\n",
      "19 neutral\n",
      "19 fearful\n",
      "19 sad\n",
      "19 angry\n",
      "19 disgust\n",
      "19 fearful\n",
      "19 angry\n",
      "19 fearful\n",
      "19 angry\n",
      "19 surprised\n",
      "19 calm\n",
      "19 calm\n",
      "19 neutral\n",
      "19 happy\n",
      "19 calm\n",
      "19 angry\n",
      "19 happy\n",
      "19 sad\n",
      "19 fearful\n",
      "19 sad\n",
      "19 angry\n",
      "19 angry\n",
      "19 sad\n",
      "19 disgust\n",
      "19 surprised\n",
      "19 surprised\n",
      "19 surprised\n",
      "19 neutral\n",
      "19 calm\n",
      "19 neutral\n",
      "19 disgust\n",
      "19 angry\n",
      "19 fearful\n",
      "19 surprised\n",
      "19 disgust\n",
      "19 fearful\n",
      "19 disgust\n",
      "19 fearful\n",
      "19 happy\n",
      "19 calm\n",
      "19 happy\n",
      "19 calm\n",
      "19 calm\n",
      "19 sad\n",
      "19 happy\n",
      "02 happy\n",
      "02 angry\n",
      "02 calm\n",
      "02 sad\n",
      "02 sad\n",
      "02 happy\n",
      "02 sad\n",
      "02 happy\n",
      "02 neutral\n",
      "02 disgust\n",
      "02 fearful\n",
      "02 surprised\n",
      "02 surprised\n",
      "02 disgust\n",
      "02 surprised\n",
      "02 disgust\n",
      "02 angry\n",
      "02 disgust\n",
      "02 sad\n",
      "02 fearful\n",
      "02 fearful\n",
      "02 angry\n",
      "02 angry\n",
      "02 fearful\n",
      "02 happy\n",
      "02 calm\n",
      "02 calm\n",
      "02 neutral\n",
      "02 calm\n",
      "02 surprised\n",
      "02 sad\n",
      "02 fearful\n",
      "02 happy\n",
      "02 angry\n",
      "02 angry\n",
      "02 sad\n",
      "02 angry\n",
      "02 sad\n",
      "02 calm\n",
      "02 neutral\n",
      "02 neutral\n",
      "02 surprised\n",
      "02 disgust\n",
      "02 surprised\n",
      "02 surprised\n",
      "02 fearful\n",
      "02 surprised\n",
      "02 angry\n",
      "02 disgust\n",
      "02 disgust\n",
      "02 fearful\n",
      "02 fearful\n",
      "02 disgust\n",
      "02 calm\n",
      "02 sad\n",
      "02 happy\n",
      "02 happy\n",
      "02 calm\n",
      "02 calm\n",
      "02 happy\n",
      "20 sad\n",
      "20 calm\n",
      "20 happy\n",
      "20 angry\n",
      "20 sad\n",
      "20 happy\n",
      "20 sad\n",
      "20 happy\n",
      "20 neutral\n",
      "20 surprised\n",
      "20 fearful\n",
      "20 disgust\n",
      "20 surprised\n",
      "20 disgust\n",
      "20 surprised\n",
      "20 disgust\n",
      "20 fearful\n",
      "20 sad\n",
      "20 angry\n",
      "20 disgust\n",
      "20 angry\n",
      "20 fearful\n",
      "20 fearful\n",
      "20 angry\n",
      "20 calm\n",
      "20 happy\n",
      "20 calm\n",
      "20 calm\n",
      "20 neutral\n",
      "20 surprised\n",
      "20 angry\n",
      "20 happy\n",
      "20 sad\n",
      "20 fearful\n",
      "20 angry\n",
      "20 sad\n",
      "20 angry\n",
      "20 sad\n",
      "20 neutral\n",
      "20 calm\n",
      "20 neutral\n",
      "20 disgust\n",
      "20 surprised\n",
      "20 surprised\n",
      "20 surprised\n",
      "20 disgust\n",
      "20 angry\n",
      "20 fearful\n",
      "20 surprised\n",
      "20 fearful\n",
      "20 disgust\n",
      "20 disgust\n",
      "20 fearful\n",
      "20 happy\n",
      "20 calm\n",
      "20 sad\n",
      "20 calm\n",
      "20 happy\n",
      "20 happy\n",
      "20 calm\n",
      "11 sad\n",
      "11 happy\n",
      "11 sad\n",
      "11 happy\n",
      "11 happy\n",
      "11 angry\n",
      "11 calm\n",
      "11 sad\n",
      "11 neutral\n",
      "11 surprised\n",
      "11 disgust\n",
      "11 surprised\n",
      "11 disgust\n",
      "11 disgust\n",
      "11 fearful\n",
      "11 surprised\n",
      "11 angry\n",
      "11 fearful\n",
      "11 fearful\n",
      "11 angry\n",
      "11 angry\n",
      "11 disgust\n",
      "11 sad\n",
      "11 fearful\n",
      "11 calm\n",
      "11 calm\n",
      "11 neutral\n",
      "11 happy\n",
      "11 calm\n",
      "11 surprised\n",
      "11 angry\n",
      "11 sad\n",
      "11 angry\n",
      "11 sad\n",
      "11 sad\n",
      "11 fearful\n",
      "11 happy\n",
      "11 angry\n",
      "11 neutral\n",
      "11 calm\n",
      "11 neutral\n",
      "11 surprised\n",
      "11 surprised\n",
      "11 surprised\n",
      "11 disgust\n",
      "11 fearful\n",
      "11 disgust\n",
      "11 disgust\n",
      "11 fearful\n",
      "11 fearful\n",
      "11 surprised\n",
      "11 angry\n",
      "11 disgust\n",
      "11 calm\n",
      "11 happy\n",
      "11 happy\n",
      "11 calm\n",
      "11 calm\n",
      "11 sad\n",
      "11 happy\n",
      "06 surprised\n",
      "06 disgust\n",
      "06 surprised\n",
      "06 disgust\n",
      "06 disgust\n",
      "06 fearful\n",
      "06 surprised\n",
      "06 neutral\n",
      "06 happy\n",
      "06 angry\n",
      "06 calm\n",
      "06 sad\n",
      "06 sad\n",
      "06 happy\n",
      "06 sad\n",
      "06 happy\n",
      "06 surprised\n",
      "06 happy\n",
      "06 calm\n",
      "06 calm\n",
      "06 neutral\n",
      "06 calm\n",
      "06 angry\n",
      "06 disgust\n",
      "06 sad\n",
      "06 fearful\n",
      "06 fearful\n",
      "06 angry\n",
      "06 angry\n",
      "06 fearful\n",
      "06 surprised\n",
      "06 surprised\n",
      "06 surprised\n",
      "06 disgust\n",
      "06 calm\n",
      "06 neutral\n",
      "06 neutral\n",
      "06 sad\n",
      "06 fearful\n",
      "06 happy\n",
      "06 angry\n",
      "06 angry\n",
      "06 sad\n",
      "06 sad\n",
      "06 angry\n",
      "06 calm\n",
      "06 sad\n",
      "06 happy\n",
      "06 happy\n",
      "06 calm\n",
      "06 happy\n",
      "06 calm\n",
      "06 fearful\n",
      "06 surprised\n",
      "06 angry\n",
      "06 disgust\n",
      "06 disgust\n",
      "06 fearful\n",
      "06 disgust\n",
      "06 fearful\n",
      "24 disgust\n",
      "24 surprised\n",
      "24 surprised\n",
      "24 disgust\n",
      "24 surprised\n",
      "24 fearful\n",
      "24 disgust\n",
      "24 neutral\n",
      "24 sad\n",
      "24 calm\n",
      "24 happy\n",
      "24 angry\n",
      "24 sad\n",
      "24 happy\n",
      "24 sad\n",
      "24 happy\n",
      "24 surprised\n",
      "24 calm\n",
      "24 happy\n",
      "24 calm\n",
      "24 calm\n",
      "24 neutral\n",
      "24 fearful\n",
      "24 sad\n",
      "24 angry\n",
      "24 disgust\n",
      "24 angry\n",
      "24 fearful\n",
      "24 fearful\n",
      "24 angry\n",
      "24 surprised\n",
      "24 surprised\n",
      "24 disgust\n",
      "24 surprised\n",
      "24 neutral\n",
      "24 calm\n",
      "24 neutral\n",
      "24 angry\n",
      "24 happy\n",
      "24 sad\n",
      "24 fearful\n",
      "24 sad\n",
      "24 angry\n",
      "24 angry\n",
      "24 sad\n",
      "24 happy\n",
      "24 calm\n",
      "24 sad\n",
      "24 happy\n",
      "24 calm\n",
      "24 happy\n",
      "24 calm\n",
      "24 disgust\n",
      "24 angry\n",
      "24 fearful\n",
      "24 surprised\n",
      "24 disgust\n",
      "24 fearful\n",
      "24 disgust\n",
      "24 fearful\n",
      "15 surprised\n",
      "15 fearful\n",
      "15 disgust\n",
      "15 surprised\n",
      "15 disgust\n",
      "15 surprised\n",
      "15 disgust\n",
      "15 neutral\n",
      "15 sad\n",
      "15 happy\n",
      "15 sad\n",
      "15 happy\n",
      "15 happy\n",
      "15 angry\n",
      "15 calm\n",
      "15 sad\n",
      "15 surprised\n",
      "15 calm\n",
      "15 calm\n",
      "15 neutral\n",
      "15 happy\n",
      "15 calm\n",
      "15 angry\n",
      "15 fearful\n",
      "15 fearful\n",
      "15 angry\n",
      "15 angry\n",
      "15 disgust\n",
      "15 sad\n",
      "15 fearful\n",
      "15 disgust\n",
      "15 surprised\n",
      "15 surprised\n",
      "15 surprised\n",
      "15 neutral\n",
      "15 calm\n",
      "15 neutral\n",
      "15 sad\n",
      "15 angry\n",
      "15 angry\n",
      "15 sad\n",
      "15 sad\n",
      "15 fearful\n",
      "15 happy\n",
      "15 angry\n",
      "15 happy\n",
      "15 calm\n",
      "15 happy\n",
      "15 calm\n",
      "15 calm\n",
      "15 sad\n",
      "15 happy\n",
      "15 disgust\n",
      "15 fearful\n",
      "15 disgust\n",
      "15 fearful\n",
      "15 fearful\n",
      "15 surprised\n",
      "15 angry\n",
      "15 disgust\n",
      "18 happy\n",
      "18 angry\n",
      "18 fearful\n",
      "18 sad\n",
      "18 angry\n",
      "18 sad\n",
      "18 sad\n",
      "18 angry\n",
      "18 disgust\n",
      "18 surprised\n",
      "18 surprised\n",
      "18 surprised\n",
      "18 neutral\n",
      "18 calm\n",
      "18 neutral\n",
      "18 angry\n",
      "18 disgust\n",
      "18 surprised\n",
      "18 fearful\n",
      "18 fearful\n",
      "18 disgust\n",
      "18 fearful\n",
      "18 disgust\n",
      "18 calm\n",
      "18 happy\n",
      "18 calm\n",
      "18 happy\n",
      "18 sad\n",
      "18 calm\n",
      "18 happy\n",
      "18 sad\n",
      "18 fearful\n",
      "18 disgust\n",
      "18 angry\n",
      "18 angry\n",
      "18 fearful\n",
      "18 angry\n",
      "18 fearful\n",
      "18 surprised\n",
      "18 calm\n",
      "18 neutral\n",
      "18 calm\n",
      "18 happy\n",
      "18 calm\n",
      "18 fearful\n",
      "18 surprised\n",
      "18 disgust\n",
      "18 surprised\n",
      "18 disgust\n",
      "18 disgust\n",
      "18 surprised\n",
      "18 neutral\n",
      "18 sad\n",
      "18 happy\n",
      "18 happy\n",
      "18 sad\n",
      "18 angry\n",
      "18 happy\n",
      "18 sad\n",
      "18 calm\n",
      "09 angry\n",
      "09 sad\n",
      "09 sad\n",
      "09 angry\n",
      "09 fearful\n",
      "09 sad\n",
      "09 angry\n",
      "09 happy\n",
      "09 surprised\n",
      "09 surprised\n",
      "09 surprised\n",
      "09 disgust\n",
      "09 calm\n",
      "09 neutral\n",
      "09 neutral\n",
      "09 fearful\n",
      "09 disgust\n",
      "09 fearful\n",
      "09 disgust\n",
      "09 surprised\n",
      "09 fearful\n",
      "09 disgust\n",
      "09 angry\n",
      "09 sad\n",
      "09 calm\n",
      "09 happy\n",
      "09 calm\n",
      "09 happy\n",
      "09 calm\n",
      "09 happy\n",
      "09 angry\n",
      "09 fearful\n",
      "09 angry\n",
      "09 fearful\n",
      "09 disgust\n",
      "09 angry\n",
      "09 fearful\n",
      "09 sad\n",
      "09 surprised\n",
      "09 happy\n",
      "09 calm\n",
      "09 neutral\n",
      "09 calm\n",
      "09 calm\n",
      "09 surprised\n",
      "09 disgust\n",
      "09 disgust\n",
      "09 surprised\n",
      "09 disgust\n",
      "09 surprised\n",
      "09 fearful\n",
      "09 neutral\n",
      "09 angry\n",
      "09 happy\n",
      "09 sad\n",
      "09 calm\n",
      "09 happy\n",
      "09 sad\n",
      "09 sad\n",
      "09 happy\n",
      "01 fearful\n",
      "01 sad\n",
      "01 angry\n",
      "01 happy\n",
      "01 sad\n",
      "01 angry\n",
      "01 sad\n",
      "01 angry\n",
      "01 calm\n",
      "01 neutral\n",
      "01 neutral\n",
      "01 surprised\n",
      "01 disgust\n",
      "01 surprised\n",
      "01 surprised\n",
      "01 surprised\n",
      "01 fearful\n",
      "01 disgust\n",
      "01 angry\n",
      "01 fearful\n",
      "01 disgust\n",
      "01 disgust\n",
      "01 fearful\n",
      "01 sad\n",
      "01 calm\n",
      "01 happy\n",
      "01 calm\n",
      "01 happy\n",
      "01 happy\n",
      "01 calm\n",
      "01 disgust\n",
      "01 angry\n",
      "01 fearful\n",
      "01 sad\n",
      "01 angry\n",
      "01 fearful\n",
      "01 fearful\n",
      "01 angry\n",
      "01 happy\n",
      "01 calm\n",
      "01 neutral\n",
      "01 calm\n",
      "01 calm\n",
      "01 surprised\n",
      "01 neutral\n",
      "01 disgust\n",
      "01 surprised\n",
      "01 fearful\n",
      "01 disgust\n",
      "01 surprised\n",
      "01 disgust\n",
      "01 surprised\n",
      "01 angry\n",
      "01 happy\n",
      "01 sad\n",
      "01 calm\n",
      "01 happy\n",
      "01 sad\n",
      "01 happy\n",
      "01 sad\n",
      "10 sad\n",
      "10 angry\n",
      "10 sad\n",
      "10 angry\n",
      "10 fearful\n",
      "10 sad\n",
      "10 angry\n",
      "10 happy\n",
      "10 neutral\n",
      "10 calm\n",
      "10 neutral\n",
      "10 surprised\n",
      "10 surprised\n",
      "10 surprised\n",
      "10 disgust\n",
      "10 disgust\n",
      "10 fearful\n",
      "10 fearful\n",
      "10 disgust\n",
      "10 surprised\n",
      "10 fearful\n",
      "10 disgust\n",
      "10 angry\n",
      "10 happy\n",
      "10 calm\n",
      "10 calm\n",
      "10 happy\n",
      "10 sad\n",
      "10 calm\n",
      "10 happy\n",
      "10 fearful\n",
      "10 angry\n",
      "10 angry\n",
      "10 fearful\n",
      "10 disgust\n",
      "10 angry\n",
      "10 fearful\n",
      "10 sad\n",
      "10 calm\n",
      "10 neutral\n",
      "10 calm\n",
      "10 happy\n",
      "10 calm\n",
      "10 surprised\n",
      "10 neutral\n",
      "10 disgust\n",
      "10 surprised\n",
      "10 disgust\n",
      "10 surprised\n",
      "10 disgust\n",
      "10 surprised\n",
      "10 fearful\n",
      "10 happy\n",
      "10 sad\n",
      "10 happy\n",
      "10 sad\n",
      "10 angry\n",
      "10 happy\n",
      "10 sad\n",
      "10 calm\n",
      "05 surprised\n",
      "05 surprised\n",
      "05 surprised\n",
      "05 disgust\n",
      "05 calm\n",
      "05 neutral\n",
      "05 neutral\n",
      "05 fearful\n",
      "05 sad\n",
      "05 angry\n",
      "05 happy\n",
      "05 sad\n",
      "05 angry\n",
      "05 angry\n",
      "05 sad\n",
      "05 sad\n",
      "05 calm\n",
      "05 happy\n",
      "05 calm\n",
      "05 happy\n",
      "05 calm\n",
      "05 happy\n",
      "05 surprised\n",
      "05 fearful\n",
      "05 disgust\n",
      "05 angry\n",
      "05 fearful\n",
      "05 disgust\n",
      "05 fearful\n",
      "05 disgust\n",
      "05 surprised\n",
      "05 happy\n",
      "05 calm\n",
      "05 neutral\n",
      "05 calm\n",
      "05 calm\n",
      "05 disgust\n",
      "05 angry\n",
      "05 fearful\n",
      "05 sad\n",
      "05 angry\n",
      "05 fearful\n",
      "05 fearful\n",
      "05 angry\n",
      "05 angry\n",
      "05 happy\n",
      "05 sad\n",
      "05 calm\n",
      "05 happy\n",
      "05 sad\n",
      "05 happy\n",
      "05 sad\n",
      "05 neutral\n",
      "05 disgust\n",
      "05 surprised\n",
      "05 fearful\n",
      "05 disgust\n",
      "05 surprised\n",
      "05 disgust\n",
      "05 surprised\n",
      "23 surprised\n",
      "23 surprised\n",
      "23 disgust\n",
      "23 surprised\n",
      "23 neutral\n",
      "23 calm\n",
      "23 neutral\n",
      "23 happy\n",
      "23 angry\n",
      "23 fearful\n",
      "23 sad\n",
      "23 angry\n",
      "23 sad\n",
      "23 sad\n",
      "23 angry\n",
      "23 happy\n",
      "23 sad\n",
      "23 calm\n",
      "23 calm\n",
      "23 happy\n",
      "23 calm\n",
      "23 happy\n",
      "23 angry\n",
      "23 disgust\n",
      "23 surprised\n",
      "23 fearful\n",
      "23 fearful\n",
      "23 disgust\n",
      "23 fearful\n",
      "23 disgust\n",
      "23 surprised\n",
      "23 calm\n",
      "23 happy\n",
      "23 calm\n",
      "23 neutral\n",
      "23 calm\n",
      "23 sad\n",
      "23 fearful\n",
      "23 disgust\n",
      "23 angry\n",
      "23 fearful\n",
      "23 angry\n",
      "23 angry\n",
      "23 fearful\n",
      "23 calm\n",
      "23 sad\n",
      "23 angry\n",
      "23 happy\n",
      "23 happy\n",
      "23 sad\n",
      "23 happy\n",
      "23 sad\n",
      "23 neutral\n",
      "23 fearful\n",
      "23 surprised\n",
      "23 disgust\n",
      "23 disgust\n",
      "23 surprised\n",
      "23 disgust\n",
      "23 surprised\n",
      "14 disgust\n",
      "14 surprised\n",
      "14 surprised\n",
      "14 surprised\n",
      "14 neutral\n",
      "14 calm\n",
      "14 neutral\n",
      "14 angry\n",
      "14 sad\n",
      "14 sad\n",
      "14 angry\n",
      "14 fearful\n",
      "14 sad\n",
      "14 angry\n",
      "14 happy\n",
      "14 calm\n",
      "14 happy\n",
      "14 calm\n",
      "14 happy\n",
      "14 sad\n",
      "14 calm\n",
      "14 happy\n",
      "14 fearful\n",
      "14 disgust\n",
      "14 fearful\n",
      "14 disgust\n",
      "14 surprised\n",
      "14 fearful\n",
      "14 disgust\n",
      "14 surprised\n",
      "14 calm\n",
      "14 neutral\n",
      "14 calm\n",
      "14 happy\n",
      "14 calm\n",
      "14 fearful\n",
      "14 angry\n",
      "14 angry\n",
      "14 fearful\n",
      "14 disgust\n",
      "14 angry\n",
      "14 fearful\n",
      "14 sad\n",
      "14 happy\n",
      "14 sad\n",
      "14 happy\n",
      "14 sad\n",
      "14 angry\n",
      "14 happy\n",
      "14 sad\n",
      "14 neutral\n",
      "14 disgust\n",
      "14 surprised\n",
      "14 disgust\n",
      "14 surprised\n",
      "14 disgust\n",
      "14 surprised\n",
      "14 fearful\n",
      "03 sad\n",
      "03 calm\n",
      "03 happy\n",
      "03 calm\n",
      "03 happy\n",
      "03 happy\n",
      "03 calm\n",
      "03 surprised\n",
      "03 fearful\n",
      "03 disgust\n",
      "03 angry\n",
      "03 fearful\n",
      "03 disgust\n",
      "03 disgust\n",
      "03 fearful\n",
      "03 fearful\n",
      "03 sad\n",
      "03 angry\n",
      "03 happy\n",
      "03 sad\n",
      "03 angry\n"
     ]
    }
   ],
   "source": [
    "import re\n",
    "counter=0\n",
    "\n",
    "for folders in folders_main :\n",
    "    path_in=audio + '{0}'.format(folders)\n",
    "    files_sub=os.listdir(path_in)\n",
    "    for file in files_sub :\n",
    "        numbers = re.findall('\\d+',file)\n",
    "        emotion=dicts[numbers[2]]\n",
    "        print (numbers[6],emotion)\n",
    "        path_save= images + '{0}/{1}.jpeg'.format(emotion,file)\n",
    "        path_load='{0}/{1}'.format(path_in,file)\n",
    "        y, sr = librosa.load(path_load)\n",
    "        yt,_=librosa.effects.trim(y)\n",
    "        y=yt\n",
    "        y = librosa.feature.melspectrogram(y=y, sr=sr, n_mels=128,fmax=8000)\n",
    "        db_spec = librosa.power_to_db(y)\n",
    "        librosa.display.specshow(db_spec, y_axis='mel', fmax=20000, x_axis='time');\n",
    "        plt.savefig(path_save)"
   ]
  },
  {
   "cell_type": "markdown",
   "metadata": {},
   "source": [
    "[top](#t0)"
   ]
  },
  {
   "cell_type": "markdown",
   "metadata": {
    "id": "JWW_r40nhK1M"
   },
   "source": [
    "##### <a id = 'tl5'>\n",
    "<font size = 10 color = 'midnightblue'> <b> Transfer Learning"
   ]
  },
  {
   "cell_type": "markdown",
   "metadata": {
    "id": "9YimBZgrm7ud"
   },
   "source": [
    "### <a id = 't5.1'>\n",
    "<font size = 6 color = pwdrblue> <b> Import the training and test images with labels."
   ]
  },
  {
   "cell_type": "markdown",
   "metadata": {},
   "source": [
    "<div class=\"alert alert-block alert-success\"> \n",
    "<font size = 4> \n",
    "    \n",
    "<b>- Using the glob module in Python to retrieve file paths from specific directories\n"
   ]
  },
  {
   "cell_type": "code",
   "execution_count": 2,
   "metadata": {
    "id": "y7ih-kk0YylI"
   },
   "outputs": [],
   "source": [
    "import glob\n",
    "\n",
    "# use the glob.glob function to get a list of file paths for all files in the 'angry' directory. \n",
    "# The *.* pattern matches all files regardless of their extension.\n",
    "\n",
    "angry = glob.glob('/voc/work/logmel/angry/*.*')\n",
    "calm = glob.glob('/voc/work/logmel//calm/*.*')\n",
    "disgust = glob.glob('/voc/work/logmel//disgust/*.*')\n",
    "fearful = glob.glob('/voc/work/logmel//fearful/*.*')\n",
    "happy = glob.glob('/voc/work/logmel//happy/*.*')\n",
    "neutral = glob.glob('/voc/work/logmel//neutral/*.*')\n",
    "sad = glob.glob('/voc/work/logmel//sad/*.*')\n",
    "surprised = glob.glob('/voc/work/logmel//surprised/*.*')"
   ]
  },
  {
   "cell_type": "code",
   "execution_count": 32,
   "metadata": {
    "id": "lo6ZexN4ZS4j"
   },
   "outputs": [],
   "source": [
    "data = []\n",
    "labels = []\n",
    "\n",
    "for i in angry:   \n",
    "    image=tf.keras.preprocessing.image.load_img(i, color_mode='rgb', \n",
    "    target_size= (224,224))\n",
    "    image=np.array(image)\n",
    "    data.append(image)\n",
    "    labels.append('Angry')\n",
    "for i in calm:   \n",
    "    image=tf.keras.preprocessing.image.load_img(i, color_mode='rgb', \n",
    "    target_size= (224,224))\n",
    "    image=np.array(image)\n",
    "    data.append(image)\n",
    "    labels.append('Calm')\n",
    "for i in disgust:   \n",
    "    image=tf.keras.preprocessing.image.load_img(i, color_mode='rgb', \n",
    "    target_size= (224,224))\n",
    "    image=np.array(image)\n",
    "    data.append(image)\n",
    "    labels.append('Disgust')\n",
    "for i in fearful:   \n",
    "    image=tf.keras.preprocessing.image.load_img(i, color_mode='rgb', \n",
    "    target_size= (224,224))\n",
    "    image=np.array(image)\n",
    "    data.append(image)\n",
    "    labels.append('Fearful')\n",
    "for i in happy:   \n",
    "    image=tf.keras.preprocessing.image.load_img(i, color_mode='rgb', \n",
    "    target_size= (224,224))\n",
    "    image=np.array(image)\n",
    "    data.append(image)\n",
    "    labels.append('Happy')\n",
    "for i in neutral:   \n",
    "    image=tf.keras.preprocessing.image.load_img(i, color_mode='rgb', \n",
    "    target_size= (224,224))\n",
    "    image=np.array(image)\n",
    "    data.append(image)\n",
    "    labels.append('Neutral')\n",
    "for i in sad:   \n",
    "    image=tf.keras.preprocessing.image.load_img(i, color_mode='rgb', \n",
    "    target_size= (224,224))\n",
    "    image=np.array(image)\n",
    "    data.append(image)\n",
    "    labels.append('Sad')\n",
    "for i in surprised:   \n",
    "    image=tf.keras.preprocessing.image.load_img(i, color_mode='rgb', \n",
    "    target_size= (224,224))\n",
    "    image=np.array(image)\n",
    "    data.append(image)\n",
    "    labels.append('Surprised')\n",
    "\n",
    "data = np.array(data)\n",
    "labels = np.array(labels)\n",
    "\n",
    "from sklearn.model_selection import train_test_split\n",
    "X_train, X_test, y_train, y_test = train_test_split(data, labels, test_size=0.3,random_state=22, stratify=labels)"
   ]
  },
  {
   "cell_type": "code",
   "execution_count": 3,
   "metadata": {
    "id": "v2UlcI4Gmka7"
   },
   "outputs": [],
   "source": [
    "def get_images(directory):\n",
    "    Images = []\n",
    "    Labels = []  \n",
    "    label = 0\n",
    "    \n",
    "    for labels in os.listdir(directory): \n",
    "        if labels == 'angry': \n",
    "            label = 'angry'\n",
    "        elif labels == 'calm':\n",
    "            label = 'calm'\n",
    "        elif labels == 'disgust':\n",
    "            label = 'disgust'\n",
    "        elif labels == 'fearful':\n",
    "            label = 'fearful'\n",
    "        elif labels == 'happy':\n",
    "            label = 'happy'\n",
    "        elif labels == 'neutral':\n",
    "            label = 'neutral'\n",
    "        elif labels == 'sad':\n",
    "            label = 'sad'\n",
    "        elif labels == 'surprised':\n",
    "            label = 'surprised'\n",
    "        \n",
    "        for image_file in os.listdir(directory+labels): #Extracting the file name of the image from Class Label folder\n",
    "            image = cv2.imread(directory+labels+r'/'+image_file) #Reading the image (OpenCV)\n",
    "            image = cv2.resize(image,(75,75)) #Resize the image, Some images are different sizes. (Resizing is very Important)\n",
    "            # image= cv2.cvtColor(image, cv2.COLOR_RGB2BGR)\n",
    "            Images.append(image)\n",
    "            Labels.append(label)\n",
    "    \n",
    "    return shuffle(Images,Labels,random_state=200) #Shuffle the dataset you just prepared.\n",
    "\n",
    "def get_classlabel(class_code):\n",
    "    labels = {'angry':'angry', 'calm':'calm', 'disgust':'disgust', 'fearful':'fearful', 'happy':'happy', 'neutral':'neutral','sad':'sad','surprised':'surprised'}\n",
    "    \n",
    "    return labels[class_code]"
   ]
  },
  {
   "cell_type": "code",
   "execution_count": 18,
   "metadata": {
    "id": "WEU5ZCzxmkht"
   },
   "outputs": [],
   "source": [
    "Images, Labels = get_images('/voc/work/logmel/') #Extract the training images from the folders.\n"
   ]
  },
  {
   "cell_type": "markdown",
   "metadata": {},
   "source": [
    "[top](#t0)"
   ]
  },
  {
   "cell_type": "markdown",
   "metadata": {
    "id": "Av-6Hw3WjwaU"
   },
   "source": [
    "### <a id = 't5.2'>\n",
    "<font size = 6 color = pwdrblue> <b>  Process Images for Transfer Learning"
   ]
  },
  {
   "cell_type": "code",
   "execution_count": 19,
   "metadata": {
    "id": "txqmwy-y_L-t"
   },
   "outputs": [],
   "source": [
    "from sklearn.model_selection import train_test_split\n",
    "\n",
    "X_train, X_test, y_train, y_test = train_test_split(Images, Labels, test_size=0.3,random_state=22, stratify=Labels)"
   ]
  },
  {
   "cell_type": "code",
   "execution_count": 33,
   "metadata": {
    "id": "SvR4kHHY_gSC"
   },
   "outputs": [],
   "source": [
    "lb = LabelEncoder()\n",
    "\n",
    "\n",
    "X_train = X_train.astype('float32')\n",
    "X_test = X_test.astype('float32')\n",
    "X_train /= 255\n",
    "X_test /= 255\n",
    "\n",
    "# y_val=np_utils.to_categorical(lb.fit_transform(y_val))\n",
    "y_train = to_categorical(lb.fit_transform(y_train))\n",
    "y_test = to_categorical(lb.fit_transform(y_test))"
   ]
  },
  {
   "cell_type": "code",
   "execution_count": 34,
   "metadata": {
    "colab": {
     "base_uri": "https://localhost:8080/",
     "height": 34
    },
    "id": "V_wNojTShNN6",
    "outputId": "9d6edffe-645b-42f1-9481-1c10e263b475"
   },
   "outputs": [
    {
     "data": {
      "text/plain": [
       "(1726, 224, 224, 3)"
      ]
     },
     "execution_count": 34,
     "metadata": {
      "tags": []
     },
     "output_type": "execute_result"
    }
   ],
   "source": [
    "X_test.shape"
   ]
  },
  {
   "cell_type": "code",
   "execution_count": 35,
   "metadata": {
    "colab": {
     "base_uri": "https://localhost:8080/",
     "height": 34
    },
    "id": "yf_MLFUphRWT",
    "outputId": "219de83c-c1db-45b7-b932-25c3cdb72bc9"
   },
   "outputs": [
    {
     "data": {
      "text/plain": [
       "(4025, 224, 224, 3)"
      ]
     },
     "execution_count": 35,
     "metadata": {
      "tags": []
     },
     "output_type": "execute_result"
    }
   ],
   "source": [
    "X_train.shape"
   ]
  },
  {
   "cell_type": "code",
   "execution_count": 24,
   "metadata": {
    "colab": {
     "base_uri": "https://localhost:8080/",
     "height": 136
    },
    "id": "Kn0ifELuhU9j",
    "outputId": "bf17ab0d-486e-4499-b31b-eb55ab77d0fc"
   },
   "outputs": [
    {
     "name": "stdout",
     "output_type": "stream",
     "text": [
      "[[1. 0. 0. ... 0. 0. 0.]\n",
      " [0. 0. 0. ... 0. 0. 1.]\n",
      " [0. 0. 0. ... 0. 1. 0.]\n",
      " ...\n",
      " [0. 0. 0. ... 0. 0. 1.]\n",
      " [0. 0. 0. ... 0. 0. 1.]\n",
      " [1. 0. 0. ... 0. 0. 0.]]\n"
     ]
    }
   ],
   "source": [
    "print(y_test)"
   ]
  },
  {
   "cell_type": "code",
   "execution_count": 25,
   "metadata": {
    "colab": {
     "base_uri": "https://localhost:8080/",
     "height": 34
    },
    "id": "qAZrK4gRhagb",
    "outputId": "2a4c2a6b-2a8f-446e-c978-4dc2fe2e7b2d"
   },
   "outputs": [
    {
     "name": "stdout",
     "output_type": "stream",
     "text": [
      "['angry' 'calm' 'disgust' 'fearful' 'happy' 'neutral' 'sad' 'surprised']\n"
     ]
    }
   ],
   "source": [
    "print(lb.classes_)"
   ]
  },
  {
   "cell_type": "markdown",
   "metadata": {
    "id": "XxwC_IXNhgIT"
   },
   "source": [
    "### <a id = 't5.3'> \n",
    "<font size = 6 color = pwdrblue> <b>  Using VGG16 model"
   ]
  },
  {
   "cell_type": "code",
   "execution_count": 1,
   "metadata": {
    "id": "HDMrNhTHhhK1"
   },
   "outputs": [
    {
     "name": "stderr",
     "output_type": "stream",
     "text": [
      "2023-12-24 21:12:11.024043: I tensorflow/core/platform/cpu_feature_guard.cc:145] This TensorFlow binary is optimized with Intel(R) MKL-DNN to use the following CPU instructions in performance critical operations:  SSE4.1 SSE4.2 AVX AVX2 FMA\n",
      "To enable them in non-MKL-DNN operations, rebuild TensorFlow with the appropriate compiler flags.\n",
      "2023-12-24 21:12:11.024267: I tensorflow/core/common_runtime/process_util.cc:115] Creating new thread pool with default inter op setting: 6. Tune using inter_op_parallelism_threads for best performance.\n"
     ]
    },
    {
     "name": "stdout",
     "output_type": "stream",
     "text": [
      "Downloading data from https://github.com/fchollet/deep-learning-models/releases/download/v0.1/vgg16_weights_tf_dim_ordering_tf_kernels_notop.h5\n",
      "58892288/58889256 [==============================] - 67s 1us/step\n"
     ]
    }
   ],
   "source": [
    "from tensorflow.keras import applications\n",
    "\n",
    "model = applications.VGG16(weights = \"imagenet\", include_top=False, input_shape = (75, 75, 3),pooling='avg')"
   ]
  },
  {
   "cell_type": "markdown",
   "metadata": {},
   "source": [
    "<div class=\"alert alert-block alert-success\"> \n",
    "<font size = 4> \n",
    "    \n",
    "- weights = ‘imagenet’ : use the pretrained weights instead of training the model from scratch\n",
    "- include_top=False : we want to load the model without the classifier layers and add our own\n",
    "- input_shape=(75, 75, 3): specify the preferred shape of the images in our dataset"
   ]
  },
  {
   "cell_type": "markdown",
   "metadata": {},
   "source": [
    "[top](#t0)"
   ]
  },
  {
   "cell_type": "markdown",
   "metadata": {},
   "source": [
    "### <a id = 't5.4'> \n",
    "<font size = 6 color = pwdrblue> <b> Freeze the convolution blocks"
   ]
  },
  {
   "cell_type": "code",
   "execution_count": 7,
   "metadata": {
    "id": "hRwF3O5khhqC"
   },
   "outputs": [],
   "source": [
    " for layer in model.layers[:17]:\n",
    "    layer.trainable = False\n",
    "\n",
    "\n",
    "#Adding custom Layers \n",
    "\n",
    "x = model.output\n",
    "x = Flatten()(x)\n",
    "x = Dense(256, activation=\"relu\")(x)\n",
    "x = Dropout(0.4)(x)"
   ]
  },
  {
   "cell_type": "markdown",
   "metadata": {},
   "source": [
    "[top](#t0)"
   ]
  },
  {
   "cell_type": "markdown",
   "metadata": {},
   "source": [
    "### <a id = 't5.5'> \n",
    "<font size = 6 color = pwdrblue> <b> Create the dense layers and compile"
   ]
  },
  {
   "cell_type": "code",
   "execution_count": 10,
   "metadata": {
    "id": "ZpSsxy9Whkk6"
   },
   "outputs": [],
   "source": [
    "predictions = Dense(8, activation=\"softmax\")(x)\n",
    "\n",
    "# creating the final model \n",
    "model_final = Model(inputs = model.input, outputs = predictions)\n",
    "\n",
    "# compile the model \n",
    "model_final.compile(loss = \"categorical_crossentropy\", optimizer = 'adam', metrics=[\"accuracy\"])"
   ]
  },
  {
   "cell_type": "code",
   "execution_count": 11,
   "metadata": {
    "colab": {
     "base_uri": "https://localhost:8080/",
     "height": 969
    },
    "id": "vtSYdBQphnKR",
    "outputId": "32dd4c50-a32e-48b2-c24e-64e0defeea4a"
   },
   "outputs": [
    {
     "name": "stdout",
     "output_type": "stream",
     "text": [
      "Model: \"model\"\n",
      "_________________________________________________________________\n",
      "Layer (type)                 Output Shape              Param #   \n",
      "=================================================================\n",
      "input_1 (InputLayer)         [(None, 75, 75, 3)]       0         \n",
      "_________________________________________________________________\n",
      "block1_conv1 (Conv2D)        (None, 75, 75, 64)        1792      \n",
      "_________________________________________________________________\n",
      "block1_conv2 (Conv2D)        (None, 75, 75, 64)        36928     \n",
      "_________________________________________________________________\n",
      "block1_pool (MaxPooling2D)   (None, 37, 37, 64)        0         \n",
      "_________________________________________________________________\n",
      "block2_conv1 (Conv2D)        (None, 37, 37, 128)       73856     \n",
      "_________________________________________________________________\n",
      "block2_conv2 (Conv2D)        (None, 37, 37, 128)       147584    \n",
      "_________________________________________________________________\n",
      "block2_pool (MaxPooling2D)   (None, 18, 18, 128)       0         \n",
      "_________________________________________________________________\n",
      "block3_conv1 (Conv2D)        (None, 18, 18, 256)       295168    \n",
      "_________________________________________________________________\n",
      "block3_conv2 (Conv2D)        (None, 18, 18, 256)       590080    \n",
      "_________________________________________________________________\n",
      "block3_conv3 (Conv2D)        (None, 18, 18, 256)       590080    \n",
      "_________________________________________________________________\n",
      "block3_pool (MaxPooling2D)   (None, 9, 9, 256)         0         \n",
      "_________________________________________________________________\n",
      "block4_conv1 (Conv2D)        (None, 9, 9, 512)         1180160   \n",
      "_________________________________________________________________\n",
      "block4_conv2 (Conv2D)        (None, 9, 9, 512)         2359808   \n",
      "_________________________________________________________________\n",
      "block4_conv3 (Conv2D)        (None, 9, 9, 512)         2359808   \n",
      "_________________________________________________________________\n",
      "block4_pool (MaxPooling2D)   (None, 4, 4, 512)         0         \n",
      "_________________________________________________________________\n",
      "block5_conv1 (Conv2D)        (None, 4, 4, 512)         2359808   \n",
      "_________________________________________________________________\n",
      "block5_conv2 (Conv2D)        (None, 4, 4, 512)         2359808   \n",
      "_________________________________________________________________\n",
      "block5_conv3 (Conv2D)        (None, 4, 4, 512)         2359808   \n",
      "_________________________________________________________________\n",
      "block5_pool (MaxPooling2D)   (None, 2, 2, 512)         0         \n",
      "_________________________________________________________________\n",
      "global_average_pooling2d (Gl (None, 512)               0         \n",
      "_________________________________________________________________\n",
      "flatten_1 (Flatten)          (None, 512)               0         \n",
      "_________________________________________________________________\n",
      "dense (Dense)                (None, 256)               131328    \n",
      "_________________________________________________________________\n",
      "dropout (Dropout)            (None, 256)               0         \n",
      "_________________________________________________________________\n",
      "dense_2 (Dense)              (None, 8)                 2056      \n",
      "=================================================================\n",
      "Total params: 14,848,072\n",
      "Trainable params: 2,493,192\n",
      "Non-trainable params: 12,354,880\n",
      "_________________________________________________________________\n"
     ]
    }
   ],
   "source": [
    "model_final.summary()"
   ]
  },
  {
   "cell_type": "markdown",
   "metadata": {},
   "source": [
    "[top](#t0)"
   ]
  },
  {
   "cell_type": "markdown",
   "metadata": {},
   "source": [
    "### <a id = 't5.6'> \n",
    "<font size = 6 color = pwdrblue> <b> Fit the model"
   ]
  },
  {
   "cell_type": "code",
   "execution_count": null,
   "metadata": {
    "colab": {
     "base_uri": "https://localhost:8080/",
     "height": 375
    },
    "id": "XOl6wX4whpJJ",
    "outputId": "82b0fef5-774f-4b4f-cba7-dcba1c92bca7"
   },
   "outputs": [
    {
     "name": "stdout",
     "output_type": "stream",
     "text": [
      "Epoch 1/10\n",
      "89/89 [==============================] - 214s 2s/step - loss: 2.1124 - accuracy: 0.1269 - val_loss: 2.0691 - val_accuracy: 0.1207\n",
      "Epoch 2/10\n",
      "89/89 [==============================] - ETA: 0s - loss: 2.0703 - accuracy: 0.1396"
     ]
    },
    {
     "ename": "KeyboardInterrupt",
     "evalue": "ignored",
     "output_type": "error",
     "traceback": [
      "\u001b[0;31m---------------------------------------------------------------------------\u001b[0m",
      "\u001b[0;31mKeyboardInterrupt\u001b[0m                         Traceback (most recent call last)",
      "\u001b[0;32m<ipython-input-53-cefdd79fd8c8>\u001b[0m in \u001b[0;36m<module>\u001b[0;34m()\u001b[0m\n\u001b[0;32m----> 1\u001b[0;31m \u001b[0mhistory\u001b[0m \u001b[0;34m=\u001b[0m \u001b[0mmodel_final\u001b[0m\u001b[0;34m.\u001b[0m\u001b[0mfit\u001b[0m\u001b[0;34m(\u001b[0m\u001b[0mX_train\u001b[0m\u001b[0;34m,\u001b[0m\u001b[0my_trainHot\u001b[0m\u001b[0;34m,\u001b[0m \u001b[0mbatch_size\u001b[0m\u001b[0;34m=\u001b[0m\u001b[0;36m32\u001b[0m\u001b[0;34m,\u001b[0m\u001b[0mepochs\u001b[0m\u001b[0;34m=\u001b[0m \u001b[0;36m10\u001b[0m\u001b[0;34m,\u001b[0m \u001b[0mvalidation_data\u001b[0m\u001b[0;34m=\u001b[0m \u001b[0;34m(\u001b[0m\u001b[0mX_val\u001b[0m\u001b[0;34m,\u001b[0m\u001b[0my_valHot\u001b[0m\u001b[0;34m)\u001b[0m\u001b[0;34m)\u001b[0m\u001b[0;34m\u001b[0m\u001b[0;34m\u001b[0m\u001b[0m\n\u001b[0m",
      "\u001b[0;32m/usr/local/lib/python3.6/dist-packages/tensorflow/python/keras/engine/training.py\u001b[0m in \u001b[0;36m_method_wrapper\u001b[0;34m(self, *args, **kwargs)\u001b[0m\n\u001b[1;32m    106\u001b[0m   \u001b[0;32mdef\u001b[0m \u001b[0m_method_wrapper\u001b[0m\u001b[0;34m(\u001b[0m\u001b[0mself\u001b[0m\u001b[0;34m,\u001b[0m \u001b[0;34m*\u001b[0m\u001b[0margs\u001b[0m\u001b[0;34m,\u001b[0m \u001b[0;34m**\u001b[0m\u001b[0mkwargs\u001b[0m\u001b[0;34m)\u001b[0m\u001b[0;34m:\u001b[0m\u001b[0;34m\u001b[0m\u001b[0;34m\u001b[0m\u001b[0m\n\u001b[1;32m    107\u001b[0m     \u001b[0;32mif\u001b[0m \u001b[0;32mnot\u001b[0m \u001b[0mself\u001b[0m\u001b[0;34m.\u001b[0m\u001b[0m_in_multi_worker_mode\u001b[0m\u001b[0;34m(\u001b[0m\u001b[0;34m)\u001b[0m\u001b[0;34m:\u001b[0m  \u001b[0;31m# pylint: disable=protected-access\u001b[0m\u001b[0;34m\u001b[0m\u001b[0;34m\u001b[0m\u001b[0m\n\u001b[0;32m--> 108\u001b[0;31m       \u001b[0;32mreturn\u001b[0m \u001b[0mmethod\u001b[0m\u001b[0;34m(\u001b[0m\u001b[0mself\u001b[0m\u001b[0;34m,\u001b[0m \u001b[0;34m*\u001b[0m\u001b[0margs\u001b[0m\u001b[0;34m,\u001b[0m \u001b[0;34m**\u001b[0m\u001b[0mkwargs\u001b[0m\u001b[0;34m)\u001b[0m\u001b[0;34m\u001b[0m\u001b[0;34m\u001b[0m\u001b[0m\n\u001b[0m\u001b[1;32m    109\u001b[0m \u001b[0;34m\u001b[0m\u001b[0m\n\u001b[1;32m    110\u001b[0m     \u001b[0;31m# Running inside `run_distribute_coordinator` already.\u001b[0m\u001b[0;34m\u001b[0m\u001b[0;34m\u001b[0m\u001b[0;34m\u001b[0m\u001b[0m\n",
      "\u001b[0;32m/usr/local/lib/python3.6/dist-packages/tensorflow/python/keras/engine/training.py\u001b[0m in \u001b[0;36mfit\u001b[0;34m(self, x, y, batch_size, epochs, verbose, callbacks, validation_split, validation_data, shuffle, class_weight, sample_weight, initial_epoch, steps_per_epoch, validation_steps, validation_batch_size, validation_freq, max_queue_size, workers, use_multiprocessing)\u001b[0m\n\u001b[1;32m   1131\u001b[0m               \u001b[0mworkers\u001b[0m\u001b[0;34m=\u001b[0m\u001b[0mworkers\u001b[0m\u001b[0;34m,\u001b[0m\u001b[0;34m\u001b[0m\u001b[0;34m\u001b[0m\u001b[0m\n\u001b[1;32m   1132\u001b[0m               \u001b[0muse_multiprocessing\u001b[0m\u001b[0;34m=\u001b[0m\u001b[0muse_multiprocessing\u001b[0m\u001b[0;34m,\u001b[0m\u001b[0;34m\u001b[0m\u001b[0;34m\u001b[0m\u001b[0m\n\u001b[0;32m-> 1133\u001b[0;31m               return_dict=True)\n\u001b[0m\u001b[1;32m   1134\u001b[0m           \u001b[0mval_logs\u001b[0m \u001b[0;34m=\u001b[0m \u001b[0;34m{\u001b[0m\u001b[0;34m'val_'\u001b[0m \u001b[0;34m+\u001b[0m \u001b[0mname\u001b[0m\u001b[0;34m:\u001b[0m \u001b[0mval\u001b[0m \u001b[0;32mfor\u001b[0m \u001b[0mname\u001b[0m\u001b[0;34m,\u001b[0m \u001b[0mval\u001b[0m \u001b[0;32min\u001b[0m \u001b[0mval_logs\u001b[0m\u001b[0;34m.\u001b[0m\u001b[0mitems\u001b[0m\u001b[0;34m(\u001b[0m\u001b[0;34m)\u001b[0m\u001b[0;34m}\u001b[0m\u001b[0;34m\u001b[0m\u001b[0;34m\u001b[0m\u001b[0m\n\u001b[1;32m   1135\u001b[0m           \u001b[0mepoch_logs\u001b[0m\u001b[0;34m.\u001b[0m\u001b[0mupdate\u001b[0m\u001b[0;34m(\u001b[0m\u001b[0mval_logs\u001b[0m\u001b[0;34m)\u001b[0m\u001b[0;34m\u001b[0m\u001b[0;34m\u001b[0m\u001b[0m\n",
      "\u001b[0;32m/usr/local/lib/python3.6/dist-packages/tensorflow/python/keras/engine/training.py\u001b[0m in \u001b[0;36m_method_wrapper\u001b[0;34m(self, *args, **kwargs)\u001b[0m\n\u001b[1;32m    106\u001b[0m   \u001b[0;32mdef\u001b[0m \u001b[0m_method_wrapper\u001b[0m\u001b[0;34m(\u001b[0m\u001b[0mself\u001b[0m\u001b[0;34m,\u001b[0m \u001b[0;34m*\u001b[0m\u001b[0margs\u001b[0m\u001b[0;34m,\u001b[0m \u001b[0;34m**\u001b[0m\u001b[0mkwargs\u001b[0m\u001b[0;34m)\u001b[0m\u001b[0;34m:\u001b[0m\u001b[0;34m\u001b[0m\u001b[0;34m\u001b[0m\u001b[0m\n\u001b[1;32m    107\u001b[0m     \u001b[0;32mif\u001b[0m \u001b[0;32mnot\u001b[0m \u001b[0mself\u001b[0m\u001b[0;34m.\u001b[0m\u001b[0m_in_multi_worker_mode\u001b[0m\u001b[0;34m(\u001b[0m\u001b[0;34m)\u001b[0m\u001b[0;34m:\u001b[0m  \u001b[0;31m# pylint: disable=protected-access\u001b[0m\u001b[0;34m\u001b[0m\u001b[0;34m\u001b[0m\u001b[0m\n\u001b[0;32m--> 108\u001b[0;31m       \u001b[0;32mreturn\u001b[0m \u001b[0mmethod\u001b[0m\u001b[0;34m(\u001b[0m\u001b[0mself\u001b[0m\u001b[0;34m,\u001b[0m \u001b[0;34m*\u001b[0m\u001b[0margs\u001b[0m\u001b[0;34m,\u001b[0m \u001b[0;34m**\u001b[0m\u001b[0mkwargs\u001b[0m\u001b[0;34m)\u001b[0m\u001b[0;34m\u001b[0m\u001b[0;34m\u001b[0m\u001b[0m\n\u001b[0m\u001b[1;32m    109\u001b[0m \u001b[0;34m\u001b[0m\u001b[0m\n\u001b[1;32m    110\u001b[0m     \u001b[0;31m# Running inside `run_distribute_coordinator` already.\u001b[0m\u001b[0;34m\u001b[0m\u001b[0;34m\u001b[0m\u001b[0;34m\u001b[0m\u001b[0m\n",
      "\u001b[0;32m/usr/local/lib/python3.6/dist-packages/tensorflow/python/keras/engine/training.py\u001b[0m in \u001b[0;36mevaluate\u001b[0;34m(self, x, y, batch_size, verbose, sample_weight, steps, callbacks, max_queue_size, workers, use_multiprocessing, return_dict)\u001b[0m\n\u001b[1;32m   1377\u001b[0m             \u001b[0;32mwith\u001b[0m \u001b[0mtrace\u001b[0m\u001b[0;34m.\u001b[0m\u001b[0mTrace\u001b[0m\u001b[0;34m(\u001b[0m\u001b[0;34m'TraceContext'\u001b[0m\u001b[0;34m,\u001b[0m \u001b[0mgraph_type\u001b[0m\u001b[0;34m=\u001b[0m\u001b[0;34m'test'\u001b[0m\u001b[0;34m,\u001b[0m \u001b[0mstep_num\u001b[0m\u001b[0;34m=\u001b[0m\u001b[0mstep\u001b[0m\u001b[0;34m)\u001b[0m\u001b[0;34m:\u001b[0m\u001b[0;34m\u001b[0m\u001b[0;34m\u001b[0m\u001b[0m\n\u001b[1;32m   1378\u001b[0m               \u001b[0mcallbacks\u001b[0m\u001b[0;34m.\u001b[0m\u001b[0mon_test_batch_begin\u001b[0m\u001b[0;34m(\u001b[0m\u001b[0mstep\u001b[0m\u001b[0;34m)\u001b[0m\u001b[0;34m\u001b[0m\u001b[0;34m\u001b[0m\u001b[0m\n\u001b[0;32m-> 1379\u001b[0;31m               \u001b[0mtmp_logs\u001b[0m \u001b[0;34m=\u001b[0m \u001b[0mtest_function\u001b[0m\u001b[0;34m(\u001b[0m\u001b[0miterator\u001b[0m\u001b[0;34m)\u001b[0m\u001b[0;34m\u001b[0m\u001b[0;34m\u001b[0m\u001b[0m\n\u001b[0m\u001b[1;32m   1380\u001b[0m               \u001b[0;32mif\u001b[0m \u001b[0mdata_handler\u001b[0m\u001b[0;34m.\u001b[0m\u001b[0mshould_sync\u001b[0m\u001b[0;34m:\u001b[0m\u001b[0;34m\u001b[0m\u001b[0;34m\u001b[0m\u001b[0m\n\u001b[1;32m   1381\u001b[0m                 \u001b[0mcontext\u001b[0m\u001b[0;34m.\u001b[0m\u001b[0masync_wait\u001b[0m\u001b[0;34m(\u001b[0m\u001b[0;34m)\u001b[0m\u001b[0;34m\u001b[0m\u001b[0;34m\u001b[0m\u001b[0m\n",
      "\u001b[0;32m/usr/local/lib/python3.6/dist-packages/tensorflow/python/eager/def_function.py\u001b[0m in \u001b[0;36m__call__\u001b[0;34m(self, *args, **kwds)\u001b[0m\n\u001b[1;32m    778\u001b[0m       \u001b[0;32melse\u001b[0m\u001b[0;34m:\u001b[0m\u001b[0;34m\u001b[0m\u001b[0;34m\u001b[0m\u001b[0m\n\u001b[1;32m    779\u001b[0m         \u001b[0mcompiler\u001b[0m \u001b[0;34m=\u001b[0m \u001b[0;34m\"nonXla\"\u001b[0m\u001b[0;34m\u001b[0m\u001b[0;34m\u001b[0m\u001b[0m\n\u001b[0;32m--> 780\u001b[0;31m         \u001b[0mresult\u001b[0m \u001b[0;34m=\u001b[0m \u001b[0mself\u001b[0m\u001b[0;34m.\u001b[0m\u001b[0m_call\u001b[0m\u001b[0;34m(\u001b[0m\u001b[0;34m*\u001b[0m\u001b[0margs\u001b[0m\u001b[0;34m,\u001b[0m \u001b[0;34m**\u001b[0m\u001b[0mkwds\u001b[0m\u001b[0;34m)\u001b[0m\u001b[0;34m\u001b[0m\u001b[0;34m\u001b[0m\u001b[0m\n\u001b[0m\u001b[1;32m    781\u001b[0m \u001b[0;34m\u001b[0m\u001b[0m\n\u001b[1;32m    782\u001b[0m       \u001b[0mnew_tracing_count\u001b[0m \u001b[0;34m=\u001b[0m \u001b[0mself\u001b[0m\u001b[0;34m.\u001b[0m\u001b[0m_get_tracing_count\u001b[0m\u001b[0;34m(\u001b[0m\u001b[0;34m)\u001b[0m\u001b[0;34m\u001b[0m\u001b[0;34m\u001b[0m\u001b[0m\n",
      "\u001b[0;32m/usr/local/lib/python3.6/dist-packages/tensorflow/python/eager/def_function.py\u001b[0m in \u001b[0;36m_call\u001b[0;34m(self, *args, **kwds)\u001b[0m\n\u001b[1;32m    812\u001b[0m       \u001b[0;31m# In this case we have not created variables on the first call. So we can\u001b[0m\u001b[0;34m\u001b[0m\u001b[0;34m\u001b[0m\u001b[0;34m\u001b[0m\u001b[0m\n\u001b[1;32m    813\u001b[0m       \u001b[0;31m# run the first trace but we should fail if variables are created.\u001b[0m\u001b[0;34m\u001b[0m\u001b[0;34m\u001b[0m\u001b[0;34m\u001b[0m\u001b[0m\n\u001b[0;32m--> 814\u001b[0;31m       \u001b[0mresults\u001b[0m \u001b[0;34m=\u001b[0m \u001b[0mself\u001b[0m\u001b[0;34m.\u001b[0m\u001b[0m_stateful_fn\u001b[0m\u001b[0;34m(\u001b[0m\u001b[0;34m*\u001b[0m\u001b[0margs\u001b[0m\u001b[0;34m,\u001b[0m \u001b[0;34m**\u001b[0m\u001b[0mkwds\u001b[0m\u001b[0;34m)\u001b[0m\u001b[0;34m\u001b[0m\u001b[0;34m\u001b[0m\u001b[0m\n\u001b[0m\u001b[1;32m    815\u001b[0m       \u001b[0;32mif\u001b[0m \u001b[0mself\u001b[0m\u001b[0;34m.\u001b[0m\u001b[0m_created_variables\u001b[0m\u001b[0;34m:\u001b[0m\u001b[0;34m\u001b[0m\u001b[0;34m\u001b[0m\u001b[0m\n\u001b[1;32m    816\u001b[0m         raise ValueError(\"Creating variables on a non-first call to a function\"\n",
      "\u001b[0;32m/usr/local/lib/python3.6/dist-packages/tensorflow/python/eager/function.py\u001b[0m in \u001b[0;36m__call__\u001b[0;34m(self, *args, **kwargs)\u001b[0m\n\u001b[1;32m   2827\u001b[0m     \u001b[0;32mwith\u001b[0m \u001b[0mself\u001b[0m\u001b[0;34m.\u001b[0m\u001b[0m_lock\u001b[0m\u001b[0;34m:\u001b[0m\u001b[0;34m\u001b[0m\u001b[0;34m\u001b[0m\u001b[0m\n\u001b[1;32m   2828\u001b[0m       \u001b[0mgraph_function\u001b[0m\u001b[0;34m,\u001b[0m \u001b[0margs\u001b[0m\u001b[0;34m,\u001b[0m \u001b[0mkwargs\u001b[0m \u001b[0;34m=\u001b[0m \u001b[0mself\u001b[0m\u001b[0;34m.\u001b[0m\u001b[0m_maybe_define_function\u001b[0m\u001b[0;34m(\u001b[0m\u001b[0margs\u001b[0m\u001b[0;34m,\u001b[0m \u001b[0mkwargs\u001b[0m\u001b[0;34m)\u001b[0m\u001b[0;34m\u001b[0m\u001b[0;34m\u001b[0m\u001b[0m\n\u001b[0;32m-> 2829\u001b[0;31m     \u001b[0;32mreturn\u001b[0m \u001b[0mgraph_function\u001b[0m\u001b[0;34m.\u001b[0m\u001b[0m_filtered_call\u001b[0m\u001b[0;34m(\u001b[0m\u001b[0margs\u001b[0m\u001b[0;34m,\u001b[0m \u001b[0mkwargs\u001b[0m\u001b[0;34m)\u001b[0m  \u001b[0;31m# pylint: disable=protected-access\u001b[0m\u001b[0;34m\u001b[0m\u001b[0;34m\u001b[0m\u001b[0m\n\u001b[0m\u001b[1;32m   2830\u001b[0m \u001b[0;34m\u001b[0m\u001b[0m\n\u001b[1;32m   2831\u001b[0m   \u001b[0;34m@\u001b[0m\u001b[0mproperty\u001b[0m\u001b[0;34m\u001b[0m\u001b[0;34m\u001b[0m\u001b[0m\n",
      "\u001b[0;32m/usr/local/lib/python3.6/dist-packages/tensorflow/python/eager/function.py\u001b[0m in \u001b[0;36m_filtered_call\u001b[0;34m(self, args, kwargs, cancellation_manager)\u001b[0m\n\u001b[1;32m   1846\u001b[0m                            resource_variable_ops.BaseResourceVariable))],\n\u001b[1;32m   1847\u001b[0m         \u001b[0mcaptured_inputs\u001b[0m\u001b[0;34m=\u001b[0m\u001b[0mself\u001b[0m\u001b[0;34m.\u001b[0m\u001b[0mcaptured_inputs\u001b[0m\u001b[0;34m,\u001b[0m\u001b[0;34m\u001b[0m\u001b[0;34m\u001b[0m\u001b[0m\n\u001b[0;32m-> 1848\u001b[0;31m         cancellation_manager=cancellation_manager)\n\u001b[0m\u001b[1;32m   1849\u001b[0m \u001b[0;34m\u001b[0m\u001b[0m\n\u001b[1;32m   1850\u001b[0m   \u001b[0;32mdef\u001b[0m \u001b[0m_call_flat\u001b[0m\u001b[0;34m(\u001b[0m\u001b[0mself\u001b[0m\u001b[0;34m,\u001b[0m \u001b[0margs\u001b[0m\u001b[0;34m,\u001b[0m \u001b[0mcaptured_inputs\u001b[0m\u001b[0;34m,\u001b[0m \u001b[0mcancellation_manager\u001b[0m\u001b[0;34m=\u001b[0m\u001b[0;32mNone\u001b[0m\u001b[0;34m)\u001b[0m\u001b[0;34m:\u001b[0m\u001b[0;34m\u001b[0m\u001b[0;34m\u001b[0m\u001b[0m\n",
      "\u001b[0;32m/usr/local/lib/python3.6/dist-packages/tensorflow/python/eager/function.py\u001b[0m in \u001b[0;36m_call_flat\u001b[0;34m(self, args, captured_inputs, cancellation_manager)\u001b[0m\n\u001b[1;32m   1922\u001b[0m       \u001b[0;31m# No tape is watching; skip to running the function.\u001b[0m\u001b[0;34m\u001b[0m\u001b[0;34m\u001b[0m\u001b[0;34m\u001b[0m\u001b[0m\n\u001b[1;32m   1923\u001b[0m       return self._build_call_outputs(self._inference_function.call(\n\u001b[0;32m-> 1924\u001b[0;31m           ctx, args, cancellation_manager=cancellation_manager))\n\u001b[0m\u001b[1;32m   1925\u001b[0m     forward_backward = self._select_forward_and_backward_functions(\n\u001b[1;32m   1926\u001b[0m         \u001b[0margs\u001b[0m\u001b[0;34m,\u001b[0m\u001b[0;34m\u001b[0m\u001b[0;34m\u001b[0m\u001b[0m\n",
      "\u001b[0;32m/usr/local/lib/python3.6/dist-packages/tensorflow/python/eager/function.py\u001b[0m in \u001b[0;36mcall\u001b[0;34m(self, ctx, args, cancellation_manager)\u001b[0m\n\u001b[1;32m    548\u001b[0m               \u001b[0minputs\u001b[0m\u001b[0;34m=\u001b[0m\u001b[0margs\u001b[0m\u001b[0;34m,\u001b[0m\u001b[0;34m\u001b[0m\u001b[0;34m\u001b[0m\u001b[0m\n\u001b[1;32m    549\u001b[0m               \u001b[0mattrs\u001b[0m\u001b[0;34m=\u001b[0m\u001b[0mattrs\u001b[0m\u001b[0;34m,\u001b[0m\u001b[0;34m\u001b[0m\u001b[0;34m\u001b[0m\u001b[0m\n\u001b[0;32m--> 550\u001b[0;31m               ctx=ctx)\n\u001b[0m\u001b[1;32m    551\u001b[0m         \u001b[0;32melse\u001b[0m\u001b[0;34m:\u001b[0m\u001b[0;34m\u001b[0m\u001b[0;34m\u001b[0m\u001b[0m\n\u001b[1;32m    552\u001b[0m           outputs = execute.execute_with_cancellation(\n",
      "\u001b[0;32m/usr/local/lib/python3.6/dist-packages/tensorflow/python/eager/execute.py\u001b[0m in \u001b[0;36mquick_execute\u001b[0;34m(op_name, num_outputs, inputs, attrs, ctx, name)\u001b[0m\n\u001b[1;32m     58\u001b[0m     \u001b[0mctx\u001b[0m\u001b[0;34m.\u001b[0m\u001b[0mensure_initialized\u001b[0m\u001b[0;34m(\u001b[0m\u001b[0;34m)\u001b[0m\u001b[0;34m\u001b[0m\u001b[0;34m\u001b[0m\u001b[0m\n\u001b[1;32m     59\u001b[0m     tensors = pywrap_tfe.TFE_Py_Execute(ctx._handle, device_name, op_name,\n\u001b[0;32m---> 60\u001b[0;31m                                         inputs, attrs, num_outputs)\n\u001b[0m\u001b[1;32m     61\u001b[0m   \u001b[0;32mexcept\u001b[0m \u001b[0mcore\u001b[0m\u001b[0;34m.\u001b[0m\u001b[0m_NotOkStatusException\u001b[0m \u001b[0;32mas\u001b[0m \u001b[0me\u001b[0m\u001b[0;34m:\u001b[0m\u001b[0;34m\u001b[0m\u001b[0;34m\u001b[0m\u001b[0m\n\u001b[1;32m     62\u001b[0m     \u001b[0;32mif\u001b[0m \u001b[0mname\u001b[0m \u001b[0;32mis\u001b[0m \u001b[0;32mnot\u001b[0m \u001b[0;32mNone\u001b[0m\u001b[0;34m:\u001b[0m\u001b[0;34m\u001b[0m\u001b[0;34m\u001b[0m\u001b[0m\n",
      "\u001b[0;31mKeyboardInterrupt\u001b[0m: "
     ]
    }
   ],
   "source": [
    "history = model_final.fit(X_train,y_trainHot, batch_size=32,epochs= 10, validation_data= (X_val,y_valHot))"
   ]
  },
  {
   "cell_type": "markdown",
   "metadata": {},
   "source": [
    "[top](#t0)"
   ]
  },
  {
   "cell_type": "markdown",
   "metadata": {
    "id": "misW5tUB0l0d"
   },
   "source": [
    "### <a id = 'tl5.7'> \n",
    "<font size = 6 color = pwdrblue> <b>Using the new VGG16 model"
   ]
  },
  {
   "cell_type": "code",
   "execution_count": null,
   "metadata": {
    "colab": {
     "base_uri": "https://localhost:8080/",
     "height": 298
    },
    "id": "V18vaq1v0pGq",
    "outputId": "5ab8ae01-6d31-43e2-f8d1-eefc47238835"
   },
   "outputs": [
    {
     "data": {
      "text/plain": [
       "Text(0.5, 1.0, 'Number of training images per category:')"
      ]
     },
     "execution_count": 61,
     "metadata": {
      "tags": []
     },
     "output_type": "execute_result"
    },
    {
     "data": {
      "image/png": "[encoded data removed]",
      "text/plain": [
       "<Figure size 432x288 with 1 Axes>"
      ]
     },
     "metadata": {
      "needs_background": "light",
      "tags": []
     },
     "output_type": "display_data"
    }
   ],
   "source": [
    "train_data_dir = \"/voc/work/data/train\"\n",
    "val_data_dir = \"/voc/work/data/validation\"\n",
    "test_data_dir = \"/voc/work/data/test\"\n",
    "category_names = sorted(os.listdir('/voc/work/data/train'))\n",
    "nb_categories = len(category_names)\n",
    "img_pr_cat = []\n",
    "for category in category_names:\n",
    "    folder = '/voc/work/data/train' + '/' + category\n",
    "    img_pr_cat.append(len(os.listdir(folder)))\n",
    "sns.barplot(y=category_names, x=img_pr_cat).set_title(\"Number of training images per category:\")"
   ]
  },
  {
   "cell_type": "code",
   "execution_count": null,
   "metadata": {
    "id": "2ViuxhOc1FLs"
   },
   "outputs": [],
   "source": [
    "for subdir, dirs, files in os.walk('data/train'):\n",
    "    for file in files:\n",
    "        img_file = subdir + '/' + file\n",
    "        image = load_img(img_file)\n",
    "        plt.figure()\n",
    "        plt.title(subdir)\n",
    "        plt.imshow(image)\n",
    "        break"
   ]
  },
  {
   "cell_type": "code",
   "execution_count": null,
   "metadata": {
    "colab": {
     "base_uri": "https://localhost:8080/",
     "height": 71
    },
    "id": "-30ezDPa17i_",
    "outputId": "f38efd86-15fe-4ee4-f38f-f7fd48a62ebc"
   },
   "outputs": [
    {
     "name": "stdout",
     "output_type": "stream",
     "text": [
      "Downloading data from https://storage.googleapis.com/tensorflow/keras-applications/vgg16/vgg16_weights_tf_dim_ordering_tf_kernels_notop.h5\n",
      "58892288/58889256 [==============================] - 0s 0us/step\n"
     ]
    }
   ],
   "source": [
    "from tensorflow.keras.applications import vgg16\n",
    "from tensorflow.keras.preprocessing.image import load_img\n",
    "from tensorflow.keras.preprocessing.image import img_to_array\n",
    "from tensorflow.keras.applications.vgg16 import preprocess_input\n",
    "from tensorflow.keras.applications.vgg16 import decode_predictions\n",
    "from tensorflow.keras.applications.vgg16 import VGG16\n",
    "img_height, img_width = 224,224\n",
    "conv_base = vgg16.VGG16(weights='imagenet', include_top=False, pooling='avg', input_shape = (img_width, img_height, 3))"
   ]
  },
  {
   "cell_type": "code",
   "execution_count": null,
   "metadata": {
    "colab": {
     "base_uri": "https://localhost:8080/",
     "height": 357
    },
    "id": "2z3tCGEJ8pyS",
    "outputId": "948b0e8c-4275-4c06-bcaa-6039a5b4638e"
   },
   "outputs": [
    {
     "name": "stdout",
     "output_type": "stream",
     "text": [
      "<tensorflow.python.keras.engine.input_layer.InputLayer object at 0x7f4ec451e940> True\n",
      "<tensorflow.python.keras.layers.convolutional.Conv2D object at 0x7f4f146b34e0> True\n",
      "<tensorflow.python.keras.layers.convolutional.Conv2D object at 0x7f4f156fe6d8> True\n",
      "<tensorflow.python.keras.layers.pooling.MaxPooling2D object at 0x7f4ec4058128> True\n",
      "<tensorflow.python.keras.layers.convolutional.Conv2D object at 0x7f4ec0417630> True\n",
      "<tensorflow.python.keras.layers.convolutional.Conv2D object at 0x7f4ec04204a8> True\n",
      "<tensorflow.python.keras.layers.pooling.MaxPooling2D object at 0x7f4ec04208d0> True\n",
      "<tensorflow.python.keras.layers.convolutional.Conv2D object at 0x7f4ec042a0f0> True\n",
      "<tensorflow.python.keras.layers.convolutional.Conv2D object at 0x7f4ec042af28> True\n",
      "<tensorflow.python.keras.layers.convolutional.Conv2D object at 0x7f4ec04333c8> True\n",
      "<tensorflow.python.keras.layers.pooling.MaxPooling2D object at 0x7f4ec0433c18> True\n",
      "<tensorflow.python.keras.layers.convolutional.Conv2D object at 0x7f4ec043c748> True\n",
      "<tensorflow.python.keras.layers.convolutional.Conv2D object at 0x7f4ec04435c0> True\n",
      "<tensorflow.python.keras.layers.convolutional.Conv2D object at 0x7f4ec04439e8> True\n",
      "<tensorflow.python.keras.layers.pooling.MaxPooling2D object at 0x7f4ec044c5c0> True\n",
      "<tensorflow.python.keras.layers.convolutional.Conv2D object at 0x7f4ec044cda0> True\n",
      "<tensorflow.python.keras.layers.convolutional.Conv2D object at 0x7f4ec03d5c18> True\n",
      "<tensorflow.python.keras.layers.convolutional.Conv2D object at 0x7f4ec03d5b70> True\n",
      "<tensorflow.python.keras.layers.pooling.MaxPooling2D object at 0x7f4ec03dd908> True\n",
      "<tensorflow.python.keras.layers.pooling.GlobalAveragePooling2D object at 0x7f4ec03e5438> True\n"
     ]
    }
   ],
   "source": [
    "for layer in conv_base.layers:\n",
    "    print(layer, layer.trainable)"
   ]
  },
  {
   "cell_type": "code",
   "execution_count": null,
   "metadata": {
    "id": "nfFyvRSE19d6"
   },
   "outputs": [],
   "source": [
    "for layer in conv_base.layers[:-13]:\n",
    "    layer.trainable = False"
   ]
  },
  {
   "cell_type": "code",
   "execution_count": null,
   "metadata": {
    "colab": {
     "base_uri": "https://localhost:8080/",
     "height": 391
    },
    "id": "sIcxtp0e1_5L",
    "outputId": "ff632755-ad1b-47c6-9045-0049fd91887c"
   },
   "outputs": [
    {
     "name": "stdout",
     "output_type": "stream",
     "text": [
      "Model: \"sequential\"\n",
      "_________________________________________________________________\n",
      "Layer (type)                 Output Shape              Param #   \n",
      "=================================================================\n",
      "vgg16 (Functional)           (None, 512)               14714688  \n",
      "_________________________________________________________________\n",
      "dense (Dense)                (None, 256)               131328    \n",
      "_________________________________________________________________\n",
      "dropout (Dropout)            (None, 256)               0         \n",
      "_________________________________________________________________\n",
      "dense_1 (Dense)              (None, 1024)              263168    \n",
      "_________________________________________________________________\n",
      "dropout_1 (Dropout)          (None, 1024)              0         \n",
      "_________________________________________________________________\n",
      "dense_2 (Dense)              (None, 512)               524800    \n",
      "_________________________________________________________________\n",
      "dense_3 (Dense)              (None, 8)                 4104      \n",
      "=================================================================\n",
      "Total params: 15,638,088\n",
      "Trainable params: 15,377,928\n",
      "Non-trainable params: 260,160\n",
      "_________________________________________________________________\n"
     ]
    }
   ],
   "source": [
    "from tensorflow.python.keras import layers, models, Model, optimizers\n",
    "model = models.Sequential()\n",
    "model.add(conv_base)\n",
    "model.add(layers.Dense(256, activation='relu'))\n",
    "model.add(layers.Dropout(0.5))\n",
    "model.add(layers.Dense(1024, activation='relu'))\n",
    "model.add(layers.Dropout(0.5))\n",
    "model.add(layers.Dense(512, activation='relu'))\n",
    "# model.add(layers.Dropout(0.25))\n",
    "# model.add(layers.Dense(256, activation='relu'))\n",
    "# model.add(layers.Dropout(0.25))\n",
    "model.add(layers.Dense(nb_categories, activation='softmax'))\n",
    "model.summary()"
   ]
  },
  {
   "cell_type": "code",
   "execution_count": null,
   "metadata": {
    "colab": {
     "base_uri": "https://localhost:8080/",
     "height": 119
    },
    "id": "mzsy3H3q2DGv",
    "outputId": "271d0ce3-a0b6-424c-8ec7-491c941929d1"
   },
   "outputs": [
    {
     "name": "stdout",
     "output_type": "stream",
     "text": [
      "Total number of images for \"training\":\n",
      "Found 4605 images belonging to 8 classes.\n",
      "Total number of images for \"validation\":\n",
      "Found 585 images belonging to 8 classes.\n",
      "Total number of images for \"testing\":\n",
      "Found 570 images belonging to 8 classes.\n"
     ]
    }
   ],
   "source": [
    "from tensorflow.python.keras.preprocessing.image import ImageDataGenerator, load_img\n",
    "\n",
    "#Number of images to load at each iteration\n",
    "batch_size = 32\n",
    "# only rescaling\n",
    "train_datagen =  ImageDataGenerator(\n",
    "    rescale=1./255\n",
    ")\n",
    "test_datagen =  ImageDataGenerator(\n",
    "    rescale=1./255\n",
    ")\n",
    "val_datagen =  ImageDataGenerator(\n",
    "    rescale=1./255\n",
    ")\n",
    "# these are generators for train/test data that will read pictures #found in the defined subfolders of 'data/'\n",
    "print('Total number of images for \"training\":')\n",
    "train_generator = train_datagen.flow_from_directory(\n",
    "train_data_dir,\n",
    "target_size = (img_height, img_width),\n",
    "batch_size = batch_size, \n",
    "class_mode = \"categorical\")\n",
    "print('Total number of images for \"validation\":')\n",
    "val_generator = val_datagen.flow_from_directory(\n",
    "val_data_dir,\n",
    "target_size = (img_height, img_width),\n",
    "batch_size = batch_size,\n",
    "class_mode = \"categorical\",\n",
    "shuffle=False)\n",
    "print('Total number of images for \"testing\":')\n",
    "test_generator = test_datagen.flow_from_directory(\n",
    "test_data_dir,\n",
    "target_size = (img_height, img_width),\n",
    "batch_size = batch_size,\n",
    "class_mode = \"categorical\",\n",
    "shuffle=False)"
   ]
  },
  {
   "cell_type": "code",
   "execution_count": null,
   "metadata": {
    "id": "vk3p-ecB2Fxt"
   },
   "outputs": [],
   "source": [
    "from tensorflow.python.keras.applications import vgg16\n",
    "from tensorflow.python.keras.applications.vgg16 import preprocess_input\n",
    "from tensorflow.python.keras.callbacks import ModelCheckpoint\n",
    "from tensorflow.keras import layers, models, Model, optimizers\n",
    "\n",
    "from sklearn.metrics import classification_report, confusion_matrix, accuracy_score\n",
    "\n",
    "learning_rate = 5e-5\n",
    "epochs = 10\n",
    "model.compile(loss=\"categorical_crossentropy\", optimizer=optimizers.Adam(lr=learning_rate), metrics = ['acc'])"
   ]
  },
  {
   "cell_type": "code",
   "execution_count": null,
   "metadata": {
    "colab": {
     "base_uri": "https://localhost:8080/",
     "height": 428
    },
    "id": "LzZIu0CHjtA6",
    "outputId": "0e72819c-8bf1-417d-bdce-87d2e200aacc"
   },
   "outputs": [
    {
     "name": "stdout",
     "output_type": "stream",
     "text": [
      "WARNING:tensorflow:From <ipython-input-11-74ae1961e50d>:4: Model.fit_generator (from tensorflow.python.keras.engine.training) is deprecated and will be removed in a future version.\n",
      "Instructions for updating:\n",
      "Please use Model.fit, which supports generators.\n",
      "Epoch 1/10\n",
      "288/288 [==============================] - 2254s 8s/step - loss: 2.0790 - acc: 0.1338 - val_loss: 2.0624 - val_acc: 0.1333\n",
      "Epoch 2/10\n",
      "288/288 [==============================] - 80s 277ms/step - loss: 2.0650 - acc: 0.1299 - val_loss: 2.0695 - val_acc: 0.1470\n",
      "Epoch 3/10\n",
      "288/288 [==============================] - 80s 277ms/step - loss: 2.0361 - acc: 0.1613 - val_loss: 1.9316 - val_acc: 0.1709\n",
      "Epoch 4/10\n",
      "288/288 [==============================] - 80s 278ms/step - loss: 1.9310 - acc: 0.2450 - val_loss: 1.6827 - val_acc: 0.3470\n",
      "Epoch 5/10\n",
      "288/288 [==============================] - 80s 278ms/step - loss: 1.6828 - acc: 0.3516 - val_loss: 1.4740 - val_acc: 0.4034\n",
      "Epoch 6/10\n",
      "288/288 [==============================] - 80s 278ms/step - loss: 1.5178 - acc: 0.4063 - val_loss: 1.3480 - val_acc: 0.4855\n",
      "Epoch 7/10\n",
      "288/288 [==============================] - 80s 278ms/step - loss: 1.3461 - acc: 0.4814 - val_loss: 1.2421 - val_acc: 0.5214\n",
      "Epoch 8/10\n",
      "288/288 [==============================] - 80s 278ms/step - loss: 1.2104 - acc: 0.5403 - val_loss: 1.3666 - val_acc: 0.4872\n",
      "Epoch 9/10\n",
      "288/288 [==============================] - 80s 278ms/step - loss: 1.0024 - acc: 0.6243 - val_loss: 1.0662 - val_acc: 0.5641\n",
      "Epoch 10/10\n",
      "288/288 [==============================] - 80s 278ms/step - loss: 0.8765 - acc: 0.6717 - val_loss: 0.8711 - val_acc: 0.6701\n"
     ]
    }
   ],
   "source": [
    "history = model.fit_generator(train_generator, \n",
    "                              epochs=epochs, \n",
    "                              shuffle=False, \n",
    "                              validation_data=val_generator,\n",
    "                              )"
   ]
  },
  {
   "cell_type": "code",
   "execution_count": null,
   "metadata": {
    "colab": {
     "base_uri": "https://localhost:8080/",
     "height": 573
    },
    "id": "Urg5B71Mxrrp",
    "outputId": "7c80141b-bf69-4710-8902-448f019ef428"
   },
   "outputs": [
    {
     "data": {
      "image/png": "[encoded data removed]",
      "text/plain": [
       "<Figure size 432x288 with 1 Axes>"
      ]
     },
     "metadata": {
      "needs_background": "light",
      "tags": []
     },
     "output_type": "display_data"
    },
    {
     "data": {
      "image/png": "[encoded data removed]",
      "text/plain": [
       "<Figure size 432x288 with 1 Axes>"
      ]
     },
     "metadata": {
      "needs_background": "light",
      "tags": []
     },
     "output_type": "display_data"
    }
   ],
   "source": [
    "# PRINT MODEL HISTORY OF ACCURACY AND LOSS OVER EPOCHS\n",
    "plt.plot(history.history['acc'])\n",
    "plt.plot(history.history['val_acc'])\n",
    "plt.title('model accuracy')\n",
    "plt.ylabel('accuracy')\n",
    "plt.xlabel('epoch')\n",
    "plt.legend(['train', 'test'], loc='upper left')\n",
    "# plt.savefig('Augmented_Model_Accuracy.png')\n",
    "plt.show()\n",
    "# summarize history for loss\n",
    "plt.plot(history.history['loss'])\n",
    "plt.plot(history.history['val_loss'])\n",
    "plt.title('model loss')\n",
    "plt.ylabel('loss')\n",
    "plt.xlabel('epoch')\n",
    "plt.legend(['train', 'test'], loc='upper left')\n",
    "# plt.savefig('Augmented_Model_Loss.png')\n",
    "plt.show()"
   ]
  },
  {
   "cell_type": "markdown",
   "metadata": {},
   "source": [
    "[top](#t0)"
   ]
  },
  {
   "cell_type": "markdown",
   "metadata": {},
   "source": [
    "### <a id = 't5.8'> \n",
    "<font size = 6 color = pwdrblue> <b> Evaluation using confusion matrix"
   ]
  },
  {
   "cell_type": "code",
   "execution_count": null,
   "metadata": {
    "colab": {
     "base_uri": "https://localhost:8080/",
     "height": 105
    },
    "id": "yEVGauoCxz4K",
    "outputId": "7ac34db7-c3d5-454d-89f6-01f1bc9c1cfb"
   },
   "outputs": [
    {
     "name": "stdout",
     "output_type": "stream",
     "text": [
      "WARNING:tensorflow:From <ipython-input-15-ba7753ba5a6a>:1: Model.predict_generator (from tensorflow.python.keras.engine.training) is deprecated and will be removed in a future version.\n",
      "Instructions for updating:\n",
      "Please use Model.predict, which supports generators.\n",
      "Confusion matrix, without normalization\n"
     ]
    }
   ],
   "source": [
    "Y_pred = model.predict_generator(test_generator)\n",
    "y_pred = np.argmax(Y_pred, axis=1)\n",
    "\n",
    "cm = confusion_matrix(test_generator.classes, y_pred)\n",
    "plot_confusion_matrix(cm, classes = category_names, title='Confusion Matrix', normalize=False, figname = 'Confusion_matrix_concrete.jpg')\n"
   ]
  },
  {
   "cell_type": "code",
   "execution_count": null,
   "metadata": {
    "colab": {
     "base_uri": "https://localhost:8080/",
     "height": 585
    },
    "id": "921e5ADwIjY4",
    "outputId": "11b10170-9d8f-472b-a9f2-cdd793472f70"
   },
   "outputs": [],
   "source": [
    "import numpy as np\n",
    "import matplotlib.pyplot as plt\n",
    "import itertools"
   ]
  },
  {
   "cell_type": "code",
   "execution_count": null,
   "metadata": {
    "colab": {
     "base_uri": "https://localhost:8080/",
     "height": 585
    },
    "id": "921e5ADwIjY4",
    "outputId": "11b10170-9d8f-472b-a9f2-cdd793472f70"
   },
   "outputs": [],
   "source": [
    "cmap=plt.cm.Blues\n",
    "title='Confusion matrix'\n",
    "classes = category_names\n",
    "normalize=False\n",
    "figname = 'Confusion_matrix_concrete.jpg'\n",
    "\n",
    "def plot_confusion_matrix(cm, classes, figname, normalize=False, title='Confusion matrix',cmap=plt.cm.Blues):\n",
    "    if normalize:\n",
    "        cm = cm.astype(\"float\") / cm.sum(axis=1)[:, np.newaxis]\n",
    "        print('Normalized confusion matrix')\n",
    "    else:\n",
    "        print(\"Confusion matrix, without normalization\")"
   ]
  },
  {
   "cell_type": "code",
   "execution_count": null,
   "metadata": {
    "colab": {
     "base_uri": "https://localhost:8080/",
     "height": 585
    },
    "id": "921e5ADwIjY4",
    "outputId": "11b10170-9d8f-472b-a9f2-cdd793472f70"
   },
   "outputs": [
    {
     "data": {
      "image/png": "[encoded data removed]",
      "text/plain": [
       "<Figure size 576x576 with 1 Axes>"
      ]
     },
     "metadata": {
      "needs_background": "light",
      "tags": []
     },
     "output_type": "display_data"
    }
   ],
   "source": [
    "plt.figure(figsize=(8,8))\n",
    "plt.imshow(cm, interpolation=\"nearest\", cmap=cmap)\n",
    "plt.title(title)\n",
    " #plt.colorbar()\n",
    "tick_marks = np.arange(len(classes))\n",
    "plt.xticks(tick_marks, classes, rotation=90)\n",
    "plt.yticks(tick_marks, classes)\n",
    "fmt = \".2f\" if normalize else \"d\"\n",
    "thresh = cm.max() / 2.\n",
    "for i, j in itertools.product(range(cm.shape[0]), range(cm.shape[1])):\n",
    "    plt.text(j, i, format(cm[i, j], fmt),\n",
    "    horizontalalignment=\"center\",\n",
    "    color=\"white\" if cm[i, j] > thresh else \"black\")\n",
    "    plt.ylabel(\"True label\")\n",
    "    plt.xlabel(\"Predicted label\")\n",
    "    plt.tight_layout()\n",
    "    plt.savefig(figname)"
   ]
  },
  {
   "cell_type": "code",
   "execution_count": null,
   "metadata": {
    "colab": {
     "base_uri": "https://localhost:8080/",
     "height": 34
    },
    "id": "a1Qx0-Rcx0jd",
    "outputId": "f0bb9fb5-98af-462e-950a-e16f0714aaf6"
   },
   "outputs": [
    {
     "name": "stdout",
     "output_type": "stream",
     "text": [
      "Accuracy in test set: 66.0% \n"
     ]
    }
   ],
   "source": [
    "accuracy = accuracy_score(test_generator.classes, y_pred)\n",
    "print(\"Accuracy in test set: %0.1f%% \" % (accuracy * 100))"
   ]
  },
  {
   "cell_type": "code",
   "execution_count": null,
   "metadata": {},
   "outputs": [],
   "source": []
  }
 ],
 "metadata": {
  "accelerator": "GPU",
  "colab": {
   "include_colab_link": true,
   "name": "4. Transfer_Learning - Data Augmentation.ipynb",
   "provenance": []
  },
  "kernelspec": {
   "display_name": "Python 3 (ipykernel)",
   "language": "python",
   "name": "python3"
  },
  "language_info": {
   "codemirror_mode": {
    "name": "ipython",
    "version": 3
   },
   "file_extension": ".py",
   "mimetype": "text/x-python",
   "name": "python",
   "nbconvert_exporter": "python",
   "pygments_lexer": "ipython3",
   "version": "3.9.12"
  }
 },
 "nbformat": 4,
 "nbformat_minor": 4
}
