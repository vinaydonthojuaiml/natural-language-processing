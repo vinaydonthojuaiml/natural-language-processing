{
 "cells": [
  {
   "cell_type": "markdown",
   "id": "bd1f2c13",
   "metadata": {},
   "source": [
    "### GloVe Embeddings\n",
    "### Trained on Wikipedia 2014 corpus of 6 billion words with embedding size = 100"
   ]
  },
  {
   "cell_type": "code",
   "execution_count": 1,
   "id": "c405d4fe",
   "metadata": {},
   "outputs": [],
   "source": [
    "import torch\n",
    "import torchtext"
   ]
  },
  {
   "cell_type": "code",
   "execution_count": 2,
   "id": "7532ce47",
   "metadata": {},
   "outputs": [
    {
     "data": {
      "text/plain": [
       "tensor([ 0.4528, -0.5011, -0.5371, -0.0157,  0.2219,  0.5460, -0.6730, -0.6891,\n",
       "         0.6349, -0.1973,  0.3368,  0.7735,  0.9009,  0.3849,  0.3837,  0.2657,\n",
       "        -0.0806,  0.6109, -1.2894, -0.2231, -0.6158,  0.2170,  0.3561,  0.4450,\n",
       "         0.6089, -1.1633, -1.1579,  0.3612,  0.1047, -0.7832,  1.4352,  0.1863,\n",
       "        -0.2611,  0.8328, -0.2312,  0.3248,  0.1449, -0.4455,  0.3350, -0.9595,\n",
       "        -0.0975,  0.4814, -0.4335,  0.6945,  0.9104, -0.2817,  0.4164, -1.2609,\n",
       "         0.7128,  0.2378])"
      ]
     },
     "execution_count": 2,
     "metadata": {},
     "output_type": "execute_result"
    }
   ],
   "source": [
    "# Define Glove\n",
    "glove = torchtext.vocab.GloVe(name=\"6B\", dim=50)\n",
    "\n",
    "# test \n",
    "glove['cat']"
   ]
  },
  {
   "cell_type": "code",
   "execution_count": 3,
   "id": "b1ae438f",
   "metadata": {},
   "outputs": [
    {
     "data": {
      "text/plain": [
       "tensor(1.8846)"
      ]
     },
     "execution_count": 3,
     "metadata": {},
     "output_type": "execute_result"
    }
   ],
   "source": [
    "# Distance measurement\n",
    "\n",
    "x = glove['cat']\n",
    "y = glove['dog']\n",
    "torch.norm(y - x)"
   ]
  },
  {
   "cell_type": "code",
   "execution_count": 4,
   "id": "7cbf5e8c",
   "metadata": {},
   "outputs": [
    {
     "data": {
      "text/plain": [
       "tensor([0.9218])"
      ]
     },
     "execution_count": 4,
     "metadata": {},
     "output_type": "execute_result"
    }
   ],
   "source": [
    "# Cosine Similarity \n",
    "\n",
    "x = torch.tensor([1., 1., 1.]).unsqueeze(0)\n",
    "y = torch.tensor([2., 2., 2.]).unsqueeze(0)\n",
    "torch.cosine_similarity(x, y) \n",
    "\n",
    "x = glove['cat']\n",
    "y = glove['dog']\n",
    "torch.cosine_similarity(x.unsqueeze(0), y.unsqueeze(0))"
   ]
  },
  {
   "cell_type": "code",
   "execution_count": 5,
   "id": "ad5df44e",
   "metadata": {},
   "outputs": [
    {
     "name": "stdout",
     "output_type": "stream",
     "text": [
      "dog 1.8846031427383423\n",
      "bike 5.048375129699707\n",
      "kitten 3.5068609714508057\n",
      "puppy 3.0644655227661133\n",
      "kite 4.210376262664795\n",
      "computer 6.030652046203613\n",
      "neuron 6.228669166564941\n"
     ]
    }
   ],
   "source": [
    "# Word Similarity\n",
    "\n",
    "word = 'cat'\n",
    "other = ['dog', 'bike', 'kitten', 'puppy', 'kite', 'computer', 'neuron']\n",
    "for w in other:\n",
    "    dist = torch.norm(glove[word] - glove[w])  \n",
    "    print(w, float(dist))"
   ]
  },
  {
   "cell_type": "code",
   "execution_count": 6,
   "id": "850e1959",
   "metadata": {},
   "outputs": [],
   "source": [
    "def print_closest_words(vec, n=5):\n",
    "    dists = torch.norm(glove.vectors - vec, dim=1)     \n",
    "    lst = sorted(enumerate(dists.numpy()), key=lambda x: x[1]) \n",
    "    for idx, difference in lst[1:n+1]:                         \n",
    "        print(glove.itos[idx], difference)"
   ]
  },
  {
   "cell_type": "code",
   "execution_count": 7,
   "id": "9bc8796a",
   "metadata": {},
   "outputs": [
    {
     "name": "stdout",
     "output_type": "stream",
     "text": [
      "dog 1.8846031\n",
      "rabbit 2.4572797\n",
      "monkey 2.8102052\n",
      "cats 2.8972247\n",
      "rat 2.9455352\n",
      "beast 2.9878407\n",
      "monster 3.0022194\n",
      "pet 3.0396757\n",
      "snake 3.0617998\n",
      "puppy 3.0644655\n"
     ]
    }
   ],
   "source": [
    "print_closest_words(glove[\"cat\"], n=10)"
   ]
  },
  {
   "cell_type": "code",
   "execution_count": 15,
   "id": "4c8168cf",
   "metadata": {},
   "outputs": [
    {
     "name": "stdout",
     "output_type": "stream",
     "text": [
      "doctor 3.1274529\n",
      "dentist 3.1306612\n",
      "nurses 3.26872\n",
      "pediatrician 3.3212206\n",
      "counselor 3.3987114\n"
     ]
    }
   ],
   "source": [
    "print_closest_words(glove['nurse'])"
   ]
  },
  {
   "cell_type": "code",
   "execution_count": 16,
   "id": "e3141db5",
   "metadata": {},
   "outputs": [
    {
     "name": "stdout",
     "output_type": "stream",
     "text": [
      "computers 2.4362664\n",
      "software 2.926823\n",
      "technology 3.190351\n",
      "electronic 3.5067408\n",
      "computing 3.5999784\n"
     ]
    }
   ],
   "source": [
    "print_closest_words(glove['computer'])"
   ]
  },
  {
   "cell_type": "code",
   "execution_count": 17,
   "id": "ad1c1cea",
   "metadata": {},
   "outputs": [
    {
     "name": "stdout",
     "output_type": "stream",
     "text": [
      "happy 1.9199749\n",
      "feels 2.3604643\n",
      "sorry 2.4984782\n",
      "hardly 2.52593\n",
      "imagine 2.5652788\n"
     ]
    }
   ],
   "source": [
    "print_closest_words((glove['happy'] + glove['sad']) / 2)"
   ]
  },
  {
   "cell_type": "code",
   "execution_count": 18,
   "id": "a4466cc0",
   "metadata": {},
   "outputs": [
    {
     "name": "stdout",
     "output_type": "stream",
     "text": [
      "surrounding 3.0698414\n",
      "nearby 3.1112068\n",
      "bridge 3.1585503\n",
      "along 3.1610188\n",
      "shore 3.1618817\n"
     ]
    }
   ],
   "source": [
    "print_closest_words((glove['lake'] + glove['building']) / 2)"
   ]
  },
  {
   "cell_type": "code",
   "execution_count": 9,
   "id": "6bd80927",
   "metadata": {},
   "outputs": [
    {
     "name": "stdout",
     "output_type": "stream",
     "text": [
      "queen 2.8391209\n",
      "prince 3.6610038\n",
      "elizabeth 3.7152522\n",
      "daughter 3.8317878\n",
      "widow 3.8493774\n"
     ]
    }
   ],
   "source": [
    "# King Queen example\n",
    "\n",
    "print_closest_words(glove['king'] - glove['man'] + glove['woman'])\n"
   ]
  },
  {
   "cell_type": "code",
   "execution_count": 10,
   "id": "cbe48660",
   "metadata": {},
   "outputs": [
    {
     "name": "stdout",
     "output_type": "stream",
     "text": [
      "king 2.8391209\n",
      "prince 3.2508988\n",
      "crown 3.4485192\n",
      "knight 3.5587437\n",
      "coronation 3.6198905\n",
      "queen 3.1845968\n",
      "king 3.9103293\n",
      "bride 4.285721\n",
      "lady 4.299571\n",
      "sister 4.421178\n"
     ]
    }
   ],
   "source": [
    "print_closest_words(glove['queen'] - glove['woman'] + glove['man'])\n",
    "print_closest_words(glove['king'] - glove['prince'] + glove['princess'])"
   ]
  },
  {
   "cell_type": "code",
   "execution_count": 22,
   "id": "0e2e14ed",
   "metadata": {},
   "outputs": [
    {
     "name": "stdout",
     "output_type": "stream",
     "text": [
      "grandmother 2.323353\n",
      "uncle 2.0784423\n",
      "father 4.0326614\n",
      "versatile 4.381561\n",
      "hacker 3.8383653\n",
      "nurse 3.1355345\n",
      "man 3.9335632\n",
      "prodigy 3.6688528\n",
      "setup 4.002241\n",
      "technician 3.6926973\n",
      "builder 4.3523865\n"
     ]
    }
   ],
   "source": [
    "def print_closest_words(vec, n=1):\n",
    "    dists = torch.norm(glove.vectors - vec, dim=1)     \n",
    "    lst = sorted(enumerate(dists.numpy()), key=lambda x: x[1]) \n",
    "    for idx, difference in lst[1:n+1]:                         \n",
    "        print(glove.itos[idx], difference)\n",
    "\n",
    "\n",
    "print_closest_words(glove['uncle'] - glove['man'] + glove['woman'])\n",
    "print_closest_words(glove['grandmother'] - glove['mother'] + glove['father'])\n",
    "print_closest_words(glove['old'] - glove['young'] + glove['father'])\n",
    "print_closest_words(glove['programmer'] - glove['bad'] + glove['good'])\n",
    "print_closest_words(glove['programmer'] - glove['good'] + glove['bad'])\n",
    "print_closest_words(glove['doctor'] - glove['man'] + glove['woman'])\n",
    "print_closest_words(glove['doctor'] - glove['woman'] + glove['man'])\n",
    "print_closest_words(glove['programmer'] - glove['man'] + glove['woman'])\n",
    "print_closest_words(glove['programmer'] - glove['woman'] + glove['man'])\n",
    "print_closest_words(glove['engineer'] - glove['man'] + glove['woman'])\n",
    "print_closest_words(glove['engineer'] - glove['woman'] + glove['man'])"
   ]
  },
  {
   "cell_type": "code",
   "execution_count": null,
   "id": "0664938f",
   "metadata": {},
   "outputs": [],
   "source": []
  }
 ],
 "metadata": {
  "kernelspec": {
   "display_name": "Python (tf)",
   "language": "python",
   "name": "tf"
  },
  "language_info": {
   "codemirror_mode": {
    "name": "ipython",
    "version": 3
   },
   "file_extension": ".py",
   "mimetype": "text/x-python",
   "name": "python",
   "nbconvert_exporter": "python",
   "pygments_lexer": "ipython3",
   "version": "3.7.11"
  }
 },
 "nbformat": 4,
 "nbformat_minor": 5
}
