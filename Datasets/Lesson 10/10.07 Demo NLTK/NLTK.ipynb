{
 "cells": [
  {
   "cell_type": "code",
   "execution_count": 1,
   "id": "9c1f71cc",
   "metadata": {},
   "outputs": [],
   "source": [
    "import nltk\n",
    "from nltk.tokenize import sent_tokenize, PunktSentenceTokenizer\n",
    "from nltk.corpus import gutenberg\n",
    "from nltk.corpus import wordnet\n",
    "from nltk.stem import PorterStemmer\n",
    "from nltk.stem import WordNetLemmatizer\n",
    "import urllib.request\n",
    "from bs4 import BeautifulSoup\n",
    "from nltk.corpus import stopwords\n",
    "from nltk.tokenize import sent_tokenize\n",
    "from nltk.tag import pos_tag\n",
    "from nltk.corpus import twitter_samples"
   ]
  },
  {
   "cell_type": "code",
   "execution_count": 2,
   "id": "84cbddcf",
   "metadata": {},
   "outputs": [
    {
     "name": "stdout",
     "output_type": "stream",
     "text": [
      "/opt/anaconda3/envs/tf/lib/python3.7/site-packages/nltk/__init__.py\n"
     ]
    }
   ],
   "source": [
    "print(nltk.__file__)"
   ]
  },
  {
   "cell_type": "code",
   "execution_count": 3,
   "id": "271c74d9",
   "metadata": {},
   "outputs": [
    {
     "name": "stdout",
     "output_type": "stream",
     "text": [
      "showing info https://raw.githubusercontent.com/nltk/nltk_data/gh-pages/index.xml\n"
     ]
    },
    {
     "data": {
      "text/plain": [
       "True"
      ]
     },
     "execution_count": 3,
     "metadata": {},
     "output_type": "execute_result"
    }
   ],
   "source": [
    "# choose whatto install - popup\n",
    "\n",
    "nltk.download()"
   ]
  },
  {
   "cell_type": "code",
   "execution_count": 4,
   "id": "37d8d86c",
   "metadata": {},
   "outputs": [
    {
     "name": "stderr",
     "output_type": "stream",
     "text": [
      "[nltk_data] Downloading package stopwords to\n",
      "[nltk_data]     /Users/macbook/nltk_data...\n",
      "[nltk_data]   Package stopwords is already up-to-date!\n",
      "[nltk_data] Downloading package wordnet to /Users/macbook/nltk_data...\n",
      "[nltk_data]   Package wordnet is already up-to-date!\n",
      "[nltk_data] Downloading package twitter_samples to\n",
      "[nltk_data]     /Users/macbook/nltk_data...\n",
      "[nltk_data]   Package twitter_samples is already up-to-date!\n",
      "[nltk_data] Downloading package gutenberg to\n",
      "[nltk_data]     /Users/macbook/nltk_data...\n",
      "[nltk_data]   Package gutenberg is already up-to-date!\n",
      "[nltk_data] Downloading package punkt to /Users/macbook/nltk_data...\n",
      "[nltk_data]   Package punkt is already up-to-date!\n",
      "[nltk_data] Downloading package averaged_perceptron_tagger to\n",
      "[nltk_data]     /Users/macbook/nltk_data...\n",
      "[nltk_data]   Unzipping taggers/averaged_perceptron_tagger.zip.\n"
     ]
    },
    {
     "data": {
      "text/plain": [
       "True"
      ]
     },
     "execution_count": 4,
     "metadata": {},
     "output_type": "execute_result"
    }
   ],
   "source": [
    "# individual\n",
    "\n",
    "nltk.download('stopwords')\n",
    "nltk.download('wordnet')\n",
    "nltk.download('twitter_samples')\n",
    "nltk.download('gutenberg')\n",
    "nltk.download('punkt')\n",
    "nltk.download('averaged_perceptron_tagger')"
   ]
  },
  {
   "cell_type": "code",
   "execution_count": 5,
   "id": "1b5e1a36",
   "metadata": {},
   "outputs": [
    {
     "name": "stdout",
     "output_type": "stream",
     "text": [
      "[The King James Bible]\n",
      "\n",
      "The Old Testament of the King James Bible\n",
      "\n",
      "The First Book of Moses:  Called Genesis\n",
      "\n",
      "\n",
      "1:1 In the beginning God created the heaven and the earth.\n",
      "1:2 And the earth was without form, and void; and darkness was upon\n",
      "the face of the deep.\n",
      "And the Spirit of God moved upon the face of the\n",
      "waters.\n",
      "1:3 And God said, Let there be light: and there was light.\n",
      "1:4 And God saw the light, that it was good: and God divided the light\n",
      "from the darkness.\n"
     ]
    }
   ],
   "source": [
    "# tokenize\n",
    "\n",
    "sample = gutenberg.raw(\"bible-kjv.txt\")\n",
    "tok = sent_tokenize(sample)\n",
    "for x in range(5):print(tok[x])"
   ]
  },
  {
   "cell_type": "code",
   "execution_count": 6,
   "id": "6b06bdf9",
   "metadata": {},
   "outputs": [
    {
     "name": "stdout",
     "output_type": "stream",
     "text": [
      "a series of steps to be carried out or goals to be accomplished\n",
      "plan.n.01\n",
      "plan\n",
      "['they drew up a six-step plan', 'they discussed plans for a new bond issue']\n"
     ]
    }
   ],
   "source": [
    "# synsets\n",
    "\n",
    "syn = wordnet.synsets(\"program\")\n",
    "print(syn[0].definition())\n",
    "print(syn[0].name())\n",
    "print(syn[0].lemmas()[0].name())\n",
    "print(syn[0].examples())"
   ]
  },
  {
   "cell_type": "code",
   "execution_count": 7,
   "id": "361e9476",
   "metadata": {},
   "outputs": [
    {
     "name": "stdout",
     "output_type": "stream",
     "text": [
      "['good', 'good', 'goodness', 'good', 'goodness', 'commodity', 'trade_good', 'good', 'good', 'full', 'good', 'good', 'estimable', 'good', 'honorable', 'respectable', 'beneficial', 'good', 'good', 'good', 'just', 'upright', 'adept', 'expert', 'good', 'practiced', 'proficient', 'skillful', 'skilful', 'good', 'dear', 'good', 'near', 'dependable', 'good', 'safe', 'secure', 'good', 'right', 'ripe', 'good', 'well', 'effective', 'good', 'in_effect', 'in_force', 'good', 'good', 'serious', 'good', 'sound', 'good', 'salutary', 'good', 'honest', 'good', 'undecomposed', 'unspoiled', 'unspoilt', 'good', 'well', 'good', 'thoroughly', 'soundly', 'good']\n"
     ]
    }
   ],
   "source": [
    "synonyms = []\n",
    "for syn in wordnet.synsets('good'): \n",
    " for lemma in syn.lemmas(): \n",
    "   synonyms.append(lemma.name())\n",
    "print(synonyms)"
   ]
  },
  {
   "cell_type": "code",
   "execution_count": 8,
   "id": "f75cff8c",
   "metadata": {},
   "outputs": [
    {
     "name": "stdout",
     "output_type": "stream",
     "text": [
      "['evil', 'evilness', 'bad', 'badness', 'bad', 'evil', 'ill']\n"
     ]
    }
   ],
   "source": [
    "antonyms = []\n",
    "for syn in wordnet.synsets(\"good\"):\n",
    " for ant in syn.lemmas():\n",
    "  if ant.antonyms():\n",
    "   antonyms.append(ant.antonyms()[0].name())\n",
    "print(antonyms)"
   ]
  },
  {
   "cell_type": "code",
   "execution_count": 9,
   "id": "ea8bfea1",
   "metadata": {},
   "outputs": [
    {
     "name": "stdout",
     "output_type": "stream",
     "text": [
      "0.9090909090909091\n"
     ]
    }
   ],
   "source": [
    "# similarities\n",
    "\n",
    "w1 = wordnet.synset('ship.n.01')\n",
    "w2 = wordnet.synset('boat.n.01')\n",
    "print(w1.wup_similarity(w2))"
   ]
  },
  {
   "cell_type": "code",
   "execution_count": 10,
   "id": "d6299c1d",
   "metadata": {},
   "outputs": [
    {
     "name": "stdout",
     "output_type": "stream",
     "text": [
      "0.6956521739130435\n"
     ]
    }
   ],
   "source": [
    "w1 = wordnet.synset('ship.n.01')\n",
    "w2 = wordnet.synset('car.n.01')\n",
    "print(w1.wup_similarity(w2))"
   ]
  },
  {
   "cell_type": "code",
   "execution_count": 11,
   "id": "bdbd0f41",
   "metadata": {},
   "outputs": [
    {
     "name": "stdout",
     "output_type": "stream",
     "text": [
      "0.32\n"
     ]
    }
   ],
   "source": [
    "w1 = wordnet.synset('ship.n.01')\n",
    "w2 = wordnet.synset('cat.n.01')\n",
    "print(w1.wup_similarity(w2))"
   ]
  },
  {
   "cell_type": "code",
   "execution_count": 12,
   "id": "68c063a1",
   "metadata": {},
   "outputs": [
    {
     "name": "stdout",
     "output_type": "stream",
     "text": [
      "uninhabit\n"
     ]
    }
   ],
   "source": [
    "# stemmer\n",
    "\n",
    "stemmer = PorterStemmer()\n",
    "print(stemmer.stem('uninhabitable'))"
   ]
  },
  {
   "cell_type": "code",
   "execution_count": 13,
   "id": "01d64ff4",
   "metadata": {},
   "outputs": [
    {
     "name": "stdout",
     "output_type": "stream",
     "text": [
      "running\n"
     ]
    }
   ],
   "source": [
    "# lemmatizer\n",
    "\n",
    "lemmatizer = WordNetLemmatizer()\n",
    "print(lemmatizer.lemmatize('running'))"
   ]
  },
  {
   "cell_type": "code",
   "execution_count": 14,
   "id": "b7f420cd",
   "metadata": {},
   "outputs": [
    {
     "name": "stdout",
     "output_type": "stream",
     "text": [
      "run\n"
     ]
    }
   ],
   "source": [
    "print(lemmatizer.lemmatize('running', pos=\"v\"))\n"
   ]
  },
  {
   "cell_type": "code",
   "execution_count": 15,
   "id": "c9849df8",
   "metadata": {},
   "outputs": [
    {
     "name": "stdout",
     "output_type": "stream",
     "text": [
      "b\"\\n\\n\\n\\n\\n<html>\\n  <head>\\n    <title>hbot Stage</title>\\n  </head>\\n  <body>    <h1>NLP Python</h1>\\n\\n\\n<p>All the world's a stage,\\nAnd all the men and women merely players;\\nThey have their exits and their entrances,\\nAnd one man in his time plays many parts,\\nHis acts being seven ages. At first, the infant,\\nMewling and puking in the nurse's arms.\\nThen the whining schoolboy, with his satchel\\nAnd shining morning face, creeping like snail\\nUnwillingly to school. And then the lover,\\nSighing like furnace, with a woeful ballad\\nMade to his mistress' eyebrow. Then a soldier,\\nFull of strange oaths and bearded like the pard,\\nJealous in honour, sudden and quick in quarrel,\\nSeeking the bubble reputation\\nEven in the cannon's mouth. And then the justice,\\nIn fair round belly with good capon lined,\\nWith eyes severe and beard of formal cut,\\nFull of wise saws and modern instances;\\nAnd so he plays his part. The sixth age shifts\\nInto the lean and slippered pantaloon,\\nWith spectacles on nose and pouch on side;\\nHis youthful hose, well saved, a world too wide\\nFor his shrunk shank, and his big manly voice,\\nTurning again toward childish treble, pipes\\nAnd whistles in his sound. Last scene of all,\\nThat ends this strange eventful history,\\nIs second childishness and mere oblivion,\\nSans teeth, sans eyes, sans taste, sans everything. \\n</p>  </body>\\n</html>\\n\"\n"
     ]
    }
   ],
   "source": [
    "# import urllib.request\n",
    "response = urllib.request.urlopen('https://www.hbot.live/')\n",
    "html = response.read()\n",
    "print (html)\n"
   ]
  },
  {
   "cell_type": "code",
   "execution_count": 16,
   "id": "1de742bb",
   "metadata": {},
   "outputs": [
    {
     "name": "stdout",
     "output_type": "stream",
     "text": [
      "hbot StageNLP PythonAll the world's a stage,\n",
      "And all the men and women merely players;\n",
      "They have their exits and their entrances,\n",
      "And one man in his time plays many parts,\n",
      "His acts being seven ages. At first, the infant,\n",
      "Mewling and puking in the nurse's arms.\n",
      "Then the whining schoolboy, with his satchel\n",
      "And shining morning face, creeping like snail\n",
      "Unwillingly to school. And then the lover,\n",
      "Sighing like furnace, with a woeful ballad\n",
      "Made to his mistress' eyebrow. Then a soldier,\n",
      "Full of strange oaths and bearded like the pard,\n",
      "Jealous in honour, sudden and quick in quarrel,\n",
      "Seeking the bubble reputation\n",
      "Even in the cannon's mouth. And then the justice,\n",
      "In fair round belly with good capon lined,\n",
      "With eyes severe and beard of formal cut,\n",
      "Full of wise saws and modern instances;\n",
      "And so he plays his part. The sixth age shifts\n",
      "Into the lean and slippered pantaloon,\n",
      "With spectacles on nose and pouch on side;\n",
      "His youthful hose, well saved, a world too wide\n",
      "For his shrunk shank, and his big manly voice,\n",
      "Turning again toward childish treble, pipes\n",
      "And whistles in his sound. Last scene of all,\n",
      "That ends this strange eventful history,\n",
      "Is second childishness and mere oblivion,\n",
      "Sans teeth, sans eyes, sans taste, sans everything.\n"
     ]
    }
   ],
   "source": [
    "# conda install bs4\n",
    "# conda install html5lib\n",
    "soup = BeautifulSoup(html,\"html5lib\")\n",
    "text = soup.get_text(strip=True)\n",
    "print (text)"
   ]
  },
  {
   "cell_type": "code",
   "execution_count": 17,
   "id": "03fec733",
   "metadata": {},
   "outputs": [
    {
     "name": "stdout",
     "output_type": "stream",
     "text": [
      "['hbot', 'StageNLP', 'PythonAll', 'the', \"world's\", 'a', 'stage,', 'And', 'all', 'the', 'men', 'and', 'women', 'merely', 'players;', 'They', 'have', 'their', 'exits', 'and', 'their', 'entrances,', 'And', 'one', 'man', 'in', 'his', 'time', 'plays', 'many', 'parts,', 'His', 'acts', 'being', 'seven', 'ages.', 'At', 'first,', 'the', 'infant,', 'Mewling', 'and', 'puking', 'in', 'the', \"nurse's\", 'arms.', 'Then', 'the', 'whining', 'schoolboy,', 'with', 'his', 'satchel', 'And', 'shining', 'morning', 'face,', 'creeping', 'like', 'snail', 'Unwillingly', 'to', 'school.', 'And', 'then', 'the', 'lover,', 'Sighing', 'like', 'furnace,', 'with', 'a', 'woeful', 'ballad', 'Made', 'to', 'his', \"mistress'\", 'eyebrow.', 'Then', 'a', 'soldier,', 'Full', 'of', 'strange', 'oaths', 'and', 'bearded', 'like', 'the', 'pard,', 'Jealous', 'in', 'honour,', 'sudden', 'and', 'quick', 'in', 'quarrel,', 'Seeking', 'the', 'bubble', 'reputation', 'Even', 'in', 'the', \"cannon's\", 'mouth.', 'And', 'then', 'the', 'justice,', 'In', 'fair', 'round', 'belly', 'with', 'good', 'capon', 'lined,', 'With', 'eyes', 'severe', 'and', 'beard', 'of', 'formal', 'cut,', 'Full', 'of', 'wise', 'saws', 'and', 'modern', 'instances;', 'And', 'so', 'he', 'plays', 'his', 'part.', 'The', 'sixth', 'age', 'shifts', 'Into', 'the', 'lean', 'and', 'slippered', 'pantaloon,', 'With', 'spectacles', 'on', 'nose', 'and', 'pouch', 'on', 'side;', 'His', 'youthful', 'hose,', 'well', 'saved,', 'a', 'world', 'too', 'wide', 'For', 'his', 'shrunk', 'shank,', 'and', 'his', 'big', 'manly', 'voice,', 'Turning', 'again', 'toward', 'childish', 'treble,', 'pipes', 'And', 'whistles', 'in', 'his', 'sound.', 'Last', 'scene', 'of', 'all,', 'That', 'ends', 'this', 'strange', 'eventful', 'history,', 'Is', 'second', 'childishness', 'and', 'mere', 'oblivion,', 'Sans', 'teeth,', 'sans', 'eyes,', 'sans', 'taste,', 'sans', 'everything.']\n"
     ]
    }
   ],
   "source": [
    "tokens = [t for t in text.split()]\n",
    "print (tokens)"
   ]
  },
  {
   "cell_type": "code",
   "execution_count": 18,
   "id": "8fd3248d",
   "metadata": {},
   "outputs": [
    {
     "name": "stdout",
     "output_type": "stream",
     "text": [
      "hbot:1\n",
      "StageNLP:1\n",
      "PythonAll:1\n",
      "the:11\n",
      "world's:1\n",
      "a:4\n",
      "stage,:1\n",
      "And:7\n",
      "all:1\n",
      "men:1\n",
      "and:11\n",
      "women:1\n",
      "merely:1\n",
      "players;:1\n",
      "They:1\n",
      "have:1\n",
      "their:2\n",
      "exits:1\n",
      "entrances,:1\n",
      "one:1\n",
      "man:1\n",
      "in:6\n",
      "his:7\n",
      "time:1\n",
      "plays:2\n",
      "many:1\n",
      "parts,:1\n",
      "His:2\n",
      "acts:1\n",
      "being:1\n",
      "seven:1\n",
      "ages.:1\n",
      "At:1\n",
      "first,:1\n",
      "infant,:1\n",
      "Mewling:1\n",
      "puking:1\n",
      "nurse's:1\n",
      "arms.:1\n",
      "Then:2\n",
      "whining:1\n",
      "schoolboy,:1\n",
      "with:3\n",
      "satchel:1\n",
      "shining:1\n",
      "morning:1\n",
      "face,:1\n",
      "creeping:1\n",
      "like:3\n",
      "snail:1\n",
      "Unwillingly:1\n",
      "to:2\n",
      "school.:1\n",
      "then:2\n",
      "lover,:1\n",
      "Sighing:1\n",
      "furnace,:1\n",
      "woeful:1\n",
      "ballad:1\n",
      "Made:1\n",
      "mistress':1\n",
      "eyebrow.:1\n",
      "soldier,:1\n",
      "Full:2\n",
      "of:4\n",
      "strange:2\n",
      "oaths:1\n",
      "bearded:1\n",
      "pard,:1\n",
      "Jealous:1\n",
      "honour,:1\n",
      "sudden:1\n",
      "quick:1\n",
      "quarrel,:1\n",
      "Seeking:1\n",
      "bubble:1\n",
      "reputation:1\n",
      "Even:1\n",
      "cannon's:1\n",
      "mouth.:1\n",
      "justice,:1\n",
      "In:1\n",
      "fair:1\n",
      "round:1\n",
      "belly:1\n",
      "good:1\n",
      "capon:1\n",
      "lined,:1\n",
      "With:2\n",
      "eyes:1\n",
      "severe:1\n",
      "beard:1\n",
      "formal:1\n",
      "cut,:1\n",
      "wise:1\n",
      "saws:1\n",
      "modern:1\n",
      "instances;:1\n",
      "so:1\n",
      "he:1\n",
      "part.:1\n",
      "The:1\n",
      "sixth:1\n",
      "age:1\n",
      "shifts:1\n",
      "Into:1\n",
      "lean:1\n",
      "slippered:1\n",
      "pantaloon,:1\n",
      "spectacles:1\n",
      "on:2\n",
      "nose:1\n",
      "pouch:1\n",
      "side;:1\n",
      "youthful:1\n",
      "hose,:1\n",
      "well:1\n",
      "saved,:1\n",
      "world:1\n",
      "too:1\n",
      "wide:1\n",
      "For:1\n",
      "shrunk:1\n",
      "shank,:1\n",
      "big:1\n",
      "manly:1\n",
      "voice,:1\n",
      "Turning:1\n",
      "again:1\n",
      "toward:1\n",
      "childish:1\n",
      "treble,:1\n",
      "pipes:1\n",
      "whistles:1\n",
      "sound.:1\n",
      "Last:1\n",
      "scene:1\n",
      "all,:1\n",
      "That:1\n",
      "ends:1\n",
      "this:1\n",
      "eventful:1\n",
      "history,:1\n",
      "Is:1\n",
      "second:1\n",
      "childishness:1\n",
      "mere:1\n",
      "oblivion,:1\n",
      "Sans:1\n",
      "teeth,:1\n",
      "sans:3\n",
      "eyes,:1\n",
      "taste,:1\n",
      "everything.:1\n"
     ]
    }
   ],
   "source": [
    "# frequency\n",
    "\n",
    "freq = nltk.FreqDist(tokens)\n",
    "for key,val in freq.items(): print (str(key) + ':' + str(val))"
   ]
  },
  {
   "cell_type": "code",
   "execution_count": 19,
   "id": "feef66d5",
   "metadata": {},
   "outputs": [
    {
     "name": "stdout",
     "output_type": "stream",
     "text": [
      "hbot:1\n",
      "StageNLP:1\n",
      "PythonAll:1\n",
      "world's:1\n",
      "stage,:1\n",
      "And:7\n",
      "men:1\n",
      "women:1\n",
      "merely:1\n",
      "players;:1\n",
      "They:1\n",
      "exits:1\n",
      "entrances,:1\n",
      "one:1\n",
      "man:1\n",
      "time:1\n",
      "plays:2\n",
      "many:1\n",
      "parts,:1\n",
      "His:2\n",
      "acts:1\n",
      "seven:1\n",
      "ages.:1\n",
      "At:1\n",
      "first,:1\n",
      "infant,:1\n",
      "Mewling:1\n",
      "puking:1\n",
      "nurse's:1\n",
      "arms.:1\n",
      "Then:2\n",
      "whining:1\n",
      "schoolboy,:1\n",
      "satchel:1\n",
      "shining:1\n",
      "morning:1\n",
      "face,:1\n",
      "creeping:1\n",
      "like:3\n",
      "snail:1\n",
      "Unwillingly:1\n",
      "school.:1\n",
      "lover,:1\n",
      "Sighing:1\n",
      "furnace,:1\n",
      "woeful:1\n",
      "ballad:1\n",
      "Made:1\n",
      "mistress':1\n",
      "eyebrow.:1\n",
      "soldier,:1\n",
      "Full:2\n",
      "strange:2\n",
      "oaths:1\n",
      "bearded:1\n",
      "pard,:1\n",
      "Jealous:1\n",
      "honour,:1\n",
      "sudden:1\n",
      "quick:1\n",
      "quarrel,:1\n",
      "Seeking:1\n",
      "bubble:1\n",
      "reputation:1\n",
      "Even:1\n",
      "cannon's:1\n",
      "mouth.:1\n",
      "justice,:1\n",
      "In:1\n",
      "fair:1\n",
      "round:1\n",
      "belly:1\n",
      "good:1\n",
      "capon:1\n",
      "lined,:1\n",
      "With:2\n",
      "eyes:1\n",
      "severe:1\n",
      "beard:1\n",
      "formal:1\n",
      "cut,:1\n",
      "wise:1\n",
      "saws:1\n",
      "modern:1\n",
      "instances;:1\n",
      "part.:1\n",
      "The:1\n",
      "sixth:1\n",
      "age:1\n",
      "shifts:1\n",
      "Into:1\n",
      "lean:1\n",
      "slippered:1\n",
      "pantaloon,:1\n",
      "spectacles:1\n",
      "nose:1\n",
      "pouch:1\n",
      "side;:1\n",
      "youthful:1\n",
      "hose,:1\n",
      "well:1\n",
      "saved,:1\n",
      "world:1\n",
      "wide:1\n",
      "For:1\n",
      "shrunk:1\n",
      "shank,:1\n",
      "big:1\n",
      "manly:1\n",
      "voice,:1\n",
      "Turning:1\n",
      "toward:1\n",
      "childish:1\n",
      "treble,:1\n",
      "pipes:1\n",
      "whistles:1\n",
      "sound.:1\n",
      "Last:1\n",
      "scene:1\n",
      "all,:1\n",
      "That:1\n",
      "ends:1\n",
      "eventful:1\n",
      "history,:1\n",
      "Is:1\n",
      "second:1\n",
      "childishness:1\n",
      "mere:1\n",
      "oblivion,:1\n",
      "Sans:1\n",
      "teeth,:1\n",
      "sans:3\n",
      "eyes,:1\n",
      "taste,:1\n",
      "everything.:1\n"
     ]
    }
   ],
   "source": [
    "# stopwords\n",
    "\n",
    "clean_tokens = tokens[:]\n",
    "for token in tokens:\n",
    " if token in stopwords.words('english'):\n",
    "  clean_tokens.remove(token)\n",
    "  \n",
    "freq = nltk.FreqDist(clean_tokens)\n",
    "for key,val in freq.items(): print (str(key) + ':' + str(val)) "
   ]
  },
  {
   "cell_type": "code",
   "execution_count": 20,
   "id": "5df62c6c",
   "metadata": {},
   "outputs": [
    {
     "name": "stdout",
     "output_type": "stream",
     "text": [
      "151\n"
     ]
    }
   ],
   "source": [
    "print (len(clean_tokens))"
   ]
  },
  {
   "cell_type": "code",
   "execution_count": 21,
   "id": "60b32fb0",
   "metadata": {},
   "outputs": [
    {
     "name": "stdout",
     "output_type": "stream",
     "text": [
      "[\"hbot StageNLP PythonAll the world's a stage,\\nAnd all the men and women merely players;\\nThey have their exits and their entrances,\\nAnd one man in his time plays many parts,\\nHis acts being seven ages.\", \"At first, the infant,\\nMewling and puking in the nurse's arms.\", 'Then the whining schoolboy, with his satchel\\nAnd shining morning face, creeping like snail\\nUnwillingly to school.', \"And then the lover,\\nSighing like furnace, with a woeful ballad\\nMade to his mistress' eyebrow.\", \"Then a soldier,\\nFull of strange oaths and bearded like the pard,\\nJealous in honour, sudden and quick in quarrel,\\nSeeking the bubble reputation\\nEven in the cannon's mouth.\", 'And then the justice,\\nIn fair round belly with good capon lined,\\nWith eyes severe and beard of formal cut,\\nFull of wise saws and modern instances;\\nAnd so he plays his part.', 'The sixth age shifts\\nInto the lean and slippered pantaloon,\\nWith spectacles on nose and pouch on side;\\nHis youthful hose, well saved, a world too wide\\nFor his shrunk shank, and his big manly voice,\\nTurning again toward childish treble, pipes\\nAnd whistles in his sound.', 'Last scene of all,\\nThat ends this strange eventful history,\\nIs second childishness and mere oblivion,\\nSans teeth, sans eyes, sans taste, sans everything.']\n"
     ]
    }
   ],
   "source": [
    "print(sent_tokenize(text))"
   ]
  },
  {
   "cell_type": "code",
   "execution_count": 22,
   "id": "1c44d184",
   "metadata": {},
   "outputs": [
    {
     "name": "stdout",
     "output_type": "stream",
     "text": [
      "[('#FollowFriday', 'JJ'), ('@France_Inte', 'NNP'), ('@PKuchly57', 'NNP'), ('@Milipol_Paris', 'NNP'), ('for', 'IN'), ('being', 'VBG'), ('top', 'JJ'), ('engaged', 'VBN'), ('members', 'NNS'), ('in', 'IN'), ('my', 'PRP$'), ('community', 'NN'), ('this', 'DT'), ('week', 'NN'), (':)', 'NN')]\n"
     ]
    }
   ],
   "source": [
    "tweet_tokens = twitter_samples.tokenized('positive_tweets.json')\n",
    "print(pos_tag(tweet_tokens[0]))"
   ]
  },
  {
   "cell_type": "code",
   "execution_count": null,
   "id": "4b402394",
   "metadata": {},
   "outputs": [],
   "source": []
  },
  {
   "cell_type": "code",
   "execution_count": null,
   "id": "f98c7fe7",
   "metadata": {},
   "outputs": [],
   "source": []
  },
  {
   "cell_type": "code",
   "execution_count": null,
   "id": "17f6135b",
   "metadata": {},
   "outputs": [],
   "source": []
  }
 ],
 "metadata": {
  "kernelspec": {
   "display_name": "Python (tf)",
   "language": "python",
   "name": "tf"
  },
  "language_info": {
   "codemirror_mode": {
    "name": "ipython",
    "version": 3
   },
   "file_extension": ".py",
   "mimetype": "text/x-python",
   "name": "python",
   "nbconvert_exporter": "python",
   "pygments_lexer": "ipython3",
   "version": "3.7.11"
  }
 },
 "nbformat": 4,
 "nbformat_minor": 5
}
